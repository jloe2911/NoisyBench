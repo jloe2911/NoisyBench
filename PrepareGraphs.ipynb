{
 "cells": [
  {
   "cell_type": "code",
   "execution_count": 20,
   "id": "e168883c-69ca-41f3-be58-20cb77fbd5a1",
   "metadata": {},
   "outputs": [],
   "source": [
    "import pandas as pd\n",
    "import rdflib\n",
    "from rdflib import URIRef\n",
    "from owlready2 import get_ontology\n",
    "from tqdm import tqdm\n",
    "from glob import glob\n",
    "import logging\n",
    "import os\n",
    "from sklearn.model_selection import train_test_split\n"
   ]
  },
  {
   "cell_type": "code",
   "execution_count": 21,
   "id": "e60086c1",
   "metadata": {},
   "outputs": [],
   "source": [
    "dataset_name = 'OWL2DL-1'"
   ]
  },
  {
   "cell_type": "markdown",
   "id": "600bfeb3",
   "metadata": {},
   "source": [
    "**Filter unnecessary inferred triples**"
   ]
  },
  {
   "cell_type": "code",
   "execution_count": 22,
   "id": "69ae5631",
   "metadata": {},
   "outputs": [
    {
     "name": "stdout",
     "output_type": "stream",
     "text": [
      "# Subject-Resources: 3668\n"
     ]
    }
   ],
   "source": [
    "ontology = get_ontology(f'datasets/{dataset_name}.owl').load()\n",
    "subject_resources = list(ontology.individuals())\n",
    "named_individuals = [URIRef(x.iri) for x in subject_resources]\n",
    "print(f'# Subject-Resources: {len(subject_resources)}')"
   ]
  },
  {
   "cell_type": "code",
   "execution_count": 23,
   "id": "2890122c",
   "metadata": {},
   "outputs": [],
   "source": [
    "def filter_triples(inferred_path, filtered_inferred_path):    \n",
    "    g_inferred = rdflib.Graph()\n",
    "    g_inferred.parse(inferred_path, format=\"ttl\")\n",
    "    g_inferred_filtered = rdflib.Graph()\n",
    "    for triple in g_inferred: \n",
    "        if triple[0] in named_individuals or triple[2] in named_individuals:\n",
    "            g_inferred_filtered.add(triple)\n",
    "    g_inferred_filtered.serialize(filtered_inferred_path, format=\"ttl\")"
   ]
  },
  {
   "cell_type": "code",
   "execution_count": 25,
   "id": "19eef997",
   "metadata": {},
   "outputs": [
    {
     "name": "stderr",
     "output_type": "stream",
     "text": [
      "100%|██████████| 3662/3662 [3:50:06<00:00,  3.77s/it]  \n"
     ]
    }
   ],
   "source": [
    "for input_graph_path in tqdm(sorted(glob('MyJenaProject/output/' + \"*\"))):\n",
    "    filter_triples(input_graph_path, input_graph_path.replace('output','output_filtered'))"
   ]
  },
  {
   "cell_type": "markdown",
   "id": "e9d70fcc",
   "metadata": {},
   "source": [
    "**Create train, test, val sets**"
   ]
  },
  {
   "cell_type": "code",
   "execution_count": 2,
   "id": "95250b79",
   "metadata": {},
   "outputs": [],
   "source": [
    "def get_graph_type(s):\n",
    "    s = s.split('/')[-1]\n",
    "    s = s.split('_')[:-1]\n",
    "    s = \"_\".join(s)\n",
    "    return s"
   ]
  },
  {
   "cell_type": "code",
   "execution_count": 3,
   "id": "42ff4939-7885-4f6d-98b4-d011f54210d2",
   "metadata": {},
   "outputs": [],
   "source": [
    "def get_files_df(INPUT_GRAPHS_FOLDER, INFERENCE_GRAPHS_FOLDER):\n",
    "    logging.info(\"Creating dataframe for OWL2DL-1 input/inference pairs\")\n",
    "    rdf_files = []\n",
    "    for input_graph_path in tqdm(sorted(glob(INPUT_GRAPHS_FOLDER + \"*\"))):\n",
    "        input_graph_file = os.path.basename(input_graph_path)\n",
    "        inference_path = INFERENCE_GRAPHS_FOLDER + input_graph_file.replace('.ttl','_inferred.ttl')\n",
    "        graph_type = get_graph_type(input_graph_path)\n",
    "        rdf_pair = {\"input_graph_file\": input_graph_path, \"inference_file\": inference_path, \"graph_type\": graph_type}\n",
    "        rdf_files.append(rdf_pair)\n",
    "    files_df = pd.DataFrame.from_dict(rdf_files)\n",
    "    return files_df"
   ]
  },
  {
   "cell_type": "code",
   "execution_count": null,
   "id": "2609afd2-3d09-4ad1-b397-55b8bb44559a",
   "metadata": {},
   "outputs": [],
   "source": [
    "files_df = get_files_df('MyJenaProject/input/', 'MyJenaProject/output/')"
   ]
  },
  {
   "cell_type": "code",
   "execution_count": 5,
   "id": "f717b7f5",
   "metadata": {},
   "outputs": [],
   "source": [
    "# Remove classes for which only one instance exists\n",
    "df_count = pd.DataFrame(files_df['graph_type'].value_counts())\n",
    "graph_type_2_keep = df_count[df_count['count'] > 1].index\n",
    "files_df = files_df[files_df['graph_type'].isin(graph_type_2_keep)]"
   ]
  },
  {
   "cell_type": "code",
   "execution_count": 6,
   "id": "5830f0dc-339f-4454-a3f5-31ac8a29dc7f",
   "metadata": {},
   "outputs": [],
   "source": [
    "def train_validate_test_split(df, train_percent=0.6, validate_percent=0.2, stratify=None, seed=1):\n",
    "    val_test_percent = 1 - train_percent\n",
    "    test_percent = (1 - (train_percent + validate_percent))\n",
    "    test_percent = test_percent / (test_percent + validate_percent)\n",
    "    if stratify:\n",
    "        df_train, df_val_test = train_test_split(df, test_size=val_test_percent, random_state=seed,\n",
    "                                                 stratify=df[stratify])\n",
    "        df_val, df_test = train_test_split(df_val_test, test_size=test_percent, random_state=seed,\n",
    "                                           stratify=df_val_test[stratify])\n",
    "    else:\n",
    "        df_train, df_val_test = train_test_split(df, test_size=val_test_percent, random_state=seed)\n",
    "        df_val, df_test = train_test_split(df_val_test, test_size=test_percent, random_state=seed)\n",
    "    return df_train, df_val, df_test"
   ]
  },
  {
   "cell_type": "code",
   "execution_count": 7,
   "id": "e959ea23-2a80-4381-958c-49fbe2a079c7",
   "metadata": {},
   "outputs": [],
   "source": [
    "rdf_data_train, rdf_data_val, rdf_data_test = train_validate_test_split(files_df,\n",
    "                                                                        train_percent=0.6,\n",
    "                                                                        validate_percent=0.2,\n",
    "                                                                        stratify=\"graph_type\",\n",
    "                                                                        seed=1)"
   ]
  },
  {
   "cell_type": "code",
   "execution_count": 8,
   "id": "b9886c37",
   "metadata": {},
   "outputs": [],
   "source": [
    "def write_nt_file(data, output_file, old_iri, new_iri):\n",
    "    nt_files_orig = data['input_graph_file']\n",
    "    nt_files_inferred = data['inference_file']\n",
    "    \n",
    "    # Concatenate the file lists from the original and inferred graphs\n",
    "    nt_files = pd.concat([nt_files_orig, nt_files_inferred])\n",
    "\n",
    "    with open(output_file, 'w') as outfile:\n",
    "        for nt_file in nt_files:\n",
    "            with open(nt_file, 'r') as infile:\n",
    "                for line in infile:\n",
    "                    # Replace the old IRI with the new IRI in the triple\n",
    "                    updated_line = line.replace(old_iri, new_iri)\n",
    "                    outfile.write(updated_line)\n",
    "                outfile.write(\"\\n\")  # Write a newline after each file\n"
   ]
  },
  {
   "cell_type": "code",
   "execution_count": 9,
   "id": "10c58b46",
   "metadata": {},
   "outputs": [],
   "source": [
    "write_nt_file(rdf_data_train, 'datasets/bin/OWL2DL-1_train.owl', \n",
    "              'https://kracr.iiitd.edu.in/OWL2Bench', 'https://kracr.iiitd.edu.in/OWL2Bench_train')\n",
    "write_nt_file(rdf_data_val, 'datasets/bin/OWL2DL-1_val.owl', \n",
    "              'https://kracr.iiitd.edu.in/OWL2Bench', 'https://kracr.iiitd.edu.in/OWL2Bench_val')\n",
    "write_nt_file(rdf_data_test, 'datasets/bin/OWL2DL-1_test.owl', \n",
    "              'https://kracr.iiitd.edu.in/OWL2Bench', 'https://kracr.iiitd.edu.in/OWL2Bench_test')"
   ]
  }
 ],
 "metadata": {
  "kernelspec": {
   "display_name": "Python 3",
   "language": "python",
   "name": "python3"
  },
  "language_info": {
   "codemirror_mode": {
    "name": "ipython",
    "version": 3
   },
   "file_extension": ".py",
   "mimetype": "text/x-python",
   "name": "python",
   "nbconvert_exporter": "python",
   "pygments_lexer": "ipython3",
   "version": "3.10.12"
  }
 },
 "nbformat": 4,
 "nbformat_minor": 5
}
