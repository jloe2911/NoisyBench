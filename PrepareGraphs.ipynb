{
 "cells": [
  {
   "cell_type": "code",
   "execution_count": 1,
   "id": "e168883c-69ca-41f3-be58-20cb77fbd5a1",
   "metadata": {},
   "outputs": [],
   "source": [
    "import pandas as pd\n",
    "from tqdm import tqdm\n",
    "from glob import glob\n",
    "import logging\n",
    "import os\n",
    "import re\n",
    "from sklearn.model_selection import train_test_split"
   ]
  },
  {
   "cell_type": "code",
   "execution_count": 2,
   "id": "52452d38-c23e-4dad-ac77-f3bcebcf212b",
   "metadata": {},
   "outputs": [],
   "source": [
    "def get_lubm_graph_type(s):\n",
    "    s = s.split('/')[-1]\n",
    "    s = s.split('_')[-1]\n",
    "    m = re.search(\"\\d\", s)\n",
    "    return s[:m.start()]"
   ]
  },
  {
   "cell_type": "code",
   "execution_count": 3,
   "id": "42ff4939-7885-4f6d-98b4-d011f54210d2",
   "metadata": {},
   "outputs": [],
   "source": [
    "def get_lubm_files_df(INPUT_GRAPHS_FOLDER, INFERENCE_GRAPHS_FOLDER):\n",
    "    logging.info(\"Creating dataframe for LUBM1 input/inference pairs\")\n",
    "    rdf_files = []\n",
    "    for input_graph_path in tqdm(sorted(glob(INPUT_GRAPHS_FOLDER + \"*\"))):\n",
    "        input_graph_file = os.path.basename(input_graph_path)\n",
    "        inference_path = INFERENCE_GRAPHS_FOLDER + input_graph_file\n",
    "        graph_type = get_lubm_graph_type(input_graph_path)\n",
    "        rdf_pair = {\"input_graph_file\": input_graph_path, \"inference_file\": inference_path, \"graph_type\": graph_type}\n",
    "        rdf_files.append(rdf_pair)\n",
    "    files_df = pd.DataFrame.from_dict(rdf_files)\n",
    "    return files_df"
   ]
  },
  {
   "cell_type": "code",
   "execution_count": 4,
   "id": "2609afd2-3d09-4ad1-b397-55b8bb44559a",
   "metadata": {},
   "outputs": [
    {
     "name": "stderr",
     "output_type": "stream",
     "text": [
      "100%|████████████████████████████████████████████████████████████████████████| 17174/17174 [00:00<00:00, 100543.91it/s]\n"
     ]
    }
   ],
   "source": [
    "lubm_files_df = get_lubm_files_df('datasets/graphs_with_descriptions/', 'datasets/jena_inference_with_descriptions/')"
   ]
  },
  {
   "cell_type": "code",
   "execution_count": 5,
   "id": "5830f0dc-339f-4454-a3f5-31ac8a29dc7f",
   "metadata": {},
   "outputs": [],
   "source": [
    "def train_validate_test_split(df, train_percent=0.6, validate_percent=0.2, stratify=None, seed=1):\n",
    "    val_test_percent = 1 - train_percent\n",
    "    test_percent = (1 - (train_percent + validate_percent))\n",
    "    test_percent = test_percent / (test_percent + validate_percent)\n",
    "    if stratify:\n",
    "        df_train, df_val_test = train_test_split(df, test_size=val_test_percent, random_state=seed,\n",
    "                                                 stratify=df[stratify])\n",
    "        df_val, df_test = train_test_split(df_val_test, test_size=test_percent, random_state=seed,\n",
    "                                           stratify=df_val_test[stratify])\n",
    "    else:\n",
    "        df_train, df_val_test = train_test_split(df, test_size=val_test_percent, random_state=seed)\n",
    "        df_val, df_test = train_test_split(df_val_test, test_size=test_percent, random_state=seed)\n",
    "    return df_train, df_val, df_test"
   ]
  },
  {
   "cell_type": "code",
   "execution_count": 6,
   "id": "e959ea23-2a80-4381-958c-49fbe2a079c7",
   "metadata": {},
   "outputs": [],
   "source": [
    "rdf_data_train, rdf_data_val, rdf_data_test = train_validate_test_split(lubm_files_df,\n",
    "                                                                        train_percent=0.6,\n",
    "                                                                        validate_percent=0.2,\n",
    "                                                                        stratify=\"graph_type\",\n",
    "                                                                        seed=1)"
   ]
  },
  {
   "cell_type": "code",
   "execution_count": 15,
   "id": "88ee9c5f-2c5e-4307-a4d9-ea29a3914abb",
   "metadata": {},
   "outputs": [],
   "source": [
    "def write_nt_file(data, output_file):\n",
    "    nt_files_orig = data['input_graph_file']\n",
    "    nt_files_inferred = data['inference_file']\n",
    "    nt_files = pd.concat([nt_files_orig, nt_files_inferred])\n",
    "\n",
    "    with open(output_file, 'w') as outfile:\n",
    "        for nt_file in nt_files:\n",
    "            with open(nt_file, 'r') as infile:\n",
    "                outfile.write(infile.read())\n",
    "                outfile.write(\"\\n\")"
   ]
  },
  {
   "cell_type": "code",
   "execution_count": 16,
   "id": "c32e476f-c2ab-4782-b55c-34f567b28494",
   "metadata": {},
   "outputs": [],
   "source": [
    "write_nt_file(rdf_data_train, 'bin/lubm_train.owl')\n",
    "write_nt_file(rdf_data_val, 'bin/lubm_val.owl')\n",
    "write_nt_file(rdf_data_test, 'bin/lubm_test.owl')"
   ]
  },
  {
   "cell_type": "code",
   "execution_count": 17,
   "id": "11537302-aefd-4f6e-b12c-5f482847101a",
   "metadata": {},
   "outputs": [],
   "source": [
    "with open('lubm.owl', 'w') as outfile:\n",
    "    for nt_file in lubm_files_df['input_graph_file']:\n",
    "        with open(nt_file, 'r') as infile:\n",
    "            outfile.write(infile.read())\n",
    "            outfile.write(\"\\n\")"
   ]
  }
 ],
 "metadata": {
  "kernelspec": {
   "display_name": "Python 3 (ipykernel)",
   "language": "python",
   "name": "python3"
  },
  "language_info": {
   "codemirror_mode": {
    "name": "ipython",
    "version": 3
   },
   "file_extension": ".py",
   "mimetype": "text/x-python",
   "name": "python",
   "nbconvert_exporter": "python",
   "pygments_lexer": "ipython3",
   "version": "3.8.16"
  }
 },
 "nbformat": 4,
 "nbformat_minor": 5
}
