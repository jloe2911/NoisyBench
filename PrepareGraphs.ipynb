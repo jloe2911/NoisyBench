{
 "cells": [
  {
   "cell_type": "code",
   "execution_count": 83,
   "id": "e168883c-69ca-41f3-be58-20cb77fbd5a1",
   "metadata": {},
   "outputs": [],
   "source": [
    "import pandas as pd\n",
    "import os\n",
    "import logging\n",
    "from rdflib import URIRef, OWL, Literal, RDF, RDFS, BNode\n",
    "from owlready2 import get_ontology\n",
    "from tqdm import tqdm\n",
    "from glob import glob\n",
    "from sklearn.model_selection import train_test_split\n",
    "from src.utils import *\n",
    "from src.noise import *"
   ]
  },
  {
   "cell_type": "code",
   "execution_count": 84,
   "id": "e60086c1",
   "metadata": {},
   "outputs": [],
   "source": [
    "dataset_name = 'OWL2DL-1'\n",
    "# dataset_name = 'family'"
   ]
  },
  {
   "cell_type": "code",
   "execution_count": 85,
   "id": "6eb2b6ac",
   "metadata": {},
   "outputs": [],
   "source": [
    "ontology = get_ontology(f'datasets/{dataset_name}.owl').load()"
   ]
  },
  {
   "cell_type": "markdown",
   "id": "e9d70fcc",
   "metadata": {},
   "source": [
    "**Create test, val sets**"
   ]
  },
  {
   "cell_type": "code",
   "execution_count": 86,
   "id": "ffea4a9f",
   "metadata": {},
   "outputs": [],
   "source": [
    "def get_graph_type(s):\n",
    "    s = s.split('\\\\')[-1]\n",
    "    s = s.split('_')[:-1]\n",
    "    s = \"_\".join(s)\n",
    "    return s"
   ]
  },
  {
   "cell_type": "code",
   "execution_count": 87,
   "id": "baf21091",
   "metadata": {},
   "outputs": [],
   "source": [
    "def get_files_df(INPUT_GRAPHS_FOLDER, INFERENCE_GRAPHS_FOLDER):\n",
    "    logging.info(f\"Creating dataframe for {dataset_name} input/inference pairs\")\n",
    "    rdf_files = []\n",
    "    for input_graph_path in tqdm(sorted(glob(INPUT_GRAPHS_FOLDER + \"*\"))):\n",
    "        input_graph_file = os.path.basename(input_graph_path)\n",
    "        inference_path = INFERENCE_GRAPHS_FOLDER + input_graph_file\n",
    "        graph_type = get_graph_type(input_graph_path)\n",
    "        rdf_pair = {\"input_graph_file\": input_graph_path, \"inference_file\": inference_path, \"graph_type\": graph_type}\n",
    "        rdf_files.append(rdf_pair)\n",
    "    files_df = pd.DataFrame.from_dict(rdf_files)\n",
    "    return files_df"
   ]
  },
  {
   "cell_type": "code",
   "execution_count": null,
   "id": "ef2c2a4a",
   "metadata": {},
   "outputs": [],
   "source": [
    "files_df = get_files_df(f'datasets/{dataset_name}_input_graphs_filtered_1hop/', f'datasets/{dataset_name}_inferred_graphs_filtered/')"
   ]
  },
  {
   "cell_type": "code",
   "execution_count": 89,
   "id": "40bf0920",
   "metadata": {},
   "outputs": [],
   "source": [
    "# Remove classes for which only one instance exists\n",
    "df_count = pd.DataFrame(files_df['graph_type'].value_counts())\n",
    "graph_type_2_keep = df_count[df_count['count'] > 1].index\n",
    "files_df = files_df[files_df['graph_type'].isin(graph_type_2_keep)]"
   ]
  },
  {
   "cell_type": "code",
   "execution_count": 90,
   "id": "e2eb1f4a",
   "metadata": {},
   "outputs": [],
   "source": [
    "def test_val_split(df, test_percent, stratify, seed):\n",
    "    df_test, df_val = train_test_split(df, test_size=test_percent, random_state=seed, stratify=df[stratify])\n",
    "    return df_test, df_val"
   ]
  },
  {
   "cell_type": "code",
   "execution_count": 91,
   "id": "7790f392",
   "metadata": {},
   "outputs": [],
   "source": [
    "rdf_data_test, rdf_data_val = test_val_split(files_df, \n",
    "                                             test_percent=0.5,\n",
    "                                             stratify=\"graph_type\",\n",
    "                                             seed=1)"
   ]
  },
  {
   "cell_type": "code",
   "execution_count": 92,
   "id": "91b5caf9",
   "metadata": {},
   "outputs": [],
   "source": [
    "def merge_nt_files(nt_files, output_file):\n",
    "    merged_graph = rdflib.Graph()\n",
    "\n",
    "    for nt_file in nt_files:\n",
    "        try:\n",
    "            graph = rdflib.Graph()\n",
    "            if 'TBOX' in nt_file: graph.parse(nt_file)\n",
    "            else: graph.parse(nt_file, format=\"turtle\")\n",
    "            merged_graph += graph  \n",
    "        except Exception as e:\n",
    "            print(f\"Warning: Could not parse {nt_file} - {e}\")\n",
    "\n",
    "    merged_graph.serialize(destination=output_file)\n",
    "    print(f\"Merged file created at {output_file}\")"
   ]
  },
  {
   "cell_type": "code",
   "execution_count": null,
   "id": "2760b87b",
   "metadata": {},
   "outputs": [],
   "source": [
    "merge_nt_files(rdf_data_test['inference_file'], f'datasets/{dataset_name}_test_complete.owl')\n",
    "merge_nt_files(rdf_data_val['inference_file'], f'datasets/{dataset_name}_val_complete.owl')"
   ]
  },
  {
   "cell_type": "markdown",
   "id": "7b8b8b88",
   "metadata": {},
   "source": [
    "**Manage duplicates and drop BNodes**"
   ]
  },
  {
   "cell_type": "code",
   "execution_count": null,
   "id": "182353e0",
   "metadata": {},
   "outputs": [],
   "source": [
    "G_train = rdflib.Graph()\n",
    "G_train.parse(f'datasets/{dataset_name}.owl')\n",
    "print(f'# triples in G_train: {len(G_train)}')\n",
    "\n",
    "G_test = rdflib.Graph()\n",
    "G_test.parse(f'datasets/{dataset_name}_test_complete.owl', format='turtle')\n",
    "print(f'# triples in G_test: {len(G_test)}')\n",
    "\n",
    "G_val = rdflib.Graph()\n",
    "G_val.parse(f'datasets/{dataset_name}_val_complete.owl', format='turtle')\n",
    "print(f'# triples in G_val: {len(G_val)}')\n",
    "\n",
    "G_tbox = rdflib.Graph()\n",
    "G_tbox.parse(f'datasets/{dataset_name}_TBOX.owl')\n",
    "print(f'# triples in G_tbox: {len(G_tbox)}')"
   ]
  },
  {
   "cell_type": "code",
   "execution_count": 95,
   "id": "62c6edd7",
   "metadata": {},
   "outputs": [],
   "source": [
    "for triple in set(G_train.triples((None, None, OWL.NamedIndividual))):\n",
    "    G_test.add(triple)\n",
    "    G_val.add(triple)"
   ]
  },
  {
   "cell_type": "code",
   "execution_count": 96,
   "id": "07c0dd9a",
   "metadata": {},
   "outputs": [],
   "source": [
    "G_test += G_tbox\n",
    "G_val += G_tbox"
   ]
  },
  {
   "cell_type": "code",
   "execution_count": 97,
   "id": "58de1c01",
   "metadata": {},
   "outputs": [],
   "source": [
    "def remove_bnodes(graph):\n",
    "    new_graph = rdflib.Graph()\n",
    "    for s, p, o in graph:\n",
    "        if isinstance(s, BNode) or isinstance(p, BNode) or isinstance(o, BNode):\n",
    "            continue  \n",
    "        new_graph.add((s, p, o))\n",
    "    return new_graph"
   ]
  },
  {
   "cell_type": "code",
   "execution_count": 98,
   "id": "32cfde16",
   "metadata": {},
   "outputs": [],
   "source": [
    "filtered_G_train = remove_bnodes(G_train)\n",
    "filtered_G_test = remove_bnodes(G_test)\n",
    "filtered_G_val = remove_bnodes(G_val)"
   ]
  },
  {
   "cell_type": "code",
   "execution_count": 99,
   "id": "d4c7aa58",
   "metadata": {},
   "outputs": [],
   "source": [
    "def get_entities(graph):\n",
    "    classes = set()\n",
    "    individuals = set()\n",
    "    relations = set()\n",
    "\n",
    "    for s, p, o in graph:\n",
    "        if (s, RDF.type, OWL.Class) in graph:\n",
    "            classes.add(s)\n",
    "        elif (o, RDF.type, OWL.Class) in graph:\n",
    "            classes.add(o)\n",
    "        \n",
    "        if (s, RDF.type, OWL.NamedIndividual) in graph:\n",
    "            individuals.add(s)\n",
    "        elif (o, RDF.type, OWL.NamedIndividual) in graph:\n",
    "            individuals.add(o)\n",
    "        \n",
    "        if isinstance(p, URIRef):\n",
    "            relations.add(p)\n",
    "\n",
    "    return classes, relations, individuals"
   ]
  },
  {
   "cell_type": "code",
   "execution_count": 100,
   "id": "4ca61b16",
   "metadata": {},
   "outputs": [],
   "source": [
    "def remove_missing_entities(train_graph, graph_to_modify):\n",
    "    train_classes, train_relations, train_individuals = get_entities(train_graph)\n",
    "    \n",
    "    classes, relations, individuals = get_entities(graph_to_modify)\n",
    "    \n",
    "    missing_classes = classes - train_classes\n",
    "    missing_relations = relations - train_relations\n",
    "    missing_individuals = individuals - train_individuals\n",
    "\n",
    "    for s, p, o in list(graph_to_modify):\n",
    "        if (s in missing_classes or o in missing_classes) or \\\n",
    "           (p in missing_relations) or \\\n",
    "           (s in missing_individuals or o in missing_individuals):\n",
    "            graph_to_modify.remove((s, p, o))\n",
    "\n",
    "    return graph_to_modify"
   ]
  },
  {
   "cell_type": "code",
   "execution_count": 101,
   "id": "e19eea5b",
   "metadata": {},
   "outputs": [],
   "source": [
    "# We remove classes, individuals or relations that have been inferred but are not present in the training set \n",
    "filtered_G_test = remove_missing_entities(filtered_G_train, filtered_G_test)\n",
    "filtered_G_val = remove_missing_entities(filtered_G_train, filtered_G_val)"
   ]
  },
  {
   "cell_type": "code",
   "execution_count": null,
   "id": "fb2e1c72",
   "metadata": {},
   "outputs": [],
   "source": [
    "print(f'# triples in G_train: {len(filtered_G_train)}')\n",
    "print(f'# triples in G_test: {len(filtered_G_test)}')\n",
    "print(f'# triples in G_val: {len(filtered_G_val)}')"
   ]
  },
  {
   "cell_type": "code",
   "execution_count": null,
   "id": "27f0d060",
   "metadata": {},
   "outputs": [],
   "source": [
    "# Add validation set to training set because we are in an unsupervised setting (make sur that validation and test sets do not overlap)\n",
    "new_filtered_G_val = rdflib.Graph()\n",
    "for triple in set(filtered_G_val) - set(filtered_G_test):\n",
    "    new_filtered_G_val.add(triple)\n",
    "\n",
    "filtered_G_train += new_filtered_G_val\n",
    "print(f'# triples in G_train: {len(filtered_G_train)}')\n",
    "print(f'# triples in G_test: {len(filtered_G_test)}')\n",
    "print(f'# triples in G_val: {len(new_filtered_G_val)}')"
   ]
  },
  {
   "cell_type": "code",
   "execution_count": null,
   "id": "933f63be",
   "metadata": {},
   "outputs": [],
   "source": [
    "filtered_G_train.serialize(f'datasets/{dataset_name}_train.owl')\n",
    "filtered_G_test.serialize(f'datasets/{dataset_name}_test.owl')\n",
    "new_filtered_G_val.serialize(f'datasets/{dataset_name}_val.owl')"
   ]
  }
 ],
 "metadata": {
  "kernelspec": {
   "display_name": "Python 3",
   "language": "python",
   "name": "python3"
  },
  "language_info": {
   "codemirror_mode": {
    "name": "ipython",
    "version": 3
   },
   "file_extension": ".py",
   "mimetype": "text/x-python",
   "name": "python",
   "nbconvert_exporter": "python",
   "pygments_lexer": "ipython3",
   "version": "3.12.7"
  }
 },
 "nbformat": 4,
 "nbformat_minor": 5
}
