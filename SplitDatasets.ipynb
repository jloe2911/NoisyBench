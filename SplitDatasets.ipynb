{
 "cells": [
  {
   "cell_type": "code",
   "execution_count": 6,
   "id": "ae85c36e-9bec-48b0-8219-e591a68f99fb",
   "metadata": {},
   "outputs": [],
   "source": [
    "from src.utils import *"
   ]
  },
  {
   "cell_type": "code",
   "execution_count": 7,
   "id": "9483f25c-6514-4e47-95fa-d3c18f5d9050",
   "metadata": {},
   "outputs": [],
   "source": [
    "#dataset_name = 'family'\n",
    "#dataset_name = 'pizza'\n",
    "dataset_name = 'OWL2DL-1'"
   ]
  },
  {
   "cell_type": "code",
   "execution_count": 8,
   "id": "dedd635c-acfb-4f9e-b577-376074e0e82b",
   "metadata": {},
   "outputs": [],
   "source": [
    "experiments = get_experimets(dataset_name)"
   ]
  },
  {
   "cell_type": "code",
   "execution_count": 9,
   "id": "f51f3dbc-194c-4bda-9cde-103843f5f900",
   "metadata": {},
   "outputs": [
    {
     "name": "stdout",
     "output_type": "stream",
     "text": [
      "Triplets found in OWL2DL-1.owl: 55215\n",
      "Train Triplets found: 44172\n",
      "Valid Triplets found: 8417\n",
      "Test Triplets (Membership) found: 11363\n",
      "Test Triplets (Subsumption) found: 24\n"
     ]
    }
   ],
   "source": [
    "for experiment in experiments[:1]: \n",
    "    dataset_name = experiment['dataset_name']\n",
    "    file_name = experiment['file_name']\n",
    "    format_ = experiment['format_']\n",
    "    add_noise = experiment['add_noise']\n",
    "    \n",
    "    if not add_noise:\n",
    "\n",
    "        train_graph, valid_graph, test_graph, \\\n",
    "        test_membership_graph, test_subsumption_graph = split_ontology(dataset_name=dataset_name, \n",
    "                                                                       file_name   =file_name, \n",
    "                                                                       format_     =format_, \n",
    "                                                                       train_ratio =0.8)"
   ]
  },
  {
   "cell_type": "code",
   "execution_count": 10,
   "id": "29f0ad1a-59a1-49c2-bb7c-ca29ca53efe4",
   "metadata": {},
   "outputs": [
    {
     "name": "stdout",
     "output_type": "stream",
     "text": [
      "Triplets found in OWL2DL-1_noisy_gnn_0.25.owl: 13799\n",
      "Triplets found in OWL2DL-1_noisy_gnn_0.5.owl: 27659\n",
      "Triplets found in OWL2DL-1_noisy_gnn_0.75.owl: 41444\n",
      "Triplets found in OWL2DL-1_noisy_gnn_1.0.owl: 55308\n",
      "Triplets found in OWL2DL-1_noisy_random_0.25.owl: 3576\n",
      "Triplets found in OWL2DL-1_noisy_random_0.5.owl: 7148\n",
      "Triplets found in OWL2DL-1_noisy_random_0.75.owl: 10842\n",
      "Triplets found in OWL2DL-1_noisy_random_1.0.owl: 14492\n",
      "Triplets found in OWL2DL-1_noisy_disjoint_0.25.owl: 53928\n",
      "Triplets found in OWL2DL-1_noisy_disjoint_0.5.owl: 107860\n",
      "Triplets found in OWL2DL-1_noisy_disjoint_0.75.owl: 161856\n",
      "Triplets found in OWL2DL-1_noisy_disjoint_1.0.owl: 215788\n"
     ]
    }
   ],
   "source": [
    "for experiment in experiments[1:]: \n",
    "    dataset_name = experiment['dataset_name']\n",
    "    file_name = experiment['file_name']\n",
    "    format_ = experiment['format_']\n",
    "    add_noise = experiment['add_noise']\n",
    "    \n",
    "    if add_noise:\n",
    "    \n",
    "        g_noise = rdflib.Graph()\n",
    "        g_noise.parse(f'datasets/noise/{file_name}.owl', format=format_)  \n",
    "        print(f'Triplets found in {file_name}.owl: %d' % len(g_noise))\n",
    "\n",
    "        noisy_train_graph = copy_graph(train_graph)\n",
    "        for triple in g_noise:\n",
    "            noisy_train_graph.add(triple)\n",
    "        \n",
    "        noisy_train_graph.serialize(destination=f\"datasets/bin/{file_name}_train.owl\")"
   ]
  }
 ],
 "metadata": {
  "kernelspec": {
   "display_name": "Python 3 (ipykernel)",
   "language": "python",
   "name": "python3"
  },
  "language_info": {
   "codemirror_mode": {
    "name": "ipython",
    "version": 3
   },
   "file_extension": ".py",
   "mimetype": "text/x-python",
   "name": "python",
   "nbconvert_exporter": "python",
   "pygments_lexer": "ipython3",
   "version": "3.8.16"
  }
 },
 "nbformat": 4,
 "nbformat_minor": 5
}
