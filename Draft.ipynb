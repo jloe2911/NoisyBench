{
 "cells": [
  {
   "cell_type": "code",
   "execution_count": 1,
   "id": "ab2f70fc-4a21-4511-8291-ec14d81d06a9",
   "metadata": {},
   "outputs": [],
   "source": [
    "import numpy as np\n",
    "import pandas as pd\n",
    "import os\n",
    "import click as ck\n",
    "\n",
    "import torch\n",
    "\n",
    "from collections import defaultdict\n",
    "\n",
    "import mowl\n",
    "mowl.init_jvm('10g')\n",
    "\n",
    "from mowl.datasets import PathDataset\n",
    "from mowl.corpus import extract_and_save_axiom_corpus\n",
    "from mowl.owlapi import OWLAPIAdapter, OWLObjectPropertyAssertionAxiom\n",
    "from mowl.reasoning import MOWLReasoner\n",
    "from mowl.projection import OWL2VecStarProjector\n",
    "from mowl.projection.edge import Edge\n",
    "from mowl.walking import DeepWalk, Node2Vec\n",
    "from mowl.kge import KGEModel\n",
    "\n",
    "from pykeen.models import TransE\n",
    "\n",
    "from gensim.models.word2vec import LineSentence\n",
    "from gensim.models import Word2Vec\n",
    "\n",
    "import rdflib\n",
    "\n",
    "from org.semanticweb.elk.owlapi import ElkReasonerFactory\n",
    "from java.util import HashSet\n",
    "\n",
    "from sklearn.metrics.pairwise import cosine_similarity\n",
    "from sklearn.metrics import roc_curve, auc, matthews_corrcoef\n",
    "\n",
    "import random\n",
    "import operator"
   ]
  },
  {
   "cell_type": "markdown",
   "id": "bd5e94cd-b909-4821-acad-732705c2c1b9",
   "metadata": {},
   "source": [
    "**TransE**"
   ]
  },
  {
   "cell_type": "code",
   "execution_count": 41,
   "id": "7e5b121d-5a60-4ae5-88e9-421a9d27b1d4",
   "metadata": {},
   "outputs": [
    {
     "data": {
      "application/vnd.jupyter.widget-view+json": {
       "model_id": "1ea268693b78483db90ebd318eb197f1",
       "version_major": 2,
       "version_minor": 0
      },
      "text/plain": [
       "Training epochs on cpu:   0%|          | 0/10 [00:00<?, ?epoch/s]"
      ]
     },
     "metadata": {},
     "output_type": "display_data"
    },
    {
     "data": {
      "application/vnd.jupyter.widget-view+json": {
       "model_id": "",
       "version_major": 2,
       "version_minor": 0
      },
      "text/plain": [
       "Training batches on cpu:   0%|          | 0/49 [00:00<?, ?batch/s]"
      ]
     },
     "metadata": {},
     "output_type": "display_data"
    },
    {
     "data": {
      "application/vnd.jupyter.widget-view+json": {
       "model_id": "",
       "version_major": 2,
       "version_minor": 0
      },
      "text/plain": [
       "Training batches on cpu:   0%|          | 0/49 [00:00<?, ?batch/s]"
      ]
     },
     "metadata": {},
     "output_type": "display_data"
    },
    {
     "data": {
      "application/vnd.jupyter.widget-view+json": {
       "model_id": "",
       "version_major": 2,
       "version_minor": 0
      },
      "text/plain": [
       "Training batches on cpu:   0%|          | 0/49 [00:00<?, ?batch/s]"
      ]
     },
     "metadata": {},
     "output_type": "display_data"
    },
    {
     "data": {
      "application/vnd.jupyter.widget-view+json": {
       "model_id": "",
       "version_major": 2,
       "version_minor": 0
      },
      "text/plain": [
       "Training batches on cpu:   0%|          | 0/49 [00:00<?, ?batch/s]"
      ]
     },
     "metadata": {},
     "output_type": "display_data"
    },
    {
     "data": {
      "application/vnd.jupyter.widget-view+json": {
       "model_id": "",
       "version_major": 2,
       "version_minor": 0
      },
      "text/plain": [
       "Training batches on cpu:   0%|          | 0/49 [00:00<?, ?batch/s]"
      ]
     },
     "metadata": {},
     "output_type": "display_data"
    },
    {
     "data": {
      "application/vnd.jupyter.widget-view+json": {
       "model_id": "",
       "version_major": 2,
       "version_minor": 0
      },
      "text/plain": [
       "Training batches on cpu:   0%|          | 0/49 [00:00<?, ?batch/s]"
      ]
     },
     "metadata": {},
     "output_type": "display_data"
    },
    {
     "data": {
      "application/vnd.jupyter.widget-view+json": {
       "model_id": "",
       "version_major": 2,
       "version_minor": 0
      },
      "text/plain": [
       "Training batches on cpu:   0%|          | 0/49 [00:00<?, ?batch/s]"
      ]
     },
     "metadata": {},
     "output_type": "display_data"
    },
    {
     "data": {
      "application/vnd.jupyter.widget-view+json": {
       "model_id": "",
       "version_major": 2,
       "version_minor": 0
      },
      "text/plain": [
       "Training batches on cpu:   0%|          | 0/49 [00:00<?, ?batch/s]"
      ]
     },
     "metadata": {},
     "output_type": "display_data"
    },
    {
     "data": {
      "application/vnd.jupyter.widget-view+json": {
       "model_id": "",
       "version_major": 2,
       "version_minor": 0
      },
      "text/plain": [
       "Training batches on cpu:   0%|          | 0/49 [00:00<?, ?batch/s]"
      ]
     },
     "metadata": {},
     "output_type": "display_data"
    },
    {
     "data": {
      "application/vnd.jupyter.widget-view+json": {
       "model_id": "",
       "version_major": 2,
       "version_minor": 0
      },
      "text/plain": [
       "Training batches on cpu:   0%|          | 0/49 [00:00<?, ?batch/s]"
      ]
     },
     "metadata": {},
     "output_type": "display_data"
    }
   ],
   "source": [
    "dataset = PathDataset('../datasets/family.owl')\n",
    "projector = OWL2VecStarProjector(bidirectional_taxonomy=True, \n",
    "                                 include_literals=False,\n",
    "                                 only_taxonomy =True)\n",
    "edges = projector.project(dataset.ontology)\n",
    "triples_factory = Edge.as_pykeen(edges, create_inverse_triples = False)\n",
    "pk_model = TransE(triples_factory = triples_factory, embedding_dim = 128, random_seed = 42)\n",
    "model = KGEModel(triples_factory, pk_model, epochs = 10, batch_size = 32)\n",
    "model.train()\n",
    "ent_embs = model.class_embeddings_dict\n",
    "rel_embs = model.object_property_embeddings_dict"
   ]
  },
  {
   "cell_type": "code",
   "execution_count": 55,
   "id": "7c02c3e8-e619-437c-bc0b-fea7395bd4b5",
   "metadata": {},
   "outputs": [
    {
     "data": {
      "text/plain": [
       "564"
      ]
     },
     "execution_count": 55,
     "metadata": {},
     "output_type": "execute_result"
    }
   ],
   "source": [
    "len(ent_embs.keys())"
   ]
  },
  {
   "cell_type": "markdown",
   "id": "ef0413cb-cb5c-484f-bb33-834ef6eb1b5e",
   "metadata": {},
   "source": [
    "**Owl2Vec**"
   ]
  },
  {
   "cell_type": "code",
   "execution_count": 2,
   "id": "770556f2-056b-42f4-992a-12d14968a9c3",
   "metadata": {},
   "outputs": [],
   "source": [
    "def owl2vec_fit(owl_file, embed_dim, load):\n",
    "    dataset = PathDataset(f'../datasets/{owl_file}.owl')\n",
    "    if not load:\n",
    "        projector = OWL2VecStarProjector(bidirectional_taxonomy=True)\n",
    "        edges = projector.project(dataset.ontology)\n",
    "        walker = DeepWalk(num_walks=20,\n",
    "                          walk_length=20,\n",
    "                          alpha=0.1,\n",
    "                          workers=4)         \n",
    "        walks = walker.walk(edges)\n",
    "        sentences = LineSentence(walker.outfile)\n",
    "        model = Word2Vec(sentences, vector_size=embed_dim, epochs=10, window=5, min_count=1, workers=4)\n",
    "        model.save(f'../models/owl2vec.model')\n",
    "    else:\n",
    "        model = Word2Vec.load(f'../models/owl2vec.model')\n",
    "    return model"
   ]
  },
  {
   "cell_type": "code",
   "execution_count": 3,
   "id": "6413b8dc-00cf-4995-9f78-a7d661df48d4",
   "metadata": {},
   "outputs": [
    {
     "name": "stderr",
     "output_type": "stream",
     "text": [
      "INFO:gensim.models.word2vec:collecting all words and their counts\n",
      "INFO:gensim.models.word2vec:PROGRESS: at sentence #0, processed 0 words, keeping 0 word types\n",
      "INFO:gensim.models.word2vec:PROGRESS: at sentence #10000, processed 152980 words, keeping 648 word types\n",
      "INFO:gensim.models.word2vec:collected 648 word types from a corpus of 173510 raw words and 11280 sentences\n",
      "INFO:gensim.models.word2vec:Creating a fresh vocabulary\n",
      "INFO:gensim.utils:Word2Vec lifecycle event {'msg': 'effective_min_count=1 retains 648 unique words (100.00% of original 648, drops 0)', 'datetime': '2024-03-12T09:51:27.751726', 'gensim': '4.3.1', 'python': '3.8.16 (default, Jan 17 2023, 22:25:28) [MSC v.1916 64 bit (AMD64)]', 'platform': 'Windows-10-10.0.22631-SP0', 'event': 'prepare_vocab'}\n",
      "INFO:gensim.utils:Word2Vec lifecycle event {'msg': 'effective_min_count=1 leaves 173510 word corpus (100.00% of original 173510, drops 0)', 'datetime': '2024-03-12T09:51:27.752723', 'gensim': '4.3.1', 'python': '3.8.16 (default, Jan 17 2023, 22:25:28) [MSC v.1916 64 bit (AMD64)]', 'platform': 'Windows-10-10.0.22631-SP0', 'event': 'prepare_vocab'}\n",
      "INFO:gensim.models.word2vec:deleting the raw counts dictionary of 648 items\n",
      "INFO:gensim.models.word2vec:sample=0.001 downsamples 68 most-common words\n",
      "INFO:gensim.utils:Word2Vec lifecycle event {'msg': 'downsampling leaves estimated 95252.24670724684 word corpus (54.9%% of prior 173510)', 'datetime': '2024-03-12T09:51:27.759175', 'gensim': '4.3.1', 'python': '3.8.16 (default, Jan 17 2023, 22:25:28) [MSC v.1916 64 bit (AMD64)]', 'platform': 'Windows-10-10.0.22631-SP0', 'event': 'prepare_vocab'}\n",
      "INFO:gensim.models.word2vec:estimated required memory for 648 words and 128 dimensions: 987552 bytes\n",
      "INFO:gensim.models.word2vec:resetting layer weights\n",
      "INFO:gensim.utils:Word2Vec lifecycle event {'update': False, 'trim_rule': 'None', 'datetime': '2024-03-12T09:51:27.769167', 'gensim': '4.3.1', 'python': '3.8.16 (default, Jan 17 2023, 22:25:28) [MSC v.1916 64 bit (AMD64)]', 'platform': 'Windows-10-10.0.22631-SP0', 'event': 'build_vocab'}\n",
      "INFO:gensim.utils:Word2Vec lifecycle event {'msg': 'training model with 4 workers on 648 vocabulary and 128 features, using sg=0 hs=0 sample=0.001 negative=5 window=5 shrink_windows=True', 'datetime': '2024-03-12T09:51:27.769167', 'gensim': '4.3.1', 'python': '3.8.16 (default, Jan 17 2023, 22:25:28) [MSC v.1916 64 bit (AMD64)]', 'platform': 'Windows-10-10.0.22631-SP0', 'event': 'train'}\n",
      "INFO:gensim.models.word2vec:EPOCH 0: training on 173510 raw words (95157 effective words) took 0.1s, 974313 effective words/s\n",
      "INFO:gensim.models.word2vec:EPOCH 1: training on 173510 raw words (95612 effective words) took 0.1s, 972494 effective words/s\n",
      "INFO:gensim.models.word2vec:EPOCH 2: training on 173510 raw words (95385 effective words) took 0.1s, 979079 effective words/s\n",
      "INFO:gensim.models.word2vec:EPOCH 3: training on 173510 raw words (95436 effective words) took 0.1s, 1013838 effective words/s\n",
      "INFO:gensim.models.word2vec:EPOCH 4: training on 173510 raw words (95333 effective words) took 0.1s, 1011425 effective words/s\n",
      "INFO:gensim.models.word2vec:EPOCH 5: training on 173510 raw words (95564 effective words) took 0.1s, 931886 effective words/s\n",
      "INFO:gensim.models.word2vec:EPOCH 6: training on 173510 raw words (95354 effective words) took 0.1s, 917605 effective words/s\n",
      "INFO:gensim.models.word2vec:EPOCH 7: training on 173510 raw words (95046 effective words) took 0.1s, 919835 effective words/s\n",
      "INFO:gensim.models.word2vec:EPOCH 8: training on 173510 raw words (95514 effective words) took 0.1s, 989599 effective words/s\n",
      "INFO:gensim.models.word2vec:EPOCH 9: training on 173510 raw words (95402 effective words) took 0.1s, 1002684 effective words/s\n",
      "INFO:gensim.utils:Word2Vec lifecycle event {'msg': 'training on 1735100 raw words (953803 effective words) took 1.0s, 940005 effective words/s', 'datetime': '2024-03-12T09:51:28.785082', 'gensim': '4.3.1', 'python': '3.8.16 (default, Jan 17 2023, 22:25:28) [MSC v.1916 64 bit (AMD64)]', 'platform': 'Windows-10-10.0.22631-SP0', 'event': 'train'}\n",
      "INFO:gensim.utils:Word2Vec lifecycle event {'params': 'Word2Vec<vocab=648, vector_size=128, alpha=0.025>', 'datetime': '2024-03-12T09:51:28.785082', 'gensim': '4.3.1', 'python': '3.8.16 (default, Jan 17 2023, 22:25:28) [MSC v.1916 64 bit (AMD64)]', 'platform': 'Windows-10-10.0.22631-SP0', 'event': 'created'}\n",
      "INFO:gensim.utils:Word2Vec lifecycle event {'fname_or_handle': '../models/owl2vec.model', 'separately': 'None', 'sep_limit': 10485760, 'ignore': frozenset(), 'datetime': '2024-03-12T09:51:28.786042', 'gensim': '4.3.1', 'python': '3.8.16 (default, Jan 17 2023, 22:25:28) [MSC v.1916 64 bit (AMD64)]', 'platform': 'Windows-10-10.0.22631-SP0', 'event': 'saving'}\n",
      "INFO:gensim.utils:not storing attribute cum_table\n",
      "INFO:gensim.utils:saved ../models/owl2vec.model\n"
     ]
    }
   ],
   "source": [
    "model = owl2vec_fit('family', 128, False)"
   ]
  },
  {
   "cell_type": "code",
   "execution_count": 59,
   "id": "db66cff6-a972-45fa-96e8-0f874854e642",
   "metadata": {},
   "outputs": [],
   "source": [
    "###output = node embeddings, we can compute hits@k\n",
    "###split train test"
   ]
  },
  {
   "cell_type": "code",
   "execution_count": 86,
   "id": "95a584f4-2b38-47ad-ae68-c887c23552a4",
   "metadata": {},
   "outputs": [],
   "source": [
    "dataset.testing"
   ]
  },
  {
   "cell_type": "code",
   "execution_count": 61,
   "id": "278910c3-5d21-49e8-829b-651dadb3c11c",
   "metadata": {},
   "outputs": [],
   "source": [
    "\n",
    "\n",
    "node_embed_owl2vec = {}\n",
    "for word in words:\n",
    "    node_embed_owl2vec[word] = vectors[word]"
   ]
  },
  {
   "cell_type": "code",
   "execution_count": 65,
   "id": "38fd9503-ad44-45de-a5de-7592d8db6937",
   "metadata": {},
   "outputs": [
    {
     "data": {
      "text/plain": [
       "1"
      ]
     },
     "execution_count": 66,
     "metadata": {},
     "output_type": "execute_result"
    }
   ],
   "source": [
    "len(node_embed_owl2vec.keys())"
   ]
  },
  {
   "cell_type": "code",
   "execution_count": 69,
   "id": "58b1512a-fa52-477f-ac1d-43a176785bc4",
   "metadata": {},
   "outputs": [
    {
     "data": {
      "text/plain": [
       "648"
      ]
     },
     "execution_count": 69,
     "metadata": {},
     "output_type": "execute_result"
    }
   ],
   "source": [
    "len(np.unique(words))"
   ]
  },
  {
   "cell_type": "code",
   "execution_count": 17,
   "id": "474e20b9-9d43-4aea-a3d4-9aab1b8e919b",
   "metadata": {},
   "outputs": [],
   "source": [
    "############################################################################"
   ]
  },
  {
   "cell_type": "code",
   "execution_count": 18,
   "id": "d9b93dcf-9331-4a67-aadf-73d174377d97",
   "metadata": {},
   "outputs": [],
   "source": [
    "vectors = model.wv\n",
    "words = list(model.wv.key_to_index)\n",
    "output_owl2vec = torch.tensor(vectors[words])"
   ]
  },
  {
   "cell_type": "code",
   "execution_count": 19,
   "id": "0737e750-cdeb-4a5e-a452-e30bf3de7957",
   "metadata": {},
   "outputs": [],
   "source": [
    "g = rdflib.Graph()\n",
    "g.parse('datasets/family.owl')\n",
    "\n",
    "nodes = list(set(words))\n",
    "nodes_dict = {node: i for i, node in enumerate(nodes)}\n",
    "nodes_dict_rev = {value: key for key, value in nodes_dict.items()}"
   ]
  },
  {
   "cell_type": "code",
   "execution_count": 20,
   "id": "d2640318-65e0-4aa0-b61d-775b33596aa7",
   "metadata": {},
   "outputs": [],
   "source": [
    "i=0\n",
    "edge_data = defaultdict(list)\n",
    "for s, p, o in g.triples((None, None, None)):\n",
    "    s = s.n3()\n",
    "    s = s.replace('<','')\n",
    "    s = s.replace('>','')\n",
    "    o = o.n3()\n",
    "    o = o.replace('<','')\n",
    "    o = o.replace('>','')\n",
    "    try:\n",
    "        src, dst = nodes_dict[s], nodes_dict[o]\n",
    "        edge_data['edge_index'].append([src, dst])\n",
    "    except:\n",
    "        i+=1\n",
    "edge_index = torch.tensor(edge_data['edge_index'])"
   ]
  },
  {
   "cell_type": "code",
   "execution_count": 21,
   "id": "f3d488be-4fc4-4b62-ad7f-514998c92e00",
   "metadata": {},
   "outputs": [
    {
     "name": "stdout",
     "output_type": "stream",
     "text": [
      "Hits@1: 0.000, Hits@10: 1.000\n"
     ]
    }
   ],
   "source": [
    "hits1, hits10 = eval_hits(edge_index=edge_index,\n",
    "                          tail_pred=1,\n",
    "                          output=output_owl2vec,\n",
    "                          max_num=edge_index.size(1))\n",
    "print(f'Hits@1: {hits1:.3f}, Hits@10: {hits10:.3f}')"
   ]
  },
  {
   "cell_type": "code",
   "execution_count": 28,
   "id": "1ea86bbb-5c77-4ef8-9340-d20cdcf01e95",
   "metadata": {},
   "outputs": [],
   "source": []
  },
  {
   "cell_type": "code",
   "execution_count": 29,
   "id": "bfda5bd8-ccc9-4840-8138-a50123eff1b3",
   "metadata": {},
   "outputs": [],
   "source": [
    "split_ontology('datasets/family.owl', 0.8)"
   ]
  },
  {
   "cell_type": "code",
   "execution_count": null,
   "id": "d5ab6752-2705-40a2-b1ef-c255b2b39fdf",
   "metadata": {},
   "outputs": [],
   "source": []
  }
 ],
 "metadata": {
  "kernelspec": {
   "display_name": "Python 3 (ipykernel)",
   "language": "python",
   "name": "python3"
  },
  "language_info": {
   "codemirror_mode": {
    "name": "ipython",
    "version": 3
   },
   "file_extension": ".py",
   "mimetype": "text/x-python",
   "name": "python",
   "nbconvert_exporter": "python",
   "pygments_lexer": "ipython3",
   "version": "3.8.16"
  }
 },
 "nbformat": 4,
 "nbformat_minor": 5
}
