{
 "cells": [
  {
   "cell_type": "code",
   "execution_count": 1,
   "metadata": {},
   "outputs": [
    {
     "name": "stderr",
     "output_type": "stream",
     "text": [
      "* Owlready2 * Warning: optimized Cython parser module 'owlready2_optimized' is not available, defaulting to slower Python implementation\n",
      "\n",
      "Warning: SQLite3 version 3.40.0 and 3.41.2 have huge performance regressions; please install version 3.41.1 or 3.42!\n",
      "\n"
     ]
    }
   ],
   "source": [
    "from src.utils import *\n",
    "from src.graph_model import *\n",
    "from src.owl2vec import *"
   ]
  },
  {
   "cell_type": "code",
   "execution_count": 2,
   "metadata": {},
   "outputs": [
    {
     "name": "stdout",
     "output_type": "stream",
     "text": [
      "cpu\n"
     ]
    }
   ],
   "source": [
    "device = torch.device('cuda' if torch.cuda.is_available() else 'cpu')\n",
    "device = 'cpu'\n",
    "print(device)"
   ]
  },
  {
   "cell_type": "code",
   "execution_count": 3,
   "metadata": {},
   "outputs": [],
   "source": [
    "# dataset_name = 'OWL2DL-1'\n",
    "dataset_name = 'family'"
   ]
  },
  {
   "cell_type": "code",
   "execution_count": 4,
   "metadata": {},
   "outputs": [],
   "source": [
    "experiments = get_experimets(dataset_name)"
   ]
  },
  {
   "cell_type": "code",
   "execution_count": 5,
   "metadata": {},
   "outputs": [
    {
     "name": "stderr",
     "output_type": "stream",
     "text": [
      "INFO:src.graph_model:Generating Graph datasets/bin/owl2vec/family/family_train.edgelist...\n",
      "INFO:src.graph_model:Loaded train graph with 1385 edges\n",
      "INFO:src.graph_model:Generating Graph datasets/bin/owl2vec/family/family_val_subsumption.edgelist...\n",
      "INFO:src.graph_model:Loaded valid_subsumption graph with 26 edges\n",
      "INFO:src.graph_model:Generating Graph datasets/bin/owl2vec/family/family_val_membership.edgelist...\n",
      "INFO:src.graph_model:Loaded valid_membership graph with 1564 edges\n",
      "INFO:src.graph_model:Generating Graph datasets/bin/owl2vec/family/family_val_link_prediction.edgelist...\n",
      "INFO:src.graph_model:Loaded valid_link_prediction graph with 1302 edges\n",
      "INFO:src.graph_model:Generating Graph datasets/bin/owl2vec/family/family_test_subsumption.edgelist...\n",
      "INFO:src.graph_model:Loaded test_subsumption graph with 26 edges\n",
      "INFO:src.graph_model:Generating Graph datasets/bin/owl2vec/family/family_test_membership.edgelist...\n",
      "INFO:src.graph_model:Loaded test_membership graph with 1575 edges\n",
      "INFO:src.graph_model:Generating Graph datasets/bin/owl2vec/family/family_test_link_prediction.edgelist...\n",
      "INFO:src.graph_model:Loaded test_link_prediction graph with 1317 edges\n",
      "INFO:src.graph_model:Generating Classes...\n",
      "INFO:src.graph_model:Generating Individuals...\n",
      "INFO:src.graph_model:Number of graph nodes: 523\n",
      "INFO:src.graph_model:Number of graph relations: 38\n"
     ]
    },
    {
     "name": "stdout",
     "output_type": "stream",
     "text": [
      "Epoch: 0, Loss: 0.743\n",
      "Epoch: 25, Loss: 0.735\n",
      "Epoch: 50, Loss: 0.730\n",
      "Epoch: 75, Loss: 0.722\n",
      "Epoch: 100, Loss: 0.716\n",
      "Epoch: 125, Loss: 0.709\n",
      "Epoch: 150, Loss: 0.700\n",
      "Epoch: 175, Loss: 0.696\n",
      "Epoch: 200, Loss: 0.689\n",
      "Epoch: 225, Loss: 0.681\n",
      "Epoch: 250, Loss: 0.675\n",
      "Epoch: 275, Loss: 0.666\n",
      "Epoch: 300, Loss: 0.661\n",
      "Epoch: 325, Loss: 0.654\n",
      "Epoch: 350, Loss: 0.646\n",
      "Epoch: 375, Loss: 0.639\n",
      "Epoch: 400, Loss: 0.630\n",
      "Epoch: 425, Loss: 0.625\n",
      "Epoch: 450, Loss: 0.618\n",
      "Epoch: 475, Loss: 0.610\n"
     ]
    },
    {
     "name": "stderr",
     "output_type": "stream",
     "text": [
      "INFO:src.graph_model:Saved class data to datasets/bin/owl2vec/family/family_class_embeddings.pkl\n",
      "INFO:src.graph_model:Saved individual data to datasets/bin/owl2vec/family/family_individual_embeddings.pkl\n",
      "INFO:src.graph_model:Saved role data to datasets/bin/owl2vec/family/family_role_embeddings.pkl\n",
      "INFO:src.graph_model:Saved triples factory to datasets/bin/owl2vec/family/family_triples_factory.pkl\n",
      "INFO:src.graph_model:Testing ontology completion...\n",
      "INFO:src.graph_model:Loading best model from models/owl2vec_family.model.pt\n"
     ]
    },
    {
     "name": "stdout",
     "output_type": "stream",
     "text": [
      "family:\n",
      "Membership:\n"
     ]
    },
    {
     "name": "stderr",
     "output_type": "stream",
     "text": [
      "INFO:src.graph_model:Loading best model from models/owl2vec_family.model.pt\n",
      "INFO:src.graph_model:Loading best model from models/owl2vec_family.model.pt\n"
     ]
    },
    {
     "name": "stdout",
     "output_type": "stream",
     "text": [
      "MRR: 0.381, Hits@1: 0.137, Hits@5: 0.790, Hits@10: 0.931\n",
      "Subsumption:\n",
      "MRR: 0.595, Hits@1: 0.385, Hits@5: 0.846, Hits@10: 0.962\n",
      "Link Prediction:\n",
      "MRR: 0.067, Hits@1: 0.002, Hits@5: 0.096, Hits@10: 0.211\n",
      "\n",
      "Results saved to  models/results/owl2vec/family.txt\n"
     ]
    },
    {
     "name": "stderr",
     "output_type": "stream",
     "text": [
      "INFO:src.graph_model:Generating Graph datasets/bin/owl2vec/family/family_gnn_0.25_train.edgelist...\n",
      "INFO:src.graph_model:Loaded train graph with 2016 edges\n",
      "INFO:src.graph_model:Generating Graph datasets/bin/owl2vec/family/family_gnn_0.25_val_subsumption.edgelist...\n",
      "INFO:src.graph_model:Loaded valid_subsumption graph with 26 edges\n",
      "INFO:src.graph_model:Generating Graph datasets/bin/owl2vec/family/family_gnn_0.25_val_membership.edgelist...\n",
      "INFO:src.graph_model:Loaded valid_membership graph with 1564 edges\n",
      "INFO:src.graph_model:Generating Graph datasets/bin/owl2vec/family/family_gnn_0.25_val_link_prediction.edgelist...\n",
      "INFO:src.graph_model:Loaded valid_link_prediction graph with 1302 edges\n",
      "INFO:src.graph_model:Generating Graph datasets/bin/owl2vec/family/family_gnn_0.25_test_subsumption.edgelist...\n",
      "INFO:src.graph_model:Loaded test_subsumption graph with 26 edges\n",
      "INFO:src.graph_model:Generating Graph datasets/bin/owl2vec/family/family_gnn_0.25_test_membership.edgelist...\n",
      "INFO:src.graph_model:Loaded test_membership graph with 1575 edges\n",
      "INFO:src.graph_model:Generating Graph datasets/bin/owl2vec/family/family_gnn_0.25_test_link_prediction.edgelist...\n",
      "INFO:src.graph_model:Loaded test_link_prediction graph with 1317 edges\n",
      "INFO:src.graph_model:Generating Classes...\n",
      "INFO:src.graph_model:Generating Individuals...\n",
      "INFO:src.graph_model:Number of graph nodes: 523\n",
      "INFO:src.graph_model:Number of graph relations: 38\n"
     ]
    },
    {
     "name": "stdout",
     "output_type": "stream",
     "text": [
      "Epoch: 0, Loss: 0.744\n",
      "Epoch: 25, Loss: 0.736\n",
      "Epoch: 50, Loss: 0.731\n",
      "Epoch: 75, Loss: 0.722\n",
      "Epoch: 100, Loss: 0.716\n",
      "Epoch: 125, Loss: 0.711\n",
      "Epoch: 150, Loss: 0.702\n",
      "Epoch: 175, Loss: 0.697\n",
      "Epoch: 200, Loss: 0.689\n",
      "Epoch: 225, Loss: 0.682\n",
      "Epoch: 250, Loss: 0.677\n",
      "Epoch: 275, Loss: 0.670\n",
      "Epoch: 300, Loss: 0.662\n",
      "Epoch: 325, Loss: 0.658\n",
      "Epoch: 350, Loss: 0.650\n",
      "Epoch: 375, Loss: 0.646\n",
      "Epoch: 400, Loss: 0.638\n",
      "Epoch: 425, Loss: 0.630\n",
      "Epoch: 450, Loss: 0.625\n",
      "Epoch: 475, Loss: 0.615\n"
     ]
    },
    {
     "name": "stderr",
     "output_type": "stream",
     "text": [
      "INFO:src.graph_model:Saved class data to datasets/bin/owl2vec/family/family_gnn_0.25_class_embeddings.pkl\n",
      "INFO:src.graph_model:Saved individual data to datasets/bin/owl2vec/family/family_gnn_0.25_individual_embeddings.pkl\n",
      "INFO:src.graph_model:Saved role data to datasets/bin/owl2vec/family/family_gnn_0.25_role_embeddings.pkl\n",
      "INFO:src.graph_model:Saved triples factory to datasets/bin/owl2vec/family/family_gnn_0.25_triples_factory.pkl\n",
      "INFO:src.graph_model:Testing ontology completion...\n",
      "INFO:src.graph_model:Loading best model from models/owl2vec_family_gnn_0.25.model.pt\n",
      "INFO:src.graph_model:Loading best model from models/owl2vec_family_gnn_0.25.model.pt\n",
      "INFO:src.graph_model:Loading best model from models/owl2vec_family_gnn_0.25.model.pt\n"
     ]
    },
    {
     "name": "stdout",
     "output_type": "stream",
     "text": [
      "family_gnn_0.25:\n",
      "Membership:\n",
      "MRR: 0.380, Hits@1: 0.136, Hits@5: 0.759, Hits@10: 0.935\n",
      "Subsumption:\n",
      "MRR: 0.594, Hits@1: 0.385, Hits@5: 0.808, Hits@10: 0.962\n",
      "Link Prediction:\n",
      "MRR: 0.048, Hits@1: 0.002, Hits@5: 0.068, Hits@10: 0.137\n",
      "\n",
      "Results saved to  models/results/owl2vec/family_gnn_0.25.txt\n"
     ]
    },
    {
     "name": "stderr",
     "output_type": "stream",
     "text": [
      "INFO:src.graph_model:Generating Graph datasets/bin/owl2vec/family/family_random_0.25_train.edgelist...\n",
      "INFO:src.graph_model:Loaded train graph with 1385 edges\n",
      "INFO:src.graph_model:Generating Graph datasets/bin/owl2vec/family/family_random_0.25_val_subsumption.edgelist...\n",
      "INFO:src.graph_model:Loaded valid_subsumption graph with 26 edges\n",
      "INFO:src.graph_model:Generating Graph datasets/bin/owl2vec/family/family_random_0.25_val_membership.edgelist...\n",
      "INFO:src.graph_model:Loaded valid_membership graph with 1564 edges\n",
      "INFO:src.graph_model:Generating Graph datasets/bin/owl2vec/family/family_random_0.25_val_link_prediction.edgelist...\n",
      "INFO:src.graph_model:Loaded valid_link_prediction graph with 1302 edges\n",
      "INFO:src.graph_model:Generating Graph datasets/bin/owl2vec/family/family_random_0.25_test_subsumption.edgelist...\n",
      "INFO:src.graph_model:Loaded test_subsumption graph with 26 edges\n",
      "INFO:src.graph_model:Generating Graph datasets/bin/owl2vec/family/family_random_0.25_test_membership.edgelist...\n",
      "INFO:src.graph_model:Loaded test_membership graph with 1575 edges\n",
      "INFO:src.graph_model:Generating Graph datasets/bin/owl2vec/family/family_random_0.25_test_link_prediction.edgelist...\n",
      "INFO:src.graph_model:Loaded test_link_prediction graph with 1317 edges\n",
      "INFO:src.graph_model:Generating Classes...\n",
      "INFO:src.graph_model:Generating Individuals...\n",
      "INFO:src.graph_model:Number of graph nodes: 523\n",
      "INFO:src.graph_model:Number of graph relations: 38\n"
     ]
    },
    {
     "name": "stdout",
     "output_type": "stream",
     "text": [
      "Epoch: 0, Loss: 0.743\n",
      "Epoch: 25, Loss: 0.735\n",
      "Epoch: 50, Loss: 0.730\n",
      "Epoch: 75, Loss: 0.722\n",
      "Epoch: 100, Loss: 0.716\n",
      "Epoch: 125, Loss: 0.709\n",
      "Epoch: 150, Loss: 0.700\n",
      "Epoch: 175, Loss: 0.696\n",
      "Epoch: 200, Loss: 0.689\n",
      "Epoch: 225, Loss: 0.681\n",
      "Epoch: 250, Loss: 0.675\n",
      "Epoch: 275, Loss: 0.666\n",
      "Epoch: 300, Loss: 0.661\n",
      "Epoch: 325, Loss: 0.655\n",
      "Epoch: 350, Loss: 0.646\n",
      "Epoch: 375, Loss: 0.640\n",
      "Epoch: 400, Loss: 0.630\n",
      "Epoch: 425, Loss: 0.625\n",
      "Epoch: 450, Loss: 0.618\n",
      "Epoch: 475, Loss: 0.609\n"
     ]
    },
    {
     "name": "stderr",
     "output_type": "stream",
     "text": [
      "INFO:src.graph_model:Saved class data to datasets/bin/owl2vec/family/family_random_0.25_class_embeddings.pkl\n",
      "INFO:src.graph_model:Saved individual data to datasets/bin/owl2vec/family/family_random_0.25_individual_embeddings.pkl\n",
      "INFO:src.graph_model:Saved role data to datasets/bin/owl2vec/family/family_random_0.25_role_embeddings.pkl\n",
      "INFO:src.graph_model:Saved triples factory to datasets/bin/owl2vec/family/family_random_0.25_triples_factory.pkl\n",
      "INFO:src.graph_model:Testing ontology completion...\n",
      "INFO:src.graph_model:Loading best model from models/owl2vec_family_random_0.25.model.pt\n"
     ]
    },
    {
     "name": "stdout",
     "output_type": "stream",
     "text": [
      "family_random_0.25:\n",
      "Membership:\n"
     ]
    },
    {
     "name": "stderr",
     "output_type": "stream",
     "text": [
      "INFO:src.graph_model:Loading best model from models/owl2vec_family_random_0.25.model.pt\n",
      "INFO:src.graph_model:Loading best model from models/owl2vec_family_random_0.25.model.pt\n"
     ]
    },
    {
     "name": "stdout",
     "output_type": "stream",
     "text": [
      "MRR: 0.381, Hits@1: 0.137, Hits@5: 0.789, Hits@10: 0.931\n",
      "Subsumption:\n",
      "MRR: 0.595, Hits@1: 0.385, Hits@5: 0.846, Hits@10: 0.962\n",
      "Link Prediction:\n",
      "MRR: 0.067, Hits@1: 0.002, Hits@5: 0.096, Hits@10: 0.210\n",
      "\n",
      "Results saved to  models/results/owl2vec/family_random_0.25.txt\n"
     ]
    },
    {
     "name": "stderr",
     "output_type": "stream",
     "text": [
      "INFO:src.graph_model:Generating Graph datasets/bin/owl2vec/family/family_logical_0.25_train.edgelist...\n",
      "INFO:src.graph_model:Loaded train graph with 1938 edges\n",
      "INFO:src.graph_model:Generating Graph datasets/bin/owl2vec/family/family_logical_0.25_val_subsumption.edgelist...\n",
      "INFO:src.graph_model:Loaded valid_subsumption graph with 26 edges\n",
      "INFO:src.graph_model:Generating Graph datasets/bin/owl2vec/family/family_logical_0.25_val_membership.edgelist...\n",
      "INFO:src.graph_model:Loaded valid_membership graph with 1564 edges\n",
      "INFO:src.graph_model:Generating Graph datasets/bin/owl2vec/family/family_logical_0.25_val_link_prediction.edgelist...\n",
      "INFO:src.graph_model:Loaded valid_link_prediction graph with 1302 edges\n",
      "INFO:src.graph_model:Generating Graph datasets/bin/owl2vec/family/family_logical_0.25_test_subsumption.edgelist...\n",
      "INFO:src.graph_model:Loaded test_subsumption graph with 26 edges\n",
      "INFO:src.graph_model:Generating Graph datasets/bin/owl2vec/family/family_logical_0.25_test_membership.edgelist...\n",
      "INFO:src.graph_model:Loaded test_membership graph with 1575 edges\n",
      "INFO:src.graph_model:Generating Graph datasets/bin/owl2vec/family/family_logical_0.25_test_link_prediction.edgelist...\n",
      "INFO:src.graph_model:Loaded test_link_prediction graph with 1317 edges\n",
      "INFO:src.graph_model:Generating Classes...\n",
      "INFO:src.graph_model:Generating Individuals...\n",
      "INFO:src.graph_model:Number of graph nodes: 523\n",
      "INFO:src.graph_model:Number of graph relations: 38\n"
     ]
    },
    {
     "name": "stdout",
     "output_type": "stream",
     "text": [
      "Epoch: 0, Loss: 0.741\n",
      "Epoch: 25, Loss: 0.733\n",
      "Epoch: 50, Loss: 0.727\n",
      "Epoch: 75, Loss: 0.718\n",
      "Epoch: 100, Loss: 0.712\n",
      "Epoch: 125, Loss: 0.705\n",
      "Epoch: 150, Loss: 0.695\n",
      "Epoch: 175, Loss: 0.692\n",
      "Epoch: 200, Loss: 0.682\n",
      "Epoch: 225, Loss: 0.675\n",
      "Epoch: 250, Loss: 0.670\n",
      "Epoch: 275, Loss: 0.659\n",
      "Epoch: 300, Loss: 0.655\n",
      "Epoch: 325, Loss: 0.649\n",
      "Epoch: 350, Loss: 0.639\n",
      "Epoch: 375, Loss: 0.634\n",
      "Epoch: 400, Loss: 0.625\n",
      "Epoch: 425, Loss: 0.618\n",
      "Epoch: 450, Loss: 0.614\n",
      "Epoch: 475, Loss: 0.604\n"
     ]
    },
    {
     "name": "stderr",
     "output_type": "stream",
     "text": [
      "INFO:src.graph_model:Saved class data to datasets/bin/owl2vec/family/family_logical_0.25_class_embeddings.pkl\n",
      "INFO:src.graph_model:Saved individual data to datasets/bin/owl2vec/family/family_logical_0.25_individual_embeddings.pkl\n",
      "INFO:src.graph_model:Saved role data to datasets/bin/owl2vec/family/family_logical_0.25_role_embeddings.pkl\n",
      "INFO:src.graph_model:Saved triples factory to datasets/bin/owl2vec/family/family_logical_0.25_triples_factory.pkl\n",
      "INFO:src.graph_model:Testing ontology completion...\n",
      "INFO:src.graph_model:Loading best model from models/owl2vec_family_logical_0.25.model.pt\n",
      "INFO:src.graph_model:Loading best model from models/owl2vec_family_logical_0.25.model.pt\n"
     ]
    },
    {
     "name": "stdout",
     "output_type": "stream",
     "text": [
      "family_logical_0.25:\n",
      "Membership:\n",
      "MRR: 0.285, Hits@1: 0.097, Hits@5: 0.410, Hits@10: 0.938\n",
      "Subsumption:\n"
     ]
    },
    {
     "name": "stderr",
     "output_type": "stream",
     "text": [
      "INFO:src.graph_model:Loading best model from models/owl2vec_family_logical_0.25.model.pt\n"
     ]
    },
    {
     "name": "stdout",
     "output_type": "stream",
     "text": [
      "MRR: 0.582, Hits@1: 0.385, Hits@5: 0.846, Hits@10: 0.962\n",
      "Link Prediction:\n",
      "MRR: 0.039, Hits@1: 0.002, Hits@5: 0.027, Hits@10: 0.090\n",
      "\n",
      "Results saved to  models/results/owl2vec/family_logical_0.25.txt\n"
     ]
    },
    {
     "name": "stderr",
     "output_type": "stream",
     "text": [
      "INFO:src.graph_model:Generating Graph datasets/bin/owl2vec/family/family_gnn_0.5_train.edgelist...\n",
      "INFO:src.graph_model:Loaded train graph with 2660 edges\n",
      "INFO:src.graph_model:Generating Graph datasets/bin/owl2vec/family/family_gnn_0.5_val_subsumption.edgelist...\n",
      "INFO:src.graph_model:Loaded valid_subsumption graph with 26 edges\n",
      "INFO:src.graph_model:Generating Graph datasets/bin/owl2vec/family/family_gnn_0.5_val_membership.edgelist...\n",
      "INFO:src.graph_model:Loaded valid_membership graph with 1564 edges\n",
      "INFO:src.graph_model:Generating Graph datasets/bin/owl2vec/family/family_gnn_0.5_val_link_prediction.edgelist...\n",
      "INFO:src.graph_model:Loaded valid_link_prediction graph with 1302 edges\n",
      "INFO:src.graph_model:Generating Graph datasets/bin/owl2vec/family/family_gnn_0.5_test_subsumption.edgelist...\n",
      "INFO:src.graph_model:Loaded test_subsumption graph with 26 edges\n",
      "INFO:src.graph_model:Generating Graph datasets/bin/owl2vec/family/family_gnn_0.5_test_membership.edgelist...\n",
      "INFO:src.graph_model:Loaded test_membership graph with 1575 edges\n",
      "INFO:src.graph_model:Generating Graph datasets/bin/owl2vec/family/family_gnn_0.5_test_link_prediction.edgelist...\n",
      "INFO:src.graph_model:Loaded test_link_prediction graph with 1317 edges\n",
      "INFO:src.graph_model:Generating Classes...\n",
      "INFO:src.graph_model:Generating Individuals...\n",
      "INFO:src.graph_model:Number of graph nodes: 523\n",
      "INFO:src.graph_model:Number of graph relations: 38\n"
     ]
    },
    {
     "name": "stdout",
     "output_type": "stream",
     "text": [
      "Epoch: 0, Loss: 0.744\n",
      "Epoch: 25, Loss: 0.736\n",
      "Epoch: 50, Loss: 0.731\n",
      "Epoch: 75, Loss: 0.721\n",
      "Epoch: 100, Loss: 0.715\n",
      "Epoch: 125, Loss: 0.709\n",
      "Epoch: 150, Loss: 0.700\n",
      "Epoch: 175, Loss: 0.695\n",
      "Epoch: 200, Loss: 0.688\n",
      "Epoch: 225, Loss: 0.680\n",
      "Epoch: 250, Loss: 0.676\n",
      "Epoch: 275, Loss: 0.666\n",
      "Epoch: 300, Loss: 0.661\n",
      "Epoch: 325, Loss: 0.655\n",
      "Epoch: 350, Loss: 0.648\n",
      "Epoch: 375, Loss: 0.642\n",
      "Epoch: 400, Loss: 0.636\n",
      "Epoch: 425, Loss: 0.629\n",
      "Epoch: 450, Loss: 0.624\n",
      "Epoch: 475, Loss: 0.616\n"
     ]
    },
    {
     "name": "stderr",
     "output_type": "stream",
     "text": [
      "INFO:src.graph_model:Saved class data to datasets/bin/owl2vec/family/family_gnn_0.5_class_embeddings.pkl\n",
      "INFO:src.graph_model:Saved individual data to datasets/bin/owl2vec/family/family_gnn_0.5_individual_embeddings.pkl\n",
      "INFO:src.graph_model:Saved role data to datasets/bin/owl2vec/family/family_gnn_0.5_role_embeddings.pkl\n",
      "INFO:src.graph_model:Saved triples factory to datasets/bin/owl2vec/family/family_gnn_0.5_triples_factory.pkl\n",
      "INFO:src.graph_model:Testing ontology completion...\n",
      "INFO:src.graph_model:Loading best model from models/owl2vec_family_gnn_0.5.model.pt\n",
      "INFO:src.graph_model:Loading best model from models/owl2vec_family_gnn_0.5.model.pt\n",
      "INFO:src.graph_model:Loading best model from models/owl2vec_family_gnn_0.5.model.pt\n"
     ]
    },
    {
     "name": "stdout",
     "output_type": "stream",
     "text": [
      "family_gnn_0.5:\n",
      "Membership:\n",
      "MRR: 0.379, Hits@1: 0.136, Hits@5: 0.715, Hits@10: 0.935\n",
      "Subsumption:\n",
      "MRR: 0.596, Hits@1: 0.385, Hits@5: 0.846, Hits@10: 0.962\n",
      "Link Prediction:\n",
      "MRR: 0.038, Hits@1: 0.002, Hits@5: 0.051, Hits@10: 0.093\n",
      "\n",
      "Results saved to  models/results/owl2vec/family_gnn_0.5.txt\n"
     ]
    },
    {
     "name": "stderr",
     "output_type": "stream",
     "text": [
      "INFO:src.graph_model:Generating Graph datasets/bin/owl2vec/family/family_random_0.5_train.edgelist...\n",
      "INFO:src.graph_model:Loaded train graph with 1385 edges\n",
      "INFO:src.graph_model:Generating Graph datasets/bin/owl2vec/family/family_random_0.5_val_subsumption.edgelist...\n",
      "INFO:src.graph_model:Loaded valid_subsumption graph with 26 edges\n",
      "INFO:src.graph_model:Generating Graph datasets/bin/owl2vec/family/family_random_0.5_val_membership.edgelist...\n",
      "INFO:src.graph_model:Loaded valid_membership graph with 1564 edges\n",
      "INFO:src.graph_model:Generating Graph datasets/bin/owl2vec/family/family_random_0.5_val_link_prediction.edgelist...\n",
      "INFO:src.graph_model:Loaded valid_link_prediction graph with 1302 edges\n",
      "INFO:src.graph_model:Generating Graph datasets/bin/owl2vec/family/family_random_0.5_test_subsumption.edgelist...\n",
      "INFO:src.graph_model:Loaded test_subsumption graph with 26 edges\n",
      "INFO:src.graph_model:Generating Graph datasets/bin/owl2vec/family/family_random_0.5_test_membership.edgelist...\n",
      "INFO:src.graph_model:Loaded test_membership graph with 1575 edges\n",
      "INFO:src.graph_model:Generating Graph datasets/bin/owl2vec/family/family_random_0.5_test_link_prediction.edgelist...\n",
      "INFO:src.graph_model:Loaded test_link_prediction graph with 1317 edges\n",
      "INFO:src.graph_model:Generating Classes...\n",
      "INFO:src.graph_model:Generating Individuals...\n",
      "INFO:src.graph_model:Number of graph nodes: 523\n",
      "INFO:src.graph_model:Number of graph relations: 38\n"
     ]
    },
    {
     "name": "stdout",
     "output_type": "stream",
     "text": [
      "Epoch: 0, Loss: 0.743\n",
      "Epoch: 25, Loss: 0.735\n",
      "Epoch: 50, Loss: 0.730\n",
      "Epoch: 75, Loss: 0.722\n",
      "Epoch: 100, Loss: 0.716\n",
      "Epoch: 125, Loss: 0.709\n",
      "Epoch: 150, Loss: 0.701\n",
      "Epoch: 175, Loss: 0.696\n",
      "Epoch: 200, Loss: 0.689\n",
      "Epoch: 225, Loss: 0.681\n",
      "Epoch: 250, Loss: 0.675\n",
      "Epoch: 275, Loss: 0.666\n",
      "Epoch: 300, Loss: 0.661\n",
      "Epoch: 325, Loss: 0.654\n",
      "Epoch: 350, Loss: 0.646\n",
      "Epoch: 375, Loss: 0.639\n",
      "Epoch: 400, Loss: 0.630\n",
      "Epoch: 425, Loss: 0.624\n",
      "Epoch: 450, Loss: 0.618\n",
      "Epoch: 475, Loss: 0.610\n"
     ]
    },
    {
     "name": "stderr",
     "output_type": "stream",
     "text": [
      "INFO:src.graph_model:Saved class data to datasets/bin/owl2vec/family/family_random_0.5_class_embeddings.pkl\n",
      "INFO:src.graph_model:Saved individual data to datasets/bin/owl2vec/family/family_random_0.5_individual_embeddings.pkl\n",
      "INFO:src.graph_model:Saved role data to datasets/bin/owl2vec/family/family_random_0.5_role_embeddings.pkl\n",
      "INFO:src.graph_model:Saved triples factory to datasets/bin/owl2vec/family/family_random_0.5_triples_factory.pkl\n",
      "INFO:src.graph_model:Testing ontology completion...\n",
      "INFO:src.graph_model:Loading best model from models/owl2vec_family_random_0.5.model.pt\n",
      "INFO:src.graph_model:Loading best model from models/owl2vec_family_random_0.5.model.pt\n",
      "INFO:src.graph_model:Loading best model from models/owl2vec_family_random_0.5.model.pt\n"
     ]
    },
    {
     "name": "stdout",
     "output_type": "stream",
     "text": [
      "family_random_0.5:\n",
      "Membership:\n",
      "MRR: 0.381, Hits@1: 0.137, Hits@5: 0.789, Hits@10: 0.931\n",
      "Subsumption:\n",
      "MRR: 0.595, Hits@1: 0.385, Hits@5: 0.846, Hits@10: 0.962\n",
      "Link Prediction:\n",
      "MRR: 0.066, Hits@1: 0.002, Hits@5: 0.096, Hits@10: 0.208\n",
      "\n",
      "Results saved to  models/results/owl2vec/family_random_0.5.txt\n"
     ]
    },
    {
     "name": "stderr",
     "output_type": "stream",
     "text": [
      "INFO:src.graph_model:Generating Graph datasets/bin/owl2vec/family/family_logical_0.5_train.edgelist...\n",
      "INFO:src.graph_model:Loaded train graph with 2360 edges\n",
      "INFO:src.graph_model:Generating Graph datasets/bin/owl2vec/family/family_logical_0.5_val_subsumption.edgelist...\n",
      "INFO:src.graph_model:Loaded valid_subsumption graph with 26 edges\n",
      "INFO:src.graph_model:Generating Graph datasets/bin/owl2vec/family/family_logical_0.5_val_membership.edgelist...\n",
      "INFO:src.graph_model:Loaded valid_membership graph with 1564 edges\n",
      "INFO:src.graph_model:Generating Graph datasets/bin/owl2vec/family/family_logical_0.5_val_link_prediction.edgelist...\n",
      "INFO:src.graph_model:Loaded valid_link_prediction graph with 1302 edges\n",
      "INFO:src.graph_model:Generating Graph datasets/bin/owl2vec/family/family_logical_0.5_test_subsumption.edgelist...\n",
      "INFO:src.graph_model:Loaded test_subsumption graph with 26 edges\n",
      "INFO:src.graph_model:Generating Graph datasets/bin/owl2vec/family/family_logical_0.5_test_membership.edgelist...\n",
      "INFO:src.graph_model:Loaded test_membership graph with 1575 edges\n",
      "INFO:src.graph_model:Generating Graph datasets/bin/owl2vec/family/family_logical_0.5_test_link_prediction.edgelist...\n",
      "INFO:src.graph_model:Loaded test_link_prediction graph with 1317 edges\n",
      "INFO:src.graph_model:Generating Classes...\n",
      "INFO:src.graph_model:Generating Individuals...\n",
      "INFO:src.graph_model:Number of graph nodes: 523\n",
      "INFO:src.graph_model:Number of graph relations: 38\n"
     ]
    },
    {
     "name": "stdout",
     "output_type": "stream",
     "text": [
      "Epoch: 0, Loss: 0.741\n",
      "Epoch: 25, Loss: 0.732\n",
      "Epoch: 50, Loss: 0.726\n",
      "Epoch: 75, Loss: 0.716\n",
      "Epoch: 100, Loss: 0.709\n",
      "Epoch: 125, Loss: 0.702\n",
      "Epoch: 150, Loss: 0.692\n",
      "Epoch: 175, Loss: 0.687\n",
      "Epoch: 200, Loss: 0.679\n",
      "Epoch: 225, Loss: 0.671\n",
      "Epoch: 250, Loss: 0.665\n",
      "Epoch: 275, Loss: 0.656\n",
      "Epoch: 300, Loss: 0.649\n",
      "Epoch: 325, Loss: 0.644\n",
      "Epoch: 350, Loss: 0.635\n",
      "Epoch: 375, Loss: 0.629\n",
      "Epoch: 400, Loss: 0.622\n",
      "Epoch: 425, Loss: 0.614\n",
      "Epoch: 450, Loss: 0.610\n",
      "Epoch: 475, Loss: 0.601\n"
     ]
    },
    {
     "name": "stderr",
     "output_type": "stream",
     "text": [
      "INFO:src.graph_model:Saved class data to datasets/bin/owl2vec/family/family_logical_0.5_class_embeddings.pkl\n",
      "INFO:src.graph_model:Saved individual data to datasets/bin/owl2vec/family/family_logical_0.5_individual_embeddings.pkl\n",
      "INFO:src.graph_model:Saved role data to datasets/bin/owl2vec/family/family_logical_0.5_role_embeddings.pkl\n",
      "INFO:src.graph_model:Saved triples factory to datasets/bin/owl2vec/family/family_logical_0.5_triples_factory.pkl\n",
      "INFO:src.graph_model:Testing ontology completion...\n",
      "INFO:src.graph_model:Loading best model from models/owl2vec_family_logical_0.5.model.pt\n",
      "INFO:src.graph_model:Loading best model from models/owl2vec_family_logical_0.5.model.pt\n",
      "INFO:src.graph_model:Loading best model from models/owl2vec_family_logical_0.5.model.pt\n"
     ]
    },
    {
     "name": "stdout",
     "output_type": "stream",
     "text": [
      "family_logical_0.5:\n",
      "Membership:\n",
      "MRR: 0.269, Hits@1: 0.069, Hits@5: 0.413, Hits@10: 0.937\n",
      "Subsumption:\n",
      "MRR: 0.582, Hits@1: 0.385, Hits@5: 0.808, Hits@10: 0.962\n",
      "Link Prediction:\n"
     ]
    },
    {
     "name": "stderr",
     "output_type": "stream",
     "text": [
      "INFO:src.graph_model:Generating Graph datasets/bin/owl2vec/family/family_gnn_0.75_train.edgelist...\n"
     ]
    },
    {
     "name": "stdout",
     "output_type": "stream",
     "text": [
      "MRR: 0.038, Hits@1: 0.002, Hits@5: 0.029, Hits@10: 0.084\n",
      "\n",
      "Results saved to  models/results/owl2vec/family_logical_0.5.txt\n"
     ]
    },
    {
     "name": "stderr",
     "output_type": "stream",
     "text": [
      "INFO:src.graph_model:Loaded train graph with 3288 edges\n",
      "INFO:src.graph_model:Generating Graph datasets/bin/owl2vec/family/family_gnn_0.75_val_subsumption.edgelist...\n",
      "INFO:src.graph_model:Loaded valid_subsumption graph with 26 edges\n",
      "INFO:src.graph_model:Generating Graph datasets/bin/owl2vec/family/family_gnn_0.75_val_membership.edgelist...\n",
      "INFO:src.graph_model:Loaded valid_membership graph with 1564 edges\n",
      "INFO:src.graph_model:Generating Graph datasets/bin/owl2vec/family/family_gnn_0.75_val_link_prediction.edgelist...\n",
      "INFO:src.graph_model:Loaded valid_link_prediction graph with 1302 edges\n",
      "INFO:src.graph_model:Generating Graph datasets/bin/owl2vec/family/family_gnn_0.75_test_subsumption.edgelist...\n",
      "INFO:src.graph_model:Loaded test_subsumption graph with 26 edges\n",
      "INFO:src.graph_model:Generating Graph datasets/bin/owl2vec/family/family_gnn_0.75_test_membership.edgelist...\n",
      "INFO:src.graph_model:Loaded test_membership graph with 1575 edges\n",
      "INFO:src.graph_model:Generating Graph datasets/bin/owl2vec/family/family_gnn_0.75_test_link_prediction.edgelist...\n",
      "INFO:src.graph_model:Loaded test_link_prediction graph with 1317 edges\n",
      "INFO:src.graph_model:Generating Classes...\n",
      "INFO:src.graph_model:Generating Individuals...\n",
      "INFO:src.graph_model:Number of graph nodes: 523\n",
      "INFO:src.graph_model:Number of graph relations: 38\n"
     ]
    },
    {
     "name": "stdout",
     "output_type": "stream",
     "text": [
      "Epoch: 0, Loss: 0.744\n",
      "Epoch: 25, Loss: 0.734\n",
      "Epoch: 50, Loss: 0.729\n",
      "Epoch: 75, Loss: 0.719\n",
      "Epoch: 100, Loss: 0.712\n",
      "Epoch: 125, Loss: 0.707\n",
      "Epoch: 150, Loss: 0.697\n",
      "Epoch: 175, Loss: 0.691\n",
      "Epoch: 200, Loss: 0.684\n",
      "Epoch: 225, Loss: 0.676\n",
      "Epoch: 250, Loss: 0.670\n",
      "Epoch: 275, Loss: 0.662\n",
      "Epoch: 300, Loss: 0.657\n",
      "Epoch: 325, Loss: 0.652\n",
      "Epoch: 350, Loss: 0.643\n",
      "Epoch: 375, Loss: 0.638\n",
      "Epoch: 400, Loss: 0.631\n",
      "Epoch: 425, Loss: 0.625\n",
      "Epoch: 450, Loss: 0.620\n",
      "Epoch: 475, Loss: 0.612\n"
     ]
    },
    {
     "name": "stderr",
     "output_type": "stream",
     "text": [
      "INFO:src.graph_model:Saved class data to datasets/bin/owl2vec/family/family_gnn_0.75_class_embeddings.pkl\n",
      "INFO:src.graph_model:Saved individual data to datasets/bin/owl2vec/family/family_gnn_0.75_individual_embeddings.pkl\n",
      "INFO:src.graph_model:Saved role data to datasets/bin/owl2vec/family/family_gnn_0.75_role_embeddings.pkl\n",
      "INFO:src.graph_model:Saved triples factory to datasets/bin/owl2vec/family/family_gnn_0.75_triples_factory.pkl\n",
      "INFO:src.graph_model:Testing ontology completion...\n",
      "INFO:src.graph_model:Loading best model from models/owl2vec_family_gnn_0.75.model.pt\n",
      "INFO:src.graph_model:Loading best model from models/owl2vec_family_gnn_0.75.model.pt\n",
      "INFO:src.graph_model:Loading best model from models/owl2vec_family_gnn_0.75.model.pt\n"
     ]
    },
    {
     "name": "stdout",
     "output_type": "stream",
     "text": [
      "family_gnn_0.75:\n",
      "Membership:\n",
      "MRR: 0.380, Hits@1: 0.137, Hits@5: 0.687, Hits@10: 0.935\n",
      "Subsumption:\n",
      "MRR: 0.594, Hits@1: 0.385, Hits@5: 0.846, Hits@10: 0.962\n",
      "Link Prediction:\n",
      "MRR: 0.031, Hits@1: 0.002, Hits@5: 0.039, Hits@10: 0.072\n",
      "\n",
      "Results saved to  models/results/owl2vec/family_gnn_0.75.txt\n"
     ]
    },
    {
     "name": "stderr",
     "output_type": "stream",
     "text": [
      "INFO:src.graph_model:Generating Graph datasets/bin/owl2vec/family/family_random_0.75_train.edgelist...\n",
      "INFO:src.graph_model:Loaded train graph with 1385 edges\n",
      "INFO:src.graph_model:Generating Graph datasets/bin/owl2vec/family/family_random_0.75_val_subsumption.edgelist...\n",
      "INFO:src.graph_model:Loaded valid_subsumption graph with 26 edges\n",
      "INFO:src.graph_model:Generating Graph datasets/bin/owl2vec/family/family_random_0.75_val_membership.edgelist...\n",
      "INFO:src.graph_model:Loaded valid_membership graph with 1564 edges\n",
      "INFO:src.graph_model:Generating Graph datasets/bin/owl2vec/family/family_random_0.75_val_link_prediction.edgelist...\n",
      "INFO:src.graph_model:Loaded valid_link_prediction graph with 1302 edges\n",
      "INFO:src.graph_model:Generating Graph datasets/bin/owl2vec/family/family_random_0.75_test_subsumption.edgelist...\n",
      "INFO:src.graph_model:Loaded test_subsumption graph with 26 edges\n",
      "INFO:src.graph_model:Generating Graph datasets/bin/owl2vec/family/family_random_0.75_test_membership.edgelist...\n",
      "INFO:src.graph_model:Loaded test_membership graph with 1575 edges\n",
      "INFO:src.graph_model:Generating Graph datasets/bin/owl2vec/family/family_random_0.75_test_link_prediction.edgelist...\n",
      "INFO:src.graph_model:Loaded test_link_prediction graph with 1317 edges\n",
      "INFO:src.graph_model:Generating Classes...\n",
      "INFO:src.graph_model:Generating Individuals...\n",
      "INFO:src.graph_model:Number of graph nodes: 523\n",
      "INFO:src.graph_model:Number of graph relations: 38\n"
     ]
    },
    {
     "name": "stdout",
     "output_type": "stream",
     "text": [
      "Epoch: 0, Loss: 0.743\n",
      "Epoch: 25, Loss: 0.735\n",
      "Epoch: 50, Loss: 0.731\n",
      "Epoch: 75, Loss: 0.722\n",
      "Epoch: 100, Loss: 0.717\n",
      "Epoch: 125, Loss: 0.709\n",
      "Epoch: 150, Loss: 0.700\n",
      "Epoch: 175, Loss: 0.696\n",
      "Epoch: 200, Loss: 0.689\n",
      "Epoch: 225, Loss: 0.681\n",
      "Epoch: 250, Loss: 0.676\n",
      "Epoch: 275, Loss: 0.666\n",
      "Epoch: 300, Loss: 0.661\n",
      "Epoch: 325, Loss: 0.655\n",
      "Epoch: 350, Loss: 0.646\n",
      "Epoch: 375, Loss: 0.639\n",
      "Epoch: 400, Loss: 0.630\n",
      "Epoch: 425, Loss: 0.624\n",
      "Epoch: 450, Loss: 0.618\n",
      "Epoch: 475, Loss: 0.609\n"
     ]
    },
    {
     "name": "stderr",
     "output_type": "stream",
     "text": [
      "INFO:src.graph_model:Saved class data to datasets/bin/owl2vec/family/family_random_0.75_class_embeddings.pkl\n",
      "INFO:src.graph_model:Saved individual data to datasets/bin/owl2vec/family/family_random_0.75_individual_embeddings.pkl\n",
      "INFO:src.graph_model:Saved role data to datasets/bin/owl2vec/family/family_random_0.75_role_embeddings.pkl\n",
      "INFO:src.graph_model:Saved triples factory to datasets/bin/owl2vec/family/family_random_0.75_triples_factory.pkl\n",
      "INFO:src.graph_model:Testing ontology completion...\n",
      "INFO:src.graph_model:Loading best model from models/owl2vec_family_random_0.75.model.pt\n",
      "INFO:src.graph_model:Loading best model from models/owl2vec_family_random_0.75.model.pt\n",
      "INFO:src.graph_model:Loading best model from models/owl2vec_family_random_0.75.model.pt\n"
     ]
    },
    {
     "name": "stdout",
     "output_type": "stream",
     "text": [
      "family_random_0.75:\n",
      "Membership:\n",
      "MRR: 0.381, Hits@1: 0.137, Hits@5: 0.788, Hits@10: 0.931\n",
      "Subsumption:\n",
      "MRR: 0.595, Hits@1: 0.385, Hits@5: 0.846, Hits@10: 0.962\n",
      "Link Prediction:\n"
     ]
    },
    {
     "name": "stderr",
     "output_type": "stream",
     "text": [
      "INFO:src.graph_model:Generating Graph datasets/bin/owl2vec/family/family_logical_0.75_train.edgelist...\n"
     ]
    },
    {
     "name": "stdout",
     "output_type": "stream",
     "text": [
      "MRR: 0.066, Hits@1: 0.002, Hits@5: 0.095, Hits@10: 0.209\n",
      "\n",
      "Results saved to  models/results/owl2vec/family_random_0.75.txt\n"
     ]
    },
    {
     "name": "stderr",
     "output_type": "stream",
     "text": [
      "INFO:src.graph_model:Loaded train graph with 2722 edges\n",
      "INFO:src.graph_model:Generating Graph datasets/bin/owl2vec/family/family_logical_0.75_val_subsumption.edgelist...\n",
      "INFO:src.graph_model:Loaded valid_subsumption graph with 26 edges\n",
      "INFO:src.graph_model:Generating Graph datasets/bin/owl2vec/family/family_logical_0.75_val_membership.edgelist...\n",
      "INFO:src.graph_model:Loaded valid_membership graph with 1564 edges\n",
      "INFO:src.graph_model:Generating Graph datasets/bin/owl2vec/family/family_logical_0.75_val_link_prediction.edgelist...\n",
      "INFO:src.graph_model:Loaded valid_link_prediction graph with 1302 edges\n",
      "INFO:src.graph_model:Generating Graph datasets/bin/owl2vec/family/family_logical_0.75_test_subsumption.edgelist...\n",
      "INFO:src.graph_model:Loaded test_subsumption graph with 26 edges\n",
      "INFO:src.graph_model:Generating Graph datasets/bin/owl2vec/family/family_logical_0.75_test_membership.edgelist...\n",
      "INFO:src.graph_model:Loaded test_membership graph with 1575 edges\n",
      "INFO:src.graph_model:Generating Graph datasets/bin/owl2vec/family/family_logical_0.75_test_link_prediction.edgelist...\n",
      "INFO:src.graph_model:Loaded test_link_prediction graph with 1317 edges\n",
      "INFO:src.graph_model:Generating Classes...\n",
      "INFO:src.graph_model:Generating Individuals...\n",
      "INFO:src.graph_model:Number of graph nodes: 523\n",
      "INFO:src.graph_model:Number of graph relations: 38\n"
     ]
    },
    {
     "name": "stdout",
     "output_type": "stream",
     "text": [
      "Epoch: 0, Loss: 0.740\n",
      "Epoch: 25, Loss: 0.730\n",
      "Epoch: 50, Loss: 0.724\n",
      "Epoch: 75, Loss: 0.714\n",
      "Epoch: 100, Loss: 0.706\n",
      "Epoch: 125, Loss: 0.699\n",
      "Epoch: 150, Loss: 0.690\n",
      "Epoch: 175, Loss: 0.685\n",
      "Epoch: 200, Loss: 0.675\n",
      "Epoch: 225, Loss: 0.667\n",
      "Epoch: 250, Loss: 0.661\n",
      "Epoch: 275, Loss: 0.652\n",
      "Epoch: 300, Loss: 0.647\n",
      "Epoch: 325, Loss: 0.640\n",
      "Epoch: 350, Loss: 0.632\n",
      "Epoch: 375, Loss: 0.626\n",
      "Epoch: 400, Loss: 0.618\n",
      "Epoch: 425, Loss: 0.610\n",
      "Epoch: 450, Loss: 0.606\n",
      "Epoch: 475, Loss: 0.597\n"
     ]
    },
    {
     "name": "stderr",
     "output_type": "stream",
     "text": [
      "INFO:src.graph_model:Saved class data to datasets/bin/owl2vec/family/family_logical_0.75_class_embeddings.pkl\n",
      "INFO:src.graph_model:Saved individual data to datasets/bin/owl2vec/family/family_logical_0.75_individual_embeddings.pkl\n",
      "INFO:src.graph_model:Saved role data to datasets/bin/owl2vec/family/family_logical_0.75_role_embeddings.pkl\n",
      "INFO:src.graph_model:Saved triples factory to datasets/bin/owl2vec/family/family_logical_0.75_triples_factory.pkl\n",
      "INFO:src.graph_model:Testing ontology completion...\n",
      "INFO:src.graph_model:Loading best model from models/owl2vec_family_logical_0.75.model.pt\n",
      "INFO:src.graph_model:Loading best model from models/owl2vec_family_logical_0.75.model.pt\n",
      "INFO:src.graph_model:Loading best model from models/owl2vec_family_logical_0.75.model.pt\n"
     ]
    },
    {
     "name": "stdout",
     "output_type": "stream",
     "text": [
      "family_logical_0.75:\n",
      "Membership:\n",
      "MRR: 0.268, Hits@1: 0.069, Hits@5: 0.411, Hits@10: 0.937\n",
      "Subsumption:\n",
      "MRR: 0.576, Hits@1: 0.385, Hits@5: 0.769, Hits@10: 0.962\n",
      "Link Prediction:\n",
      "MRR: 0.032, Hits@1: 0.002, Hits@5: 0.017, Hits@10: 0.069\n",
      "\n",
      "Results saved to  models/results/owl2vec/family_logical_0.75.txt\n"
     ]
    },
    {
     "name": "stderr",
     "output_type": "stream",
     "text": [
      "INFO:src.graph_model:Generating Graph datasets/bin/owl2vec/family/family_gnn_1.0_train.edgelist...\n",
      "INFO:src.graph_model:Loaded train graph with 3934 edges\n",
      "INFO:src.graph_model:Generating Graph datasets/bin/owl2vec/family/family_gnn_1.0_val_subsumption.edgelist...\n",
      "INFO:src.graph_model:Loaded valid_subsumption graph with 26 edges\n",
      "INFO:src.graph_model:Generating Graph datasets/bin/owl2vec/family/family_gnn_1.0_val_membership.edgelist...\n",
      "INFO:src.graph_model:Loaded valid_membership graph with 1564 edges\n",
      "INFO:src.graph_model:Generating Graph datasets/bin/owl2vec/family/family_gnn_1.0_val_link_prediction.edgelist...\n",
      "INFO:src.graph_model:Loaded valid_link_prediction graph with 1302 edges\n",
      "INFO:src.graph_model:Generating Graph datasets/bin/owl2vec/family/family_gnn_1.0_test_subsumption.edgelist...\n",
      "INFO:src.graph_model:Loaded test_subsumption graph with 26 edges\n",
      "INFO:src.graph_model:Generating Graph datasets/bin/owl2vec/family/family_gnn_1.0_test_membership.edgelist...\n",
      "INFO:src.graph_model:Loaded test_membership graph with 1575 edges\n",
      "INFO:src.graph_model:Generating Graph datasets/bin/owl2vec/family/family_gnn_1.0_test_link_prediction.edgelist...\n",
      "INFO:src.graph_model:Loaded test_link_prediction graph with 1317 edges\n",
      "INFO:src.graph_model:Generating Classes...\n",
      "INFO:src.graph_model:Generating Individuals...\n",
      "INFO:src.graph_model:Number of graph nodes: 523\n",
      "INFO:src.graph_model:Number of graph relations: 38\n"
     ]
    },
    {
     "name": "stdout",
     "output_type": "stream",
     "text": [
      "Epoch: 0, Loss: 0.742\n",
      "Epoch: 25, Loss: 0.732\n",
      "Epoch: 50, Loss: 0.726\n",
      "Epoch: 75, Loss: 0.714\n",
      "Epoch: 100, Loss: 0.708\n",
      "Epoch: 125, Loss: 0.701\n",
      "Epoch: 150, Loss: 0.691\n",
      "Epoch: 175, Loss: 0.686\n",
      "Epoch: 200, Loss: 0.677\n",
      "Epoch: 225, Loss: 0.670\n",
      "Epoch: 250, Loss: 0.665\n",
      "Epoch: 275, Loss: 0.657\n",
      "Epoch: 300, Loss: 0.650\n",
      "Epoch: 325, Loss: 0.645\n",
      "Epoch: 350, Loss: 0.637\n",
      "Epoch: 375, Loss: 0.632\n",
      "Epoch: 400, Loss: 0.625\n",
      "Epoch: 425, Loss: 0.619\n",
      "Epoch: 450, Loss: 0.614\n",
      "Epoch: 475, Loss: 0.605\n"
     ]
    },
    {
     "name": "stderr",
     "output_type": "stream",
     "text": [
      "INFO:src.graph_model:Saved class data to datasets/bin/owl2vec/family/family_gnn_1.0_class_embeddings.pkl\n",
      "INFO:src.graph_model:Saved individual data to datasets/bin/owl2vec/family/family_gnn_1.0_individual_embeddings.pkl\n",
      "INFO:src.graph_model:Saved role data to datasets/bin/owl2vec/family/family_gnn_1.0_role_embeddings.pkl\n",
      "INFO:src.graph_model:Saved triples factory to datasets/bin/owl2vec/family/family_gnn_1.0_triples_factory.pkl\n",
      "INFO:src.graph_model:Testing ontology completion...\n",
      "INFO:src.graph_model:Loading best model from models/owl2vec_family_gnn_1.0.model.pt\n",
      "INFO:src.graph_model:Loading best model from models/owl2vec_family_gnn_1.0.model.pt\n",
      "INFO:src.graph_model:Loading best model from models/owl2vec_family_gnn_1.0.model.pt\n"
     ]
    },
    {
     "name": "stdout",
     "output_type": "stream",
     "text": [
      "family_gnn_1.0:\n",
      "Membership:\n",
      "MRR: 0.381, Hits@1: 0.136, Hits@5: 0.679, Hits@10: 0.936\n",
      "Subsumption:\n",
      "MRR: 0.597, Hits@1: 0.385, Hits@5: 0.885, Hits@10: 0.962\n",
      "Link Prediction:\n",
      "MRR: 0.026, Hits@1: 0.002, Hits@5: 0.030, Hits@10: 0.065\n",
      "\n",
      "Results saved to  models/results/owl2vec/family_gnn_1.0.txt\n"
     ]
    },
    {
     "name": "stderr",
     "output_type": "stream",
     "text": [
      "INFO:src.graph_model:Generating Graph datasets/bin/owl2vec/family/family_random_1.0_train.edgelist...\n",
      "INFO:src.graph_model:Loaded train graph with 1385 edges\n",
      "INFO:src.graph_model:Generating Graph datasets/bin/owl2vec/family/family_random_1.0_val_subsumption.edgelist...\n",
      "INFO:src.graph_model:Loaded valid_subsumption graph with 26 edges\n",
      "INFO:src.graph_model:Generating Graph datasets/bin/owl2vec/family/family_random_1.0_val_membership.edgelist...\n",
      "INFO:src.graph_model:Loaded valid_membership graph with 1564 edges\n",
      "INFO:src.graph_model:Generating Graph datasets/bin/owl2vec/family/family_random_1.0_val_link_prediction.edgelist...\n",
      "INFO:src.graph_model:Loaded valid_link_prediction graph with 1302 edges\n",
      "INFO:src.graph_model:Generating Graph datasets/bin/owl2vec/family/family_random_1.0_test_subsumption.edgelist...\n",
      "INFO:src.graph_model:Loaded test_subsumption graph with 26 edges\n",
      "INFO:src.graph_model:Generating Graph datasets/bin/owl2vec/family/family_random_1.0_test_membership.edgelist...\n",
      "INFO:src.graph_model:Loaded test_membership graph with 1575 edges\n",
      "INFO:src.graph_model:Generating Graph datasets/bin/owl2vec/family/family_random_1.0_test_link_prediction.edgelist...\n",
      "INFO:src.graph_model:Loaded test_link_prediction graph with 1317 edges\n",
      "INFO:src.graph_model:Generating Classes...\n",
      "INFO:src.graph_model:Generating Individuals...\n",
      "INFO:src.graph_model:Number of graph nodes: 523\n",
      "INFO:src.graph_model:Number of graph relations: 38\n"
     ]
    },
    {
     "name": "stdout",
     "output_type": "stream",
     "text": [
      "Epoch: 0, Loss: 0.743\n",
      "Epoch: 25, Loss: 0.735\n",
      "Epoch: 50, Loss: 0.731\n",
      "Epoch: 75, Loss: 0.722\n",
      "Epoch: 100, Loss: 0.716\n",
      "Epoch: 125, Loss: 0.709\n",
      "Epoch: 150, Loss: 0.700\n",
      "Epoch: 175, Loss: 0.696\n",
      "Epoch: 200, Loss: 0.689\n",
      "Epoch: 225, Loss: 0.681\n",
      "Epoch: 250, Loss: 0.676\n",
      "Epoch: 275, Loss: 0.667\n",
      "Epoch: 300, Loss: 0.661\n",
      "Epoch: 325, Loss: 0.654\n",
      "Epoch: 350, Loss: 0.646\n",
      "Epoch: 375, Loss: 0.639\n",
      "Epoch: 400, Loss: 0.631\n",
      "Epoch: 425, Loss: 0.625\n",
      "Epoch: 450, Loss: 0.618\n",
      "Epoch: 475, Loss: 0.609\n"
     ]
    },
    {
     "name": "stderr",
     "output_type": "stream",
     "text": [
      "INFO:src.graph_model:Saved class data to datasets/bin/owl2vec/family/family_random_1.0_class_embeddings.pkl\n",
      "INFO:src.graph_model:Saved individual data to datasets/bin/owl2vec/family/family_random_1.0_individual_embeddings.pkl\n",
      "INFO:src.graph_model:Saved role data to datasets/bin/owl2vec/family/family_random_1.0_role_embeddings.pkl\n",
      "INFO:src.graph_model:Saved triples factory to datasets/bin/owl2vec/family/family_random_1.0_triples_factory.pkl\n",
      "INFO:src.graph_model:Testing ontology completion...\n",
      "INFO:src.graph_model:Loading best model from models/owl2vec_family_random_1.0.model.pt\n"
     ]
    },
    {
     "name": "stdout",
     "output_type": "stream",
     "text": [
      "family_random_1.0:\n",
      "Membership:\n"
     ]
    },
    {
     "name": "stderr",
     "output_type": "stream",
     "text": [
      "INFO:src.graph_model:Loading best model from models/owl2vec_family_random_1.0.model.pt\n",
      "INFO:src.graph_model:Loading best model from models/owl2vec_family_random_1.0.model.pt\n"
     ]
    },
    {
     "name": "stdout",
     "output_type": "stream",
     "text": [
      "MRR: 0.381, Hits@1: 0.137, Hits@5: 0.790, Hits@10: 0.931\n",
      "Subsumption:\n",
      "MRR: 0.595, Hits@1: 0.385, Hits@5: 0.846, Hits@10: 0.962\n",
      "Link Prediction:\n"
     ]
    },
    {
     "name": "stderr",
     "output_type": "stream",
     "text": [
      "INFO:src.graph_model:Generating Graph datasets/bin/owl2vec/family/family_logical_1.0_train.edgelist...\n"
     ]
    },
    {
     "name": "stdout",
     "output_type": "stream",
     "text": [
      "MRR: 0.066, Hits@1: 0.002, Hits@5: 0.095, Hits@10: 0.207\n",
      "\n",
      "Results saved to  models/results/owl2vec/family_random_1.0.txt\n"
     ]
    },
    {
     "name": "stderr",
     "output_type": "stream",
     "text": [
      "INFO:src.graph_model:Loaded train graph with 3018 edges\n",
      "INFO:src.graph_model:Generating Graph datasets/bin/owl2vec/family/family_logical_1.0_val_subsumption.edgelist...\n",
      "INFO:src.graph_model:Loaded valid_subsumption graph with 26 edges\n",
      "INFO:src.graph_model:Generating Graph datasets/bin/owl2vec/family/family_logical_1.0_val_membership.edgelist...\n",
      "INFO:src.graph_model:Loaded valid_membership graph with 1564 edges\n",
      "INFO:src.graph_model:Generating Graph datasets/bin/owl2vec/family/family_logical_1.0_val_link_prediction.edgelist...\n",
      "INFO:src.graph_model:Loaded valid_link_prediction graph with 1302 edges\n",
      "INFO:src.graph_model:Generating Graph datasets/bin/owl2vec/family/family_logical_1.0_test_subsumption.edgelist...\n",
      "INFO:src.graph_model:Loaded test_subsumption graph with 26 edges\n",
      "INFO:src.graph_model:Generating Graph datasets/bin/owl2vec/family/family_logical_1.0_test_membership.edgelist...\n",
      "INFO:src.graph_model:Loaded test_membership graph with 1575 edges\n",
      "INFO:src.graph_model:Generating Graph datasets/bin/owl2vec/family/family_logical_1.0_test_link_prediction.edgelist...\n",
      "INFO:src.graph_model:Loaded test_link_prediction graph with 1317 edges\n",
      "INFO:src.graph_model:Generating Classes...\n",
      "INFO:src.graph_model:Generating Individuals...\n",
      "INFO:src.graph_model:Number of graph nodes: 523\n",
      "INFO:src.graph_model:Number of graph relations: 38\n"
     ]
    },
    {
     "name": "stdout",
     "output_type": "stream",
     "text": [
      "Epoch: 0, Loss: 0.739\n",
      "Epoch: 25, Loss: 0.730\n",
      "Epoch: 50, Loss: 0.723\n",
      "Epoch: 75, Loss: 0.713\n",
      "Epoch: 100, Loss: 0.705\n",
      "Epoch: 125, Loss: 0.698\n",
      "Epoch: 150, Loss: 0.688\n",
      "Epoch: 175, Loss: 0.682\n",
      "Epoch: 200, Loss: 0.673\n",
      "Epoch: 225, Loss: 0.665\n",
      "Epoch: 250, Loss: 0.660\n",
      "Epoch: 275, Loss: 0.650\n",
      "Epoch: 300, Loss: 0.644\n",
      "Epoch: 325, Loss: 0.637\n",
      "Epoch: 350, Loss: 0.629\n",
      "Epoch: 375, Loss: 0.623\n",
      "Epoch: 400, Loss: 0.615\n",
      "Epoch: 425, Loss: 0.609\n",
      "Epoch: 450, Loss: 0.603\n",
      "Epoch: 475, Loss: 0.596\n"
     ]
    },
    {
     "name": "stderr",
     "output_type": "stream",
     "text": [
      "INFO:src.graph_model:Saved class data to datasets/bin/owl2vec/family/family_logical_1.0_class_embeddings.pkl\n",
      "INFO:src.graph_model:Saved individual data to datasets/bin/owl2vec/family/family_logical_1.0_individual_embeddings.pkl\n",
      "INFO:src.graph_model:Saved role data to datasets/bin/owl2vec/family/family_logical_1.0_role_embeddings.pkl\n",
      "INFO:src.graph_model:Saved triples factory to datasets/bin/owl2vec/family/family_logical_1.0_triples_factory.pkl\n",
      "INFO:src.graph_model:Testing ontology completion...\n",
      "INFO:src.graph_model:Loading best model from models/owl2vec_family_logical_1.0.model.pt\n",
      "INFO:src.graph_model:Loading best model from models/owl2vec_family_logical_1.0.model.pt\n",
      "INFO:src.graph_model:Loading best model from models/owl2vec_family_logical_1.0.model.pt\n"
     ]
    },
    {
     "name": "stdout",
     "output_type": "stream",
     "text": [
      "family_logical_1.0:\n",
      "Membership:\n",
      "MRR: 0.299, Hits@1: 0.123, Hits@5: 0.411, Hits@10: 0.939\n",
      "Subsumption:\n",
      "MRR: 0.563, Hits@1: 0.385, Hits@5: 0.769, Hits@10: 0.962\n",
      "Link Prediction:\n",
      "MRR: 0.032, Hits@1: 0.002, Hits@5: 0.021, Hits@10: 0.068\n",
      "\n",
      "Results saved to  models/results/owl2vec/family_logical_1.0.txt\n"
     ]
    }
   ],
   "source": [
    "for experiment in experiments: \n",
    "    dataset_name = experiment['dataset_name']\n",
    "    file_name = experiment['file_name']\n",
    "    format_ = experiment['format_']\n",
    "    add_noise = experiment['add_noise']  \n",
    "          \n",
    "    model = OWL2Vec(file_name         = file_name,\n",
    "                    dataset_name      = dataset_name,\n",
    "                    kge_model         = 'transe',\n",
    "                    emb_dim           = 256,\n",
    "                    margin            = 0.1,\n",
    "                    weight_decay      = 0.0,\n",
    "                    batch_size        = 4096*8,\n",
    "                    lr                = 0.0001,\n",
    "                    num_negs          = 4,\n",
    "                    test_batch_size   = 32,\n",
    "                    epochs            = 500,\n",
    "                    device            = device,\n",
    "                    seed              = 42,\n",
    "                    initial_tolerance = 5)\n",
    "\n",
    "    model.train()\n",
    "    \n",
    "    print(f'{file_name}:')\n",
    "    metrics_subsumption, metrics_membership, metrics_link_prediction = model.test() \n",
    "    print()\n",
    "    save_results(metrics_subsumption, metrics_membership, metrics_link_prediction, f'models/results/owl2vec/{file_name}.txt') "
   ]
  }
 ],
 "metadata": {
  "kernelspec": {
   "display_name": "base",
   "language": "python",
   "name": "python3"
  },
  "language_info": {
   "codemirror_mode": {
    "name": "ipython",
    "version": 3
   },
   "file_extension": ".py",
   "mimetype": "text/x-python",
   "name": "python",
   "nbconvert_exporter": "python",
   "pygments_lexer": "ipython3",
   "version": "3.8.16"
  }
 },
 "nbformat": 4,
 "nbformat_minor": 2
}
