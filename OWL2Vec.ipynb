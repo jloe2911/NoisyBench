{
 "cells": [
  {
   "cell_type": "code",
   "execution_count": 7,
   "id": "e3fa9603-34ba-4190-b47f-de653f9070ac",
   "metadata": {},
   "outputs": [],
   "source": [
    "from src.utils import *\n",
    "from src.graph_model import *\n",
    "from src.owl2vec import *"
   ]
  },
  {
   "cell_type": "code",
   "execution_count": 8,
   "id": "af2172a5-3ad1-4ac0-93a3-a0120a4d5bb4",
   "metadata": {},
   "outputs": [
    {
     "name": "stdout",
     "output_type": "stream",
     "text": [
      "cpu\n"
     ]
    }
   ],
   "source": [
    "device = torch.device('cuda' if torch.cuda.is_available() else 'cpu')\n",
    "device = 'cpu'\n",
    "print(device)"
   ]
  },
  {
   "cell_type": "code",
   "execution_count": 9,
   "id": "48d85806-9a05-497d-be9f-5fbb442e4ab1",
   "metadata": {},
   "outputs": [],
   "source": [
    "#dataset_name = 'family'\n",
    "#dataset_name = 'pizza'\n",
    "dataset_name = 'OWL2DL-1'"
   ]
  },
  {
   "cell_type": "code",
   "execution_count": 10,
   "id": "062000c0-31be-40c0-837f-32d03dd6cedb",
   "metadata": {},
   "outputs": [],
   "source": [
    "experiments = get_experimets(dataset_name)"
   ]
  },
  {
   "cell_type": "code",
   "execution_count": null,
   "id": "c99d63b9-4d04-4930-a6a3-4f3553f4f586",
   "metadata": {},
   "outputs": [
    {
     "name": "stderr",
     "output_type": "stream",
     "text": [
      "INFO:src.graph_model:Generating Graph datasets/bin/owl2vec/OWL2DL-1/OWL2DL-1_train.edgelist...\n",
      "INFO:src.graph_model:Loaded train graph with 21650 edges\n",
      "INFO:src.graph_model:Generating Graph datasets/bin/owl2vec/OWL2DL-1/OWL2DL-1_val_subsumption.edgelist...\n",
      "INFO:src.graph_model:Loaded valid_subsumption graph with 32 edges\n",
      "INFO:src.graph_model:Generating Graph datasets/bin/owl2vec/OWL2DL-1/OWL2DL-1_val_membership.edgelist...\n",
      "INFO:src.graph_model:Loaded valid_membership graph with 745 edges\n",
      "INFO:src.graph_model:Generating Graph datasets/bin/owl2vec/OWL2DL-1/OWL2DL-1_test_subsumption.edgelist...\n",
      "INFO:src.graph_model:Loaded test_subsumption graph with 24 edges\n",
      "INFO:src.graph_model:Generating Graph datasets/bin/owl2vec/OWL2DL-1/OWL2DL-1_test_membership.edgelist...\n",
      "INFO:src.graph_model:Loaded test_membership graph with 7683 edges\n",
      "INFO:src.graph_model:Generating Classes...\n",
      "INFO:src.graph_model:Generating Individuals...\n",
      "INFO:src.graph_model:Number of graph nodes: 3830\n",
      "INFO:src.graph_model:Number of graph relations: 90\n"
     ]
    },
    {
     "name": "stdout",
     "output_type": "stream",
     "text": [
      "Epoch: 0, Training loss: 0.746, Validation mean ranks: sub-111.562, mem-90.749, avg-101.156\n"
     ]
    }
   ],
   "source": [
    "for experiment in experiments[:2]: \n",
    "    dataset_name = experiment['dataset_name']\n",
    "    file_name = experiment['file_name']\n",
    "    format_ = experiment['format_']\n",
    "    add_noise = experiment['add_noise']\n",
    "          \n",
    "    model = OWL2Vec(file_name         = file_name,\n",
    "                    dataset_name      = dataset_name,\n",
    "                    kge_model         = 'transe',\n",
    "                    emb_dim           = 256,\n",
    "                    margin            = 0.1,\n",
    "                    weight_decay      = 0.0,\n",
    "                    batch_size        = 4096*8,\n",
    "                    lr                = 0.0001,\n",
    "                    num_negs          = 4,\n",
    "                    test_batch_size   = 32,\n",
    "                    epochs            = 500,\n",
    "                    device            = device,\n",
    "                    seed              = 42,\n",
    "                    initial_tolerance = 5)\n",
    "\n",
    "    model.train()\n",
    "    \n",
    "    print(f'{file_name}:')\n",
    "    subsumption_metrics, membership_metrics = model.test()\n",
    "    print()"
   ]
  }
 ],
 "metadata": {
  "kernelspec": {
   "display_name": "Python 3 (ipykernel)",
   "language": "python",
   "name": "python3"
  },
  "language_info": {
   "codemirror_mode": {
    "name": "ipython",
    "version": 3
   },
   "file_extension": ".py",
   "mimetype": "text/x-python",
   "name": "python",
   "nbconvert_exporter": "python",
   "pygments_lexer": "ipython3",
   "version": "3.8.16"
  }
 },
 "nbformat": 4,
 "nbformat_minor": 5
}
