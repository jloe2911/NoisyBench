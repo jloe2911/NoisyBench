{
 "cells": [
  {
   "cell_type": "code",
   "execution_count": 1,
   "id": "47422e52-7ae7-4afc-a3f3-20cf7a20fd69",
   "metadata": {},
   "outputs": [],
   "source": [
    "from collections import defaultdict\n",
    "import torch\n",
    "\n",
    "import mowl\n",
    "mowl.init_jvm('10g')\n",
    "from mowl.datasets import PathDataset\n",
    "from mowl.projection import OWL2VecStarProjector\n",
    "from mowl.walking import DeepWalk\n",
    "\n",
    "from gensim.models.word2vec import LineSentence\n",
    "from gensim.models import Word2Vec\n",
    "\n",
    "from src.gnn import *\n",
    "from src.utils import *"
   ]
  },
  {
   "cell_type": "code",
   "execution_count": null,
   "id": "1830def2-5942-45c9-a86f-7723fe851050",
   "metadata": {},
   "outputs": [],
   "source": [
    "#dataset_name = 'family'\n",
    "#dataset_name = 'pizza'\n",
    "dataset_name = 'OWL2DL-1'"
   ]
  },
  {
   "cell_type": "code",
   "execution_count": 2,
   "id": "a73e4940-4c80-4105-ab90-1e8369aa6d87",
   "metadata": {},
   "outputs": [],
   "source": [
    "experiments = get_experimets(dataset_name)"
   ]
  },
  {
   "cell_type": "markdown",
   "id": "5c3c12e9-b5da-44ae-9ca5-4b5162b62af7",
   "metadata": {},
   "source": [
    "**Fit**"
   ]
  },
  {
   "cell_type": "code",
   "execution_count": 3,
   "id": "42bf3b66-bb2c-41b9-9c02-838512217d08",
   "metadata": {},
   "outputs": [],
   "source": [
    "def owl2vec_fit(file_name, embed_dim, run):\n",
    "    dataset = PathDataset(ontology_path=f'datasets/bin/{file_name}_train.owl',\n",
    "                          testing_path=f'datasets/bin/{file_name}_test.owl',\n",
    "                          validation_path=f'datasets/bin/{file_name}_val.owl')\n",
    "    if run:\n",
    "        projector = OWL2VecStarProjector(bidirectional_taxonomy=True)\n",
    "        edges = projector.project(dataset.ontology)\n",
    "        \n",
    "        walker = DeepWalk(num_walks=20,\n",
    "                          walk_length=20,\n",
    "                          alpha=0.1,\n",
    "                          workers=4)         \n",
    "        walks = walker.walk(edges)\n",
    "        sentences = LineSentence(walker.outfile)\n",
    "        model = Word2Vec(sentences, vector_size=embed_dim, epochs=500, window=5, min_count=1, workers=4)\n",
    "        model.save(f'models/owl2vec_{file_name}.model')\n",
    "        #triples_factory = Edge.as_pykeen(edges, create_inverse_triples=True)\n",
    "        #trans_e = TransE(triples_factory=triples_factory, embedding_dim=embed_dim, random_seed=42)\n",
    "        #model = KGEModel(triples_factory, trans_e, epochs=500, batch_size=32)\n",
    "        #model.train()\n",
    "    else:\n",
    "        model = Word2Vec.load(f'models/owl2vec_{file_name}.model')\n",
    "    return model"
   ]
  },
  {
   "cell_type": "markdown",
   "id": "42eeeed3-6c8b-4f3b-bf8e-88a091f782df",
   "metadata": {},
   "source": [
    "**Eval**"
   ]
  },
  {
   "cell_type": "code",
   "execution_count": 4,
   "id": "86f87119-1628-4331-8191-d842c7772a1d",
   "metadata": {},
   "outputs": [],
   "source": [
    "def owl2vec_eval(owl2vec_model, test_graph):\n",
    "    vectors = owl2vec_model.wv\n",
    "    words = list(owl2vec_model.wv.key_to_index)\n",
    "    output_owl2vec = torch.tensor(vectors[words])\n",
    "    \n",
    "    nodes = list(set(words))\n",
    "    nodes_dict = {node: i for i, node in enumerate(nodes)}\n",
    "    \n",
    "    i=0\n",
    "    edge_data = defaultdict(list)\n",
    "    for s, p, o in test_graph.triples((None, None, None)):\n",
    "        s = s.n3()\n",
    "        s = s.replace('<','')\n",
    "        s = s.replace('>','')\n",
    "        o = o.n3()\n",
    "        o = o.replace('<','')\n",
    "        o = o.replace('>','')\n",
    "        try:\n",
    "            src, dst = nodes_dict[s], nodes_dict[o]\n",
    "            edge_data['edge_index'].append([src, dst])\n",
    "        except:\n",
    "            i+=1\n",
    "    edge_index = torch.tensor(edge_data['edge_index']).reshape(2,-1)\n",
    "    \n",
    "    mrr, mean_rank, median_rank, hits_at_5, hits_at_10 = eval_hits(edge_index=edge_index,\n",
    "                                                                   tail_pred=1,\n",
    "                                                                   output=output_owl2vec,\n",
    "                                                                   max_num=100)\n",
    "    print(f'MRR: {mrr:.3f}, Mean Rank: {mean_rank:.3f}, Median Rank: {median_rank:.3f}, Hits@5: {hits_at_5:.3f}, Hits@10: {hits_at_10:.3f}')"
   ]
  },
  {
   "cell_type": "markdown",
   "id": "9625a210-4e24-44da-bdd2-b892e3cd4325",
   "metadata": {},
   "source": [
    "**Experiments**"
   ]
  },
  {
   "cell_type": "code",
   "execution_count": 5,
   "id": "a04bfe98-f759-46fa-883a-3df2b6af61eb",
   "metadata": {},
   "outputs": [
    {
     "name": "stdout",
     "output_type": "stream",
     "text": [
      "Triplets found in OWL2DL-1.owl: 55215\n",
      "Train Triplets found: 55215\n",
      "Test Triplets (Membership) found: 23190\n",
      "Test Triplets (Subsumption) found: 127\n"
     ]
    },
    {
     "name": "stderr",
     "output_type": "stream",
     "text": [
      "INFO:gensim.utils:loading Word2Vec object from models/owl2vec_OWL2DL-1.model\n",
      "INFO:gensim.utils:loading wv recursively from models/owl2vec_OWL2DL-1.model.wv.* with mmap=None\n",
      "INFO:gensim.utils:setting ignored attribute cum_table to None\n",
      "INFO:gensim.utils:Word2Vec lifecycle event {'fname': 'models/owl2vec_OWL2DL-1.model', 'datetime': '2024-06-18T09:33:55.199778', 'gensim': '4.3.1', 'python': '3.8.16 (default, Jan 17 2023, 22:25:28) [MSC v.1916 64 bit (AMD64)]', 'platform': 'Windows-10-10.0.22631-SP0', 'event': 'loaded'}\n"
     ]
    },
    {
     "name": "stdout",
     "output_type": "stream",
     "text": [
      "Membership:\n",
      "MRR: 0.039, Mean Rank: 56.802, Median Rank: 57.000, Hits@5: 0.022, Hits@10: 0.060\n",
      "Subsumption:\n",
      "MRR: 0.036, Mean Rank: 55.909, Median Rank: 65.000, Hits@5: 0.045, Hits@10: 0.091\n",
      "\n",
      "Triplets found in OWL2DL-1.owl: 55215\n",
      "Triplets found in OWL2DL-1_noisy_gnn_100.owl: 4802\n",
      "Train Triplets found: 60017\n",
      "Test Triplets (Membership) found: 23190\n",
      "Test Triplets (Subsumption) found: 127\n"
     ]
    },
    {
     "name": "stderr",
     "output_type": "stream",
     "text": [
      "INFO:gensim.utils:loading Word2Vec object from models/owl2vec_OWL2DL-1_noisy_gnn_100.model\n",
      "INFO:gensim.utils:loading wv recursively from models/owl2vec_OWL2DL-1_noisy_gnn_100.model.wv.* with mmap=None\n",
      "INFO:gensim.utils:setting ignored attribute cum_table to None\n",
      "INFO:gensim.utils:Word2Vec lifecycle event {'fname': 'models/owl2vec_OWL2DL-1_noisy_gnn_100.model', 'datetime': '2024-06-18T09:34:16.141017', 'gensim': '4.3.1', 'python': '3.8.16 (default, Jan 17 2023, 22:25:28) [MSC v.1916 64 bit (AMD64)]', 'platform': 'Windows-10-10.0.22631-SP0', 'event': 'loaded'}\n"
     ]
    },
    {
     "name": "stdout",
     "output_type": "stream",
     "text": [
      "Membership:\n",
      "MRR: 0.027, Mean Rank: 59.315, Median Rank: 55.000, Hits@5: 0.017, Hits@10: 0.043\n",
      "Subsumption:\n",
      "MRR: 0.022, Mean Rank: 57.955, Median Rank: 61.000, Hits@5: 0.000, Hits@10: 0.000\n",
      "\n",
      "Triplets found in OWL2DL-1.owl: 55215\n",
      "Triplets found in OWL2DL-1_noisy_gnn_1000.owl: 48050\n",
      "Train Triplets found: 103265\n",
      "Test Triplets (Membership) found: 23190\n",
      "Test Triplets (Subsumption) found: 127\n"
     ]
    },
    {
     "name": "stderr",
     "output_type": "stream",
     "text": [
      "INFO:gensim.utils:loading Word2Vec object from models/owl2vec_OWL2DL-1_noisy_gnn_1000.model\n",
      "INFO:gensim.utils:loading wv recursively from models/owl2vec_OWL2DL-1_noisy_gnn_1000.model.wv.* with mmap=None\n",
      "INFO:gensim.utils:setting ignored attribute cum_table to None\n",
      "INFO:gensim.utils:Word2Vec lifecycle event {'fname': 'models/owl2vec_OWL2DL-1_noisy_gnn_1000.model', 'datetime': '2024-06-18T09:34:43.199486', 'gensim': '4.3.1', 'python': '3.8.16 (default, Jan 17 2023, 22:25:28) [MSC v.1916 64 bit (AMD64)]', 'platform': 'Windows-10-10.0.22631-SP0', 'event': 'loaded'}\n"
     ]
    },
    {
     "name": "stdout",
     "output_type": "stream",
     "text": [
      "Membership:\n",
      "MRR: 0.030, Mean Rank: 59.974, Median Rank: 55.000, Hits@5: 0.013, Hits@10: 0.043\n",
      "Subsumption:\n",
      "MRR: 0.040, Mean Rank: 42.000, Median Rank: 35.500, Hits@5: 0.000, Hits@10: 0.182\n",
      "\n",
      "Triplets found in OWL2DL-1.owl: 55215\n",
      "Triplets found in OWL2DL-1_noisy_random_100.owl: 4761\n",
      "Train Triplets found: 59976\n",
      "Test Triplets (Membership) found: 23190\n",
      "Test Triplets (Subsumption) found: 127\n"
     ]
    },
    {
     "name": "stderr",
     "output_type": "stream",
     "text": [
      "INFO:gensim.utils:loading Word2Vec object from models/owl2vec_OWL2DL-1_noisy_random_100.model\n",
      "INFO:gensim.utils:loading wv recursively from models/owl2vec_OWL2DL-1_noisy_random_100.model.wv.* with mmap=None\n",
      "INFO:gensim.utils:setting ignored attribute cum_table to None\n",
      "INFO:gensim.utils:Word2Vec lifecycle event {'fname': 'models/owl2vec_OWL2DL-1_noisy_random_100.model', 'datetime': '2024-06-18T09:35:02.508443', 'gensim': '4.3.1', 'python': '3.8.16 (default, Jan 17 2023, 22:25:28) [MSC v.1916 64 bit (AMD64)]', 'platform': 'Windows-10-10.0.22631-SP0', 'event': 'loaded'}\n"
     ]
    },
    {
     "name": "stdout",
     "output_type": "stream",
     "text": [
      "Membership:\n",
      "MRR: 0.034, Mean Rank: 57.586, Median Rank: 60.500, Hits@5: 0.017, Hits@10: 0.034\n",
      "Subsumption:\n",
      "MRR: 0.042, Mean Rank: 56.909, Median Rank: 47.500, Hits@5: 0.091, Hits@10: 0.091\n",
      "\n",
      "Triplets found in OWL2DL-1.owl: 55215\n",
      "Triplets found in OWL2DL-1_noisy_random_1000.owl: 47661\n",
      "Train Triplets found: 102876\n",
      "Test Triplets (Membership) found: 23190\n",
      "Test Triplets (Subsumption) found: 127\n"
     ]
    },
    {
     "name": "stderr",
     "output_type": "stream",
     "text": [
      "INFO:gensim.utils:loading Word2Vec object from models/owl2vec_OWL2DL-1_noisy_random_1000.model\n",
      "INFO:gensim.utils:loading wv recursively from models/owl2vec_OWL2DL-1_noisy_random_1000.model.wv.* with mmap=None\n",
      "INFO:gensim.utils:setting ignored attribute cum_table to None\n",
      "INFO:gensim.utils:Word2Vec lifecycle event {'fname': 'models/owl2vec_OWL2DL-1_noisy_random_1000.model', 'datetime': '2024-06-18T09:35:32.557617', 'gensim': '4.3.1', 'python': '3.8.16 (default, Jan 17 2023, 22:25:28) [MSC v.1916 64 bit (AMD64)]', 'platform': 'Windows-10-10.0.22631-SP0', 'event': 'loaded'}\n"
     ]
    },
    {
     "name": "stdout",
     "output_type": "stream",
     "text": [
      "Membership:\n",
      "MRR: 0.035, Mean Rank: 63.711, Median Rank: 74.500, Hits@5: 0.026, Hits@10: 0.078\n",
      "Subsumption:\n",
      "MRR: 0.046, Mean Rank: 62.182, Median Rank: 79.000, Hits@5: 0.045, Hits@10: 0.091\n",
      "\n",
      "Triplets found in OWL2DL-1.owl: 55215\n",
      "Triplets found in OWL2DL-1_noisy_disjoint_100.owl: 6800\n",
      "Train Triplets found: 62015\n",
      "Test Triplets (Membership) found: 23190\n",
      "Test Triplets (Subsumption) found: 127\n"
     ]
    },
    {
     "name": "stderr",
     "output_type": "stream",
     "text": [
      "INFO:gensim.utils:loading Word2Vec object from models/owl2vec_OWL2DL-1_noisy_disjoint_100.model\n",
      "INFO:gensim.utils:loading wv recursively from models/owl2vec_OWL2DL-1_noisy_disjoint_100.model.wv.* with mmap=None\n",
      "INFO:gensim.utils:setting ignored attribute cum_table to None\n",
      "INFO:gensim.utils:Word2Vec lifecycle event {'fname': 'models/owl2vec_OWL2DL-1_noisy_disjoint_100.model', 'datetime': '2024-06-18T09:35:48.794843', 'gensim': '4.3.1', 'python': '3.8.16 (default, Jan 17 2023, 22:25:28) [MSC v.1916 64 bit (AMD64)]', 'platform': 'Windows-10-10.0.22631-SP0', 'event': 'loaded'}\n"
     ]
    },
    {
     "name": "stdout",
     "output_type": "stream",
     "text": [
      "Membership:\n",
      "MRR: 0.073, Mean Rank: 38.271, Median Rank: 31.000, Hits@5: 0.126, Hits@10: 0.274\n",
      "Subsumption:\n",
      "MRR: 0.049, Mean Rank: 58.117, Median Rank: 69.000, Hits@5: 0.083, Hits@10: 0.183\n",
      "\n",
      "Triplets found in OWL2DL-1.owl: 55215\n",
      "Triplets found in OWL2DL-1_noisy_disjoint_1000.owl: 68000\n",
      "Train Triplets found: 122434\n",
      "Test Triplets (Membership) found: 23190\n",
      "Test Triplets (Subsumption) found: 127\n"
     ]
    },
    {
     "name": "stderr",
     "output_type": "stream",
     "text": [
      "INFO:gensim.utils:loading Word2Vec object from models/owl2vec_OWL2DL-1_noisy_disjoint_1000.model\n",
      "INFO:gensim.utils:loading wv recursively from models/owl2vec_OWL2DL-1_noisy_disjoint_1000.model.wv.* with mmap=None\n",
      "INFO:gensim.utils:setting ignored attribute cum_table to None\n",
      "INFO:gensim.utils:Word2Vec lifecycle event {'fname': 'models/owl2vec_OWL2DL-1_noisy_disjoint_1000.model', 'datetime': '2024-06-18T09:36:15.717862', 'gensim': '4.3.1', 'python': '3.8.16 (default, Jan 17 2023, 22:25:28) [MSC v.1916 64 bit (AMD64)]', 'platform': 'Windows-10-10.0.22631-SP0', 'event': 'loaded'}\n"
     ]
    },
    {
     "name": "stdout",
     "output_type": "stream",
     "text": [
      "Membership:\n",
      "MRR: 0.052, Mean Rank: 42.838, Median Rank: 38.000, Hits@5: 0.047, Hits@10: 0.083\n",
      "Subsumption:\n",
      "MRR: 0.058, Mean Rank: 48.533, Median Rank: 41.000, Hits@5: 0.083, Hits@10: 0.117\n",
      "\n"
     ]
    }
   ],
   "source": [
    "for experiment in experiments: \n",
    "    dataset_name = experiment['dataset_name']\n",
    "    file_name = experiment['file_name']\n",
    "    format_ = experiment['format_']\n",
    "    add_noise = experiment['add_noise']\n",
    "\n",
    "    train_graph, valid_graph, test_graph, test_membership_graph, test_subsumption_graph = split_ontology(dataset_name=dataset_name, \n",
    "                                                                                                         file_name=file_name, \n",
    "                                                                                                         format_=format_, \n",
    "                                                                                                         train_ratio=1, \n",
    "                                                                                                         add_noise=add_noise)\n",
    "    owl2vec_model = owl2vec_fit(file_name=file_name, embed_dim=200, run=False)\n",
    "    print('Membership:')\n",
    "    owl2vec_eval(owl2vec_model, test_membership_graph)\n",
    "    print('Subsumption:')\n",
    "    owl2vec_eval(owl2vec_model, test_subsumption_graph)\n",
    "    print()"
   ]
  }
 ],
 "metadata": {
  "kernelspec": {
   "display_name": "Python 3 (ipykernel)",
   "language": "python",
   "name": "python3"
  },
  "language_info": {
   "codemirror_mode": {
    "name": "ipython",
    "version": 3
   },
   "file_extension": ".py",
   "mimetype": "text/x-python",
   "name": "python",
   "nbconvert_exporter": "python",
   "pygments_lexer": "ipython3",
   "version": "3.8.16"
  }
 },
 "nbformat": 4,
 "nbformat_minor": 5
}
