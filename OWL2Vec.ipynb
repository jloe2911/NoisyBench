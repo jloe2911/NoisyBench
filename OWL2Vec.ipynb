{
 "cells": [
  {
   "cell_type": "code",
   "execution_count": 1,
   "id": "e3fa9603-34ba-4190-b47f-de653f9070ac",
   "metadata": {},
   "outputs": [],
   "source": [
    "from src.utils import *\n",
    "from src.graph_model import *\n",
    "from src.owl2vec import *"
   ]
  },
  {
   "cell_type": "code",
   "execution_count": 2,
   "id": "af2172a5-3ad1-4ac0-93a3-a0120a4d5bb4",
   "metadata": {},
   "outputs": [
    {
     "name": "stdout",
     "output_type": "stream",
     "text": [
      "cpu\n"
     ]
    }
   ],
   "source": [
    "device = torch.device('cuda' if torch.cuda.is_available() else 'cpu')\n",
    "device = 'cpu'\n",
    "print(device)"
   ]
  },
  {
   "cell_type": "code",
   "execution_count": 3,
   "id": "48d85806-9a05-497d-be9f-5fbb442e4ab1",
   "metadata": {},
   "outputs": [],
   "source": [
    "#dataset_name = 'family'\n",
    "#dataset_name = 'pizza'\n",
    "dataset_name = 'OWL2DL-1'"
   ]
  },
  {
   "cell_type": "code",
   "execution_count": 4,
   "id": "062000c0-31be-40c0-837f-32d03dd6cedb",
   "metadata": {},
   "outputs": [],
   "source": [
    "experiments = get_experimets(dataset_name)"
   ]
  },
  {
   "cell_type": "code",
   "execution_count": 5,
   "id": "7384f096-ee41-4f49-8af1-5bf63cf3644e",
   "metadata": {},
   "outputs": [],
   "source": [
    "experiment = experiments[0]\n",
    "\n",
    "dataset_name = experiment['dataset_name']\n",
    "file_name = experiment['file_name']\n",
    "format_ = experiment['format_']\n",
    "add_noise = experiment['add_noise']"
   ]
  },
  {
   "cell_type": "code",
   "execution_count": 6,
   "id": "f50d41b7-bcd0-471e-b2a6-656c5c64a318",
   "metadata": {},
   "outputs": [],
   "source": [
    "if not os.path.exists(f'datasets/bin/{file_name}_train.owl'):\n",
    "    train_graph, valid_graph, test_graph, test_membership_graph, test_subsumption_graph = split_ontology(dataset_name=dataset_name, \n",
    "                                                                                                         file_name=file_name, \n",
    "                                                                                                         format_=format_, \n",
    "                                                                                                         train_ratio=0.9, \n",
    "                                                                                                         add_noise=add_noise)"
   ]
  },
  {
   "cell_type": "code",
   "execution_count": 12,
   "id": "ec751f3d-3796-41af-87f1-e876a809ab72",
   "metadata": {},
   "outputs": [
    {
     "name": "stderr",
     "output_type": "stream",
     "text": [
      "INFO:src.graph_model:Graph datasets/bin/owl2vec/OWL2DL-1/OWL2DL-1_train.edgelist does not exist. Generating it...\n"
     ]
    },
    {
     "name": "stdout",
     "output_type": "stream",
     "text": [
      "Parameters:\n",
      "\tFile name: OWL2DL-1\n",
      "\tKGE model: transe\n",
      "\tEmbedding dimension: 256\n",
      "\tMargin: 0.1\n",
      "\tWeight decay: 0.0\n",
      "\tBatch size: 32768\n",
      "\tLearning rate: 0.0001\n",
      "\tNumber of negatives: 4\n",
      "\tTest batch size: 32\n",
      "\tEpochs: 300\n",
      "\tDevice: cpu\n",
      "\tSeed: 42\n"
     ]
    },
    {
     "name": "stderr",
     "output_type": "stream",
     "text": [
      "INFO:src.graph_model:Loaded train graph with 8203 edges\n",
      "INFO:src.graph_model:Graph datasets/bin/owl2vec/OWL2DL-1/OWL2DL-1_val_subsumption.edgelist does not exist. Generating it...\n",
      "INFO:src.graph_model:Loaded valid_subsumption graph with 15 edges\n",
      "INFO:src.graph_model:Graph datasets/bin/owl2vec/OWL2DL-1/OWL2DL-1_val_membership.edgelist does not exist. Generating it...\n",
      "INFO:src.graph_model:Loaded valid_membership graph with 1141 edges\n",
      "INFO:src.graph_model:Graph datasets/bin/owl2vec/OWL2DL-1/OWL2DL-1_test_subsumption.edgelist does not exist. Generating it...\n",
      "INFO:src.graph_model:Loaded test_subsumption graph with 32 edges\n",
      "INFO:src.graph_model:Graph datasets/bin/owl2vec/OWL2DL-1/OWL2DL-1_test_membership.edgelist does not exist. Generating it...\n",
      "INFO:src.graph_model:Loaded test_membership graph with 2283 edges\n",
      "INFO:src.graph_model:Classes do not exist. Generating it...\n",
      "INFO:src.graph_model:Individuals do not exist. Generating it...\n",
      "INFO:src.graph_model:Number of graph nodes: 3824\n",
      "INFO:src.graph_model:Number of graph relations: 3\n"
     ]
    }
   ],
   "source": [
    "model = OWL2Vec(file_name         = file_name,\n",
    "                kge_model         = 'transe',\n",
    "                emb_dim           = 256,\n",
    "                margin            = 0.1,\n",
    "                weight_decay      = 0.0,\n",
    "                batch_size        = 4096*8,\n",
    "                lr                = 0.0001,\n",
    "                num_negs          = 4,\n",
    "                test_batch_size   = 32,\n",
    "                epochs            = 300,\n",
    "                device            = device,\n",
    "                seed              = 42,\n",
    "                initial_tolerance = 5)"
   ]
  },
  {
   "cell_type": "code",
   "execution_count": 13,
   "id": "6b480da1-3765-4db1-9dc7-60b82dd07409",
   "metadata": {},
   "outputs": [
    {
     "name": "stdout",
     "output_type": "stream",
     "text": [
      "Epoch: 0, Training loss: 0.742, Validation mean ranks: sub-87.267, mem-75.584, avg-81.425\n",
      "Epoch: 25, Training loss: 0.723, Validation mean ranks: sub-74.867, mem-51.760, avg-63.313\n",
      "Epoch: 50, Training loss: 0.711, Validation mean ranks: sub-68.733, mem-39.441, avg-54.087\n",
      "Epoch: 75, Training loss: 0.690, Validation mean ranks: sub-57.867, mem-23.646, avg-40.756\n",
      "Epoch: 100, Training loss: 0.677, Validation mean ranks: sub-52.933, mem-17.151, avg-35.042\n",
      "Epoch: 125, Training loss: 0.664, Validation mean ranks: sub-47.267, mem-13.379, avg-30.323\n",
      "Epoch: 150, Training loss: 0.646, Validation mean ranks: sub-40.333, mem-10.204, avg-25.269\n",
      "Epoch: 175, Training loss: 0.637, Validation mean ranks: sub-37.400, mem-9.161, avg-23.281\n",
      "Epoch: 200, Training loss: 0.622, Validation mean ranks: sub-33.333, mem-8.101, avg-20.717\n",
      "Epoch: 225, Training loss: 0.609, Validation mean ranks: sub-31.000, mem-7.311, avg-19.156\n",
      "Epoch: 250, Training loss: 0.600, Validation mean ranks: sub-29.733, mem-6.927, avg-18.330\n",
      "Epoch: 275, Training loss: 0.585, Validation mean ranks: sub-27.933, mem-6.379, avg-17.156\n"
     ]
    },
    {
     "name": "stderr",
     "output_type": "stream",
     "text": [
      "INFO:src.graph_model:Saved class data to datasets/bin/owl2vec/OWL2DL-1/OWL2DL-1_class_embeddings.pkl\n",
      "INFO:src.graph_model:Saved individual data to datasets/bin/owl2vec/OWL2DL-1/OWL2DL-1_individual_embeddings.pkl\n",
      "INFO:src.graph_model:Saved role data to datasets/bin/owl2vec/OWL2DL-1/OWL2DL-1_role_embeddings.pkl\n",
      "INFO:src.graph_model:Saved triples factory to datasets/bin/owl2vec/OWL2DL-1/OWL2DL-1_triples_factory.pkl\n"
     ]
    }
   ],
   "source": [
    "model.train()"
   ]
  },
  {
   "cell_type": "code",
   "execution_count": 14,
   "id": "2a73c72d-1b2a-41d4-8a8e-c325fa2ecaba",
   "metadata": {},
   "outputs": [
    {
     "name": "stderr",
     "output_type": "stream",
     "text": [
      "INFO:src.graph_model:Testing ontology completion...\n",
      "INFO:src.graph_model:Getting predictions and labels\n",
      "INFO:src.graph_model:Subsumption filtering triples: 107\n",
      "INFO:src.graph_model:Membership filtering triples: 7989\n",
      "INFO:src.graph_model:Loading best model from models/owl2vec_OWL2DL-1.model.pt\n",
      "INFO:src.graph_model:Loading best model from models/owl2vec_OWL2DL-1.model.pt\n"
     ]
    }
   ],
   "source": [
    "subsumption_metrics, membership_metrics = model.test()"
   ]
  },
  {
   "cell_type": "code",
   "execution_count": 15,
   "id": "36a52173-ec1e-47ca-a196-9c5877dc9fcf",
   "metadata": {},
   "outputs": [
    {
     "data": {
      "text/plain": [
       "(29.71875,\n",
       " 0.06572697257730367,\n",
       " 23.0,\n",
       " 0.0,\n",
       " 0.0,\n",
       " 0.1875,\n",
       " 0.96875,\n",
       " 0.8207661290322581,\n",
       " 67.90000000000002,\n",
       " 100.0)"
      ]
     },
     "execution_count": 15,
     "metadata": {},
     "output_type": "execute_result"
    }
   ],
   "source": [
    "subsumption_metrics[0]"
   ]
  },
  {
   "cell_type": "code",
   "execution_count": 16,
   "id": "347a22c6-ed6e-4b58-9631-3517bada89e7",
   "metadata": {},
   "outputs": [
    {
     "data": {
      "text/plain": [
       "(5.804204993429698,\n",
       " 0.2802404083229491,\n",
       " 4.0,\n",
       " 0.09286027157249234,\n",
       " 0.3035479632063075,\n",
       " 0.8147174770039421,\n",
       " 0.9995619798510732,\n",
       " 0.9655885719130176,\n",
       " 13.0,\n",
       " 100.0)"
      ]
     },
     "execution_count": 16,
     "metadata": {},
     "output_type": "execute_result"
    }
   ],
   "source": [
    "membership_metrics[0]"
   ]
  },
  {
   "cell_type": "code",
   "execution_count": null,
   "id": "5e0918fb-6f4b-4192-acbc-cbf12ee76ed9",
   "metadata": {},
   "outputs": [],
   "source": [
    "# (mean_rank, mrr, median_rank, hits_at_1, hits_at_3, hits_at_10, hits_at_100, auc, percentile90, below_1000)"
   ]
  }
 ],
 "metadata": {
  "kernelspec": {
   "display_name": "Python 3 (ipykernel)",
   "language": "python",
   "name": "python3"
  },
  "language_info": {
   "codemirror_mode": {
    "name": "ipython",
    "version": 3
   },
   "file_extension": ".py",
   "mimetype": "text/x-python",
   "name": "python",
   "nbconvert_exporter": "python",
   "pygments_lexer": "ipython3",
   "version": "3.8.16"
  }
 },
 "nbformat": 4,
 "nbformat_minor": 5
}
