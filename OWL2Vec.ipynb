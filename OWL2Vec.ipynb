{
 "cells": [
  {
   "cell_type": "code",
   "execution_count": 1,
   "metadata": {},
   "outputs": [],
   "source": [
    "from src.utils import *\n",
    "from src.graph_model import *\n",
    "from src.owl2vec import *"
   ]
  },
  {
   "cell_type": "code",
   "execution_count": 2,
   "metadata": {},
   "outputs": [
    {
     "name": "stdout",
     "output_type": "stream",
     "text": [
      "cpu\n"
     ]
    }
   ],
   "source": [
    "device = torch.device('cuda' if torch.cuda.is_available() else 'cpu')\n",
    "device = 'cpu'\n",
    "print(device)"
   ]
  },
  {
   "cell_type": "code",
   "execution_count": 3,
   "metadata": {},
   "outputs": [],
   "source": [
    "# dataset_name = 'family'\n",
    "# dataset_name = 'pizza'\n",
    "dataset_name = 'OWL2DL-1'"
   ]
  },
  {
   "cell_type": "code",
   "execution_count": 4,
   "metadata": {},
   "outputs": [],
   "source": [
    "experiments = get_experimets(dataset_name)"
   ]
  },
  {
   "cell_type": "code",
   "execution_count": 5,
   "metadata": {},
   "outputs": [
    {
     "name": "stderr",
     "output_type": "stream",
     "text": [
      "INFO:src.graph_model:Generating Graph datasets/bin/owl2vec/OWL2DL-1/OWL2DL-1_train.edgelist...\n",
      "INFO:src.graph_model:Loaded train graph with 32075 edges\n",
      "INFO:src.graph_model:Generating Graph datasets/bin/owl2vec/OWL2DL-1/OWL2DL-1_test_subsumption.edgelist...\n",
      "INFO:src.graph_model:Loaded test_subsumption graph with 12 edges\n",
      "INFO:src.graph_model:Generating Graph datasets/bin/owl2vec/OWL2DL-1/OWL2DL-1_test_membership.edgelist...\n",
      "INFO:src.graph_model:Loaded test_membership graph with 18848 edges\n",
      "INFO:src.graph_model:Generating Classes...\n",
      "INFO:src.graph_model:Generating Individuals...\n",
      "INFO:src.graph_model:Number of graph nodes: 3755\n",
      "INFO:src.graph_model:Number of graph relations: 81\n"
     ]
    },
    {
     "name": "stdout",
     "output_type": "stream",
     "text": [
      "Epoch: 0, Loss: 0.748\n",
      "Epoch: 25, Loss: 0.737\n",
      "Epoch: 50, Loss: 0.730\n",
      "Epoch: 75, Loss: 0.718\n",
      "Epoch: 100, Loss: 0.710\n",
      "Epoch: 125, Loss: 0.702\n",
      "Epoch: 150, Loss: 0.691\n",
      "Epoch: 175, Loss: 0.685\n",
      "Epoch: 200, Loss: 0.675\n",
      "Epoch: 225, Loss: 0.666\n",
      "Epoch: 250, Loss: 0.660\n",
      "Epoch: 275, Loss: 0.650\n",
      "Epoch: 300, Loss: 0.644\n",
      "Epoch: 325, Loss: 0.637\n",
      "Epoch: 350, Loss: 0.627\n",
      "Epoch: 375, Loss: 0.622\n",
      "Epoch: 400, Loss: 0.613\n",
      "Epoch: 425, Loss: 0.605\n",
      "Epoch: 450, Loss: 0.600\n",
      "Epoch: 475, Loss: 0.591\n"
     ]
    },
    {
     "name": "stderr",
     "output_type": "stream",
     "text": [
      "INFO:src.graph_model:Saved class data to datasets/bin/owl2vec/OWL2DL-1/OWL2DL-1_class_embeddings.pkl\n",
      "INFO:src.graph_model:Saved individual data to datasets/bin/owl2vec/OWL2DL-1/OWL2DL-1_individual_embeddings.pkl\n",
      "INFO:src.graph_model:Saved role data to datasets/bin/owl2vec/OWL2DL-1/OWL2DL-1_role_embeddings.pkl\n",
      "INFO:src.graph_model:Saved triples factory to datasets/bin/owl2vec/OWL2DL-1/OWL2DL-1_triples_factory.pkl\n",
      "INFO:src.graph_model:Testing ontology completion...\n",
      "INFO:src.graph_model:Loading best model from models/owl2vec_OWL2DL-1.model.pt\n"
     ]
    },
    {
     "name": "stdout",
     "output_type": "stream",
     "text": [
      "OWL2DL-1:\n",
      "Membership:\n"
     ]
    },
    {
     "name": "stderr",
     "output_type": "stream",
     "text": [
      "INFO:src.graph_model:Loading best model from models/owl2vec_OWL2DL-1.model.pt\n"
     ]
    },
    {
     "name": "stdout",
     "output_type": "stream",
     "text": [
      "MRR: 0.018, Hits@1: 0.000, Hits@5: 0.000, Hits@10: 0.002\n",
      "Subsumption:\n",
      "MRR: 0.020, Hits@1: 0.000, Hits@5: 0.000, Hits@10: 0.000\n",
      "\n"
     ]
    },
    {
     "ename": "FileNotFoundError",
     "evalue": "[Errno 2] No such file or directory: 'models/results/owl2vec/OWL2DL-1.txt'",
     "output_type": "error",
     "traceback": [
      "\u001b[1;31m---------------------------------------------------------------------------\u001b[0m",
      "\u001b[1;31mFileNotFoundError\u001b[0m                         Traceback (most recent call last)",
      "\u001b[1;32m~\\AppData\\Local\\Temp\\ipykernel_19172\\1468405922.py\u001b[0m in \u001b[0;36m<module>\u001b[1;34m\u001b[0m\n\u001b[0;32m     25\u001b[0m     \u001b[0mmetrics_subsumption\u001b[0m\u001b[1;33m,\u001b[0m \u001b[0mmetrics_membership\u001b[0m \u001b[1;33m=\u001b[0m \u001b[0mmodel\u001b[0m\u001b[1;33m.\u001b[0m\u001b[0mtest\u001b[0m\u001b[1;33m(\u001b[0m\u001b[1;33m)\u001b[0m \u001b[1;31m# , metrics_link_prediction\u001b[0m\u001b[1;33m\u001b[0m\u001b[1;33m\u001b[0m\u001b[0m\n\u001b[0;32m     26\u001b[0m     \u001b[0mprint\u001b[0m\u001b[1;33m(\u001b[0m\u001b[1;33m)\u001b[0m\u001b[1;33m\u001b[0m\u001b[1;33m\u001b[0m\u001b[0m\n\u001b[1;32m---> 27\u001b[1;33m     \u001b[0msave_results\u001b[0m\u001b[1;33m(\u001b[0m\u001b[0mmetrics_subsumption\u001b[0m\u001b[1;33m,\u001b[0m \u001b[0mmetrics_membership\u001b[0m\u001b[1;33m,\u001b[0m \u001b[1;34mf'models/results/owl2vec/{file_name}.txt'\u001b[0m\u001b[1;33m)\u001b[0m \u001b[1;31m# , metrics_link_prediction\u001b[0m\u001b[1;33m\u001b[0m\u001b[1;33m\u001b[0m\u001b[0m\n\u001b[0m",
      "\u001b[1;32mc:\\Users\\julie\\github\\PhD\\NoisyBench\\src\\utils.py\u001b[0m in \u001b[0;36msave_results\u001b[1;34m(metrics_subsumption, metrics_membership, results_dir)\u001b[0m\n\u001b[0;32m    225\u001b[0m     \u001b[0mm_mrr\u001b[0m\u001b[1;33m,\u001b[0m \u001b[0mm_hits_at_1\u001b[0m\u001b[1;33m,\u001b[0m \u001b[0mm_hits_at_5\u001b[0m\u001b[1;33m,\u001b[0m \u001b[0mm_hits_at_10\u001b[0m \u001b[1;33m=\u001b[0m \u001b[0mmetrics_membership\u001b[0m\u001b[1;33m\u001b[0m\u001b[1;33m\u001b[0m\u001b[0m\n\u001b[0;32m    226\u001b[0m     \u001b[1;31m# lp_mrr, lp_hits_at_1, lp_hits_at_5, lp_hits_at_10 = metrics_link_prediction\u001b[0m\u001b[1;33m\u001b[0m\u001b[1;33m\u001b[0m\u001b[1;33m\u001b[0m\u001b[0m\n\u001b[1;32m--> 227\u001b[1;33m     \u001b[1;32mwith\u001b[0m \u001b[0mopen\u001b[0m\u001b[1;33m(\u001b[0m\u001b[0mresults_dir\u001b[0m\u001b[1;33m,\u001b[0m \u001b[1;34m'w'\u001b[0m\u001b[1;33m)\u001b[0m \u001b[1;32mas\u001b[0m \u001b[0mf\u001b[0m\u001b[1;33m:\u001b[0m\u001b[1;33m\u001b[0m\u001b[1;33m\u001b[0m\u001b[0m\n\u001b[0m\u001b[0;32m    228\u001b[0m         \u001b[0mtimestamp\u001b[0m \u001b[1;33m=\u001b[0m \u001b[0mdatetime\u001b[0m\u001b[1;33m.\u001b[0m\u001b[0mnow\u001b[0m\u001b[1;33m(\u001b[0m\u001b[1;33m)\u001b[0m\u001b[1;33m.\u001b[0m\u001b[0mstrftime\u001b[0m\u001b[1;33m(\u001b[0m\u001b[1;34m\"%Y-%m-%d %H:%M:%S\"\u001b[0m\u001b[1;33m)\u001b[0m\u001b[1;33m\u001b[0m\u001b[1;33m\u001b[0m\u001b[0m\n\u001b[0;32m    229\u001b[0m         \u001b[0mline1\u001b[0m \u001b[1;33m=\u001b[0m \u001b[1;33m[\u001b[0m\u001b[0mm_mrr\u001b[0m\u001b[1;33m,\u001b[0m \u001b[0mm_hits_at_1\u001b[0m\u001b[1;33m,\u001b[0m \u001b[0mm_hits_at_5\u001b[0m\u001b[1;33m,\u001b[0m \u001b[0mm_hits_at_10\u001b[0m\u001b[1;33m]\u001b[0m\u001b[1;33m\u001b[0m\u001b[1;33m\u001b[0m\u001b[0m\n",
      "\u001b[1;31mFileNotFoundError\u001b[0m: [Errno 2] No such file or directory: 'models/results/owl2vec/OWL2DL-1.txt'"
     ]
    }
   ],
   "source": [
    "for experiment in experiments[:4]: \n",
    "    dataset_name = experiment['dataset_name']\n",
    "    file_name = experiment['file_name']\n",
    "    format_ = experiment['format_']\n",
    "    add_noise = experiment['add_noise']  \n",
    "          \n",
    "    model = OWL2Vec(file_name         = file_name,\n",
    "                    dataset_name      = dataset_name,\n",
    "                    kge_model         = 'transe',\n",
    "                    emb_dim           = 256,\n",
    "                    margin            = 0.1,\n",
    "                    weight_decay      = 0.0,\n",
    "                    batch_size        = 4096*8,\n",
    "                    lr                = 0.0001,\n",
    "                    num_negs          = 4,\n",
    "                    test_batch_size   = 32,\n",
    "                    epochs            = 500,\n",
    "                    device            = device,\n",
    "                    seed              = 42,\n",
    "                    initial_tolerance = 5)\n",
    "\n",
    "    model.train()\n",
    "    \n",
    "    print(f'{file_name}:')\n",
    "    metrics_subsumption, metrics_membership = model.test() # , metrics_link_prediction\n",
    "    print()\n",
    "    save_results(metrics_subsumption, metrics_membership, f'models/results/owl2vec/{file_name}.txt') # , metrics_link_prediction"
   ]
  }
 ],
 "metadata": {
  "kernelspec": {
   "display_name": "base",
   "language": "python",
   "name": "python3"
  },
  "language_info": {
   "codemirror_mode": {
    "name": "ipython",
    "version": 3
   },
   "file_extension": ".py",
   "mimetype": "text/x-python",
   "name": "python",
   "nbconvert_exporter": "python",
   "pygments_lexer": "ipython3",
   "version": "3.8.16"
  }
 },
 "nbformat": 4,
 "nbformat_minor": 2
}
