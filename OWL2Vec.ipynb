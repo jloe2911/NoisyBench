{
 "cells": [
  {
   "cell_type": "code",
   "execution_count": 1,
   "id": "e3fa9603-34ba-4190-b47f-de653f9070ac",
   "metadata": {},
   "outputs": [],
   "source": [
    "from src.utils import *\n",
    "from src.graph_model import *\n",
    "from src.owl2vec import *"
   ]
  },
  {
   "cell_type": "code",
   "execution_count": 2,
   "id": "af2172a5-3ad1-4ac0-93a3-a0120a4d5bb4",
   "metadata": {},
   "outputs": [
    {
     "name": "stdout",
     "output_type": "stream",
     "text": [
      "cpu\n"
     ]
    }
   ],
   "source": [
    "device = torch.device('cuda' if torch.cuda.is_available() else 'cpu')\n",
    "device = 'cpu'\n",
    "print(device)"
   ]
  },
  {
   "cell_type": "code",
   "execution_count": 3,
   "id": "48d85806-9a05-497d-be9f-5fbb442e4ab1",
   "metadata": {},
   "outputs": [],
   "source": [
    "#dataset_name = 'family'\n",
    "#dataset_name = 'pizza'\n",
    "dataset_name = 'OWL2DL-1'\n",
    "#dataset_name = 'lubm'"
   ]
  },
  {
   "cell_type": "code",
   "execution_count": 4,
   "id": "062000c0-31be-40c0-837f-32d03dd6cedb",
   "metadata": {},
   "outputs": [],
   "source": [
    "experiments = get_experimets(dataset_name)"
   ]
  },
  {
   "cell_type": "code",
   "execution_count": 5,
   "id": "c99d63b9-4d04-4930-a6a3-4f3553f4f586",
   "metadata": {},
   "outputs": [
    {
     "ename": "org.semanticweb.owlapi.model.OWLOntologyAlreadyExistsException",
     "evalue": "org.semanticweb.owlapi.model.OWLOntologyAlreadyExistsException: Ontology already exists. OntologyID(OntologyIRI(<https://kracr.iiitd.edu.in/OWL2Bench>) VersionIRI(<null>))",
     "output_type": "error",
     "traceback": [
      "\u001b[1;31m---------------------------------------------------------------------------\u001b[0m",
      "\u001b[1;31morg.semanticweb.owlapi.model.OWLOntologyRenameException\u001b[0mTraceback (most recent call last)",
      "\u001b[1;32mc:\\Users\\julie\\anaconda3\\lib\\site-packages\\_jpype.cp38-win_amd64.pyd\u001b[0m in \u001b[0;36muk.ac.manchester.cs.owl.owlapi.OWLOntologyManagerImpl.loadOntologyFromOntologyDocument\u001b[1;34m()\u001b[0m\n",
      "\u001b[1;31morg.semanticweb.owlapi.model.OWLOntologyRenameException\u001b[0m: org.semanticweb.owlapi.model.OWLOntologyRenameException: Could not rename ontology. An ontology with this ID already exists: OntologyID(OntologyIRI(<https://kracr.iiitd.edu.in/OWL2Bench>) VersionIRI(<null>)) change: SetOntologyIDData(OntologyID(OntologyIRI(<https://kracr.iiitd.edu.in/OWL2Bench>) VersionIRI(<null>)))",
      "\nThe above exception was the direct cause of the following exception:\n",
      "\u001b[1;31mException\u001b[0m                                 Traceback (most recent call last)",
      "\u001b[1;32mc:\\Users\\julie\\anaconda3\\lib\\site-packages\\_jpype.cp38-win_amd64.pyd\u001b[0m in \u001b[0;36muk.ac.manchester.cs.owl.owlapi.OWLOntologyManagerImpl.loadOntologyFromOntologyDocument\u001b[1;34m()\u001b[0m\n",
      "\u001b[1;31mException\u001b[0m: Java Exception",
      "\nThe above exception was the direct cause of the following exception:\n",
      "\u001b[1;31morg.semanticweb.owlapi.model.OWLOntologyAlreadyExistsException\u001b[0mTraceback (most recent call last)",
      "\u001b[1;32m~\\AppData\\Local\\Temp\\ipykernel_18964\\610910221.py\u001b[0m in \u001b[0;36m<module>\u001b[1;34m\u001b[0m\n\u001b[0;32m      5\u001b[0m     \u001b[0madd_noise\u001b[0m \u001b[1;33m=\u001b[0m \u001b[0mexperiment\u001b[0m\u001b[1;33m[\u001b[0m\u001b[1;34m'add_noise'\u001b[0m\u001b[1;33m]\u001b[0m\u001b[1;33m\u001b[0m\u001b[1;33m\u001b[0m\u001b[0m\n\u001b[0;32m      6\u001b[0m \u001b[1;33m\u001b[0m\u001b[0m\n\u001b[1;32m----> 7\u001b[1;33m     model = OWL2Vec(file_name         = file_name,\n\u001b[0m\u001b[0;32m      8\u001b[0m                     \u001b[0mdataset_name\u001b[0m      \u001b[1;33m=\u001b[0m \u001b[0mdataset_name\u001b[0m\u001b[1;33m,\u001b[0m\u001b[1;33m\u001b[0m\u001b[1;33m\u001b[0m\u001b[0m\n\u001b[0;32m      9\u001b[0m                     \u001b[0mkge_model\u001b[0m         \u001b[1;33m=\u001b[0m \u001b[1;34m'transe'\u001b[0m\u001b[1;33m,\u001b[0m\u001b[1;33m\u001b[0m\u001b[1;33m\u001b[0m\u001b[0m\n",
      "\u001b[1;32mc:\\Users\\julie\\github\\PhD\\NoisyBench\\src\\owl2vec.py\u001b[0m in \u001b[0;36m__init__\u001b[1;34m(self, *args, **kwargs)\u001b[0m\n\u001b[0;32m     10\u001b[0m                  \u001b[1;33m*\u001b[0m\u001b[0margs\u001b[0m\u001b[1;33m,\u001b[0m\u001b[1;33m\u001b[0m\u001b[1;33m\u001b[0m\u001b[0m\n\u001b[0;32m     11\u001b[0m                  **kwargs):\n\u001b[1;32m---> 12\u001b[1;33m         \u001b[0msuper\u001b[0m\u001b[1;33m(\u001b[0m\u001b[1;33m)\u001b[0m\u001b[1;33m.\u001b[0m\u001b[0m__init__\u001b[0m\u001b[1;33m(\u001b[0m\u001b[1;33m*\u001b[0m\u001b[0margs\u001b[0m\u001b[1;33m,\u001b[0m \u001b[1;33m**\u001b[0m\u001b[0mkwargs\u001b[0m\u001b[1;33m)\u001b[0m\u001b[1;33m\u001b[0m\u001b[1;33m\u001b[0m\u001b[0m\n\u001b[0m\u001b[0;32m     13\u001b[0m \u001b[1;33m\u001b[0m\u001b[0m\n\u001b[0;32m     14\u001b[0m     \u001b[1;32mdef\u001b[0m \u001b[0mtrain\u001b[0m\u001b[1;33m(\u001b[0m\u001b[0mself\u001b[0m\u001b[1;33m)\u001b[0m\u001b[1;33m:\u001b[0m\u001b[1;33m\u001b[0m\u001b[1;33m\u001b[0m\u001b[0m\n",
      "\u001b[1;32mc:\\Users\\julie\\github\\PhD\\NoisyBench\\src\\graph_model.py\u001b[0m in \u001b[0;36m__init__\u001b[1;34m(self, file_name, dataset_name, kge_model, emb_dim, margin, weight_decay, batch_size, lr, num_negs, test_batch_size, epochs, device, seed, initial_tolerance)\u001b[0m\n\u001b[0;32m     94\u001b[0m         \u001b[0mself\u001b[0m\u001b[1;33m.\u001b[0m\u001b[0m_individuals_path\u001b[0m \u001b[1;33m=\u001b[0m \u001b[1;34mf'datasets/bin/owl2vec/{self.dataset_name}/{self.file_name}_individuals.tsv'\u001b[0m\u001b[1;33m\u001b[0m\u001b[1;33m\u001b[0m\u001b[0m\n\u001b[0;32m     95\u001b[0m \u001b[1;33m\u001b[0m\u001b[0m\n\u001b[1;32m---> 96\u001b[1;33m         \u001b[0mself\u001b[0m\u001b[1;33m.\u001b[0m\u001b[0mdataset\u001b[0m \u001b[1;33m=\u001b[0m \u001b[0mPathDataset\u001b[0m\u001b[1;33m(\u001b[0m\u001b[0mself\u001b[0m\u001b[1;33m.\u001b[0m\u001b[0mtrain_path\u001b[0m\u001b[1;33m,\u001b[0m \u001b[0mvalidation_path\u001b[0m \u001b[1;33m=\u001b[0m \u001b[0mself\u001b[0m\u001b[1;33m.\u001b[0m\u001b[0mvalid_path\u001b[0m\u001b[1;33m,\u001b[0m \u001b[0mtesting_path\u001b[0m \u001b[1;33m=\u001b[0m \u001b[0mself\u001b[0m\u001b[1;33m.\u001b[0m\u001b[0mtest_path\u001b[0m\u001b[1;33m)\u001b[0m\u001b[1;33m\u001b[0m\u001b[1;33m\u001b[0m\u001b[0m\n\u001b[0m\u001b[0;32m     97\u001b[0m \u001b[1;33m\u001b[0m\u001b[0m\n\u001b[0;32m     98\u001b[0m         self.model = KGEModule(kge_model,\n",
      "\u001b[1;32mc:\\Users\\julie\\anaconda3\\lib\\site-packages\\mowl\\datasets\\base.py\u001b[0m in \u001b[0;36m__init__\u001b[1;34m(self, ontology_path, validation_path, testing_path)\u001b[0m\n\u001b[0;32m    259\u001b[0m         \u001b[0mself\u001b[0m\u001b[1;33m.\u001b[0m\u001b[0mtesting_path\u001b[0m \u001b[1;33m=\u001b[0m \u001b[0mtesting_path\u001b[0m\u001b[1;33m\u001b[0m\u001b[1;33m\u001b[0m\u001b[0m\n\u001b[0;32m    260\u001b[0m \u001b[1;33m\u001b[0m\u001b[0m\n\u001b[1;32m--> 261\u001b[1;33m         \u001b[0montology\u001b[0m\u001b[1;33m,\u001b[0m \u001b[0mvalidation\u001b[0m\u001b[1;33m,\u001b[0m \u001b[0mtesting\u001b[0m \u001b[1;33m=\u001b[0m \u001b[0mself\u001b[0m\u001b[1;33m.\u001b[0m\u001b[0m_load\u001b[0m\u001b[1;33m(\u001b[0m\u001b[1;33m)\u001b[0m\u001b[1;33m\u001b[0m\u001b[1;33m\u001b[0m\u001b[0m\n\u001b[0m\u001b[0;32m    262\u001b[0m         \u001b[0msuper\u001b[0m\u001b[1;33m(\u001b[0m\u001b[1;33m)\u001b[0m\u001b[1;33m.\u001b[0m\u001b[0m__init__\u001b[0m\u001b[1;33m(\u001b[0m\u001b[0montology\u001b[0m\u001b[1;33m,\u001b[0m \u001b[0mvalidation\u001b[0m\u001b[1;33m=\u001b[0m\u001b[0mvalidation\u001b[0m\u001b[1;33m,\u001b[0m \u001b[0mtesting\u001b[0m\u001b[1;33m=\u001b[0m\u001b[0mtesting\u001b[0m\u001b[1;33m)\u001b[0m\u001b[1;33m\u001b[0m\u001b[1;33m\u001b[0m\u001b[0m\n\u001b[0;32m    263\u001b[0m \u001b[1;33m\u001b[0m\u001b[0m\n",
      "\u001b[1;32mc:\\Users\\julie\\anaconda3\\lib\\site-packages\\mowl\\datasets\\base.py\u001b[0m in \u001b[0;36m_load\u001b[1;34m(self)\u001b[0m\n\u001b[0;32m    275\u001b[0m         \u001b[0mvalidation\u001b[0m \u001b[1;33m=\u001b[0m \u001b[1;32mNone\u001b[0m\u001b[1;33m\u001b[0m\u001b[1;33m\u001b[0m\u001b[0m\n\u001b[0;32m    276\u001b[0m         \u001b[1;32mif\u001b[0m \u001b[0mself\u001b[0m\u001b[1;33m.\u001b[0m\u001b[0mvalidation_path\u001b[0m \u001b[1;32mis\u001b[0m \u001b[1;32mnot\u001b[0m \u001b[1;32mNone\u001b[0m\u001b[1;33m:\u001b[0m\u001b[1;33m\u001b[0m\u001b[1;33m\u001b[0m\u001b[0m\n\u001b[1;32m--> 277\u001b[1;33m             validation = ont_manager.loadOntologyFromOntologyDocument(\n\u001b[0m\u001b[0;32m    278\u001b[0m                 java.io.File(self.validation_path))\n\u001b[0;32m    279\u001b[0m \u001b[1;33m\u001b[0m\u001b[0m\n",
      "\u001b[1;31morg.semanticweb.owlapi.model.OWLOntologyAlreadyExistsException\u001b[0m: org.semanticweb.owlapi.model.OWLOntologyAlreadyExistsException: Ontology already exists. OntologyID(OntologyIRI(<https://kracr.iiitd.edu.in/OWL2Bench>) VersionIRI(<null>))"
     ]
    }
   ],
   "source": [
    "for experiment in experiments[-1:]: \n",
    "    dataset_name = experiment['dataset_name']\n",
    "    file_name = experiment['file_name']\n",
    "    format_ = experiment['format_']\n",
    "    add_noise = experiment['add_noise']\n",
    "          \n",
    "    model = OWL2Vec(file_name         = file_name,\n",
    "                    dataset_name      = dataset_name,\n",
    "                    kge_model         = 'transe',\n",
    "                    emb_dim           = 256,\n",
    "                    margin            = 0.1,\n",
    "                    weight_decay      = 0.0,\n",
    "                    batch_size        = 4096*8,\n",
    "                    lr                = 0.0001,\n",
    "                    num_negs          = 4,\n",
    "                    test_batch_size   = 32,\n",
    "                    epochs            = 500,\n",
    "                    device            = device,\n",
    "                    seed              = 42,\n",
    "                    initial_tolerance = 5)\n",
    "\n",
    "    model.train()\n",
    "    \n",
    "    print(f'{file_name}:')\n",
    "    subsumption_metrics, membership_metrics = model.test()\n",
    "    print()"
   ]
  },
  {
   "cell_type": "code",
   "execution_count": 6,
   "id": "1cd01f5f",
   "metadata": {},
   "outputs": [
    {
     "data": {
      "text/plain": [
       "'OWL2DL-1'"
      ]
     },
     "execution_count": 6,
     "metadata": {},
     "output_type": "execute_result"
    }
   ],
   "source": [
    "dataset_name"
   ]
  },
  {
   "cell_type": "code",
   "execution_count": null,
   "id": "ac103fca",
   "metadata": {},
   "outputs": [],
   "source": []
  },
  {
   "cell_type": "code",
   "execution_count": 7,
   "id": "846536b0",
   "metadata": {},
   "outputs": [
    {
     "ename": "org.semanticweb.owlapi.model.OWLOntologyAlreadyExistsException",
     "evalue": "org.semanticweb.owlapi.model.OWLOntologyAlreadyExistsException: Ontology already exists. OntologyID(OntologyIRI(<https://kracr.iiitd.edu.in/OWL2Bench>) VersionIRI(<null>))",
     "output_type": "error",
     "traceback": [
      "\u001b[1;31m---------------------------------------------------------------------------\u001b[0m",
      "\u001b[1;31morg.semanticweb.owlapi.model.OWLOntologyRenameException\u001b[0mTraceback (most recent call last)",
      "\u001b[1;32mc:\\Users\\julie\\anaconda3\\lib\\site-packages\\_jpype.cp38-win_amd64.pyd\u001b[0m in \u001b[0;36muk.ac.manchester.cs.owl.owlapi.OWLOntologyManagerImpl.loadOntologyFromOntologyDocument\u001b[1;34m()\u001b[0m\n",
      "\u001b[1;31morg.semanticweb.owlapi.model.OWLOntologyRenameException\u001b[0m: org.semanticweb.owlapi.model.OWLOntologyRenameException: Could not rename ontology. An ontology with this ID already exists: OntologyID(OntologyIRI(<https://kracr.iiitd.edu.in/OWL2Bench>) VersionIRI(<null>)) change: SetOntologyIDData(OntologyID(OntologyIRI(<https://kracr.iiitd.edu.in/OWL2Bench>) VersionIRI(<null>)))",
      "\nThe above exception was the direct cause of the following exception:\n",
      "\u001b[1;31mException\u001b[0m                                 Traceback (most recent call last)",
      "\u001b[1;32mc:\\Users\\julie\\anaconda3\\lib\\site-packages\\_jpype.cp38-win_amd64.pyd\u001b[0m in \u001b[0;36muk.ac.manchester.cs.owl.owlapi.OWLOntologyManagerImpl.loadOntologyFromOntologyDocument\u001b[1;34m()\u001b[0m\n",
      "\u001b[1;31mException\u001b[0m: Java Exception",
      "\nThe above exception was the direct cause of the following exception:\n",
      "\u001b[1;31morg.semanticweb.owlapi.model.OWLOntologyAlreadyExistsException\u001b[0mTraceback (most recent call last)",
      "\u001b[1;32m~\\AppData\\Local\\Temp\\ipykernel_18964\\264789820.py\u001b[0m in \u001b[0;36m<module>\u001b[1;34m\u001b[0m\n\u001b[1;32m----> 1\u001b[1;33m \u001b[0mdataset\u001b[0m \u001b[1;33m=\u001b[0m \u001b[0mPathDataset\u001b[0m\u001b[1;33m(\u001b[0m\u001b[1;34m'datasets/bin/OWL2DL-1_train.owl'\u001b[0m\u001b[1;33m,\u001b[0m \u001b[0mvalidation_path\u001b[0m \u001b[1;33m=\u001b[0m \u001b[1;34m'datasets/bin/OWL2DL-1_val.owl'\u001b[0m\u001b[1;33m,\u001b[0m \u001b[0mtesting_path\u001b[0m \u001b[1;33m=\u001b[0m \u001b[1;34m'datasets/bin/OWL2DL-1_test.owl'\u001b[0m\u001b[1;33m)\u001b[0m\u001b[1;33m\u001b[0m\u001b[1;33m\u001b[0m\u001b[0m\n\u001b[0m",
      "\u001b[1;32mc:\\Users\\julie\\anaconda3\\lib\\site-packages\\mowl\\datasets\\base.py\u001b[0m in \u001b[0;36m__init__\u001b[1;34m(self, ontology_path, validation_path, testing_path)\u001b[0m\n\u001b[0;32m    259\u001b[0m         \u001b[0mself\u001b[0m\u001b[1;33m.\u001b[0m\u001b[0mtesting_path\u001b[0m \u001b[1;33m=\u001b[0m \u001b[0mtesting_path\u001b[0m\u001b[1;33m\u001b[0m\u001b[1;33m\u001b[0m\u001b[0m\n\u001b[0;32m    260\u001b[0m \u001b[1;33m\u001b[0m\u001b[0m\n\u001b[1;32m--> 261\u001b[1;33m         \u001b[0montology\u001b[0m\u001b[1;33m,\u001b[0m \u001b[0mvalidation\u001b[0m\u001b[1;33m,\u001b[0m \u001b[0mtesting\u001b[0m \u001b[1;33m=\u001b[0m \u001b[0mself\u001b[0m\u001b[1;33m.\u001b[0m\u001b[0m_load\u001b[0m\u001b[1;33m(\u001b[0m\u001b[1;33m)\u001b[0m\u001b[1;33m\u001b[0m\u001b[1;33m\u001b[0m\u001b[0m\n\u001b[0m\u001b[0;32m    262\u001b[0m         \u001b[0msuper\u001b[0m\u001b[1;33m(\u001b[0m\u001b[1;33m)\u001b[0m\u001b[1;33m.\u001b[0m\u001b[0m__init__\u001b[0m\u001b[1;33m(\u001b[0m\u001b[0montology\u001b[0m\u001b[1;33m,\u001b[0m \u001b[0mvalidation\u001b[0m\u001b[1;33m=\u001b[0m\u001b[0mvalidation\u001b[0m\u001b[1;33m,\u001b[0m \u001b[0mtesting\u001b[0m\u001b[1;33m=\u001b[0m\u001b[0mtesting\u001b[0m\u001b[1;33m)\u001b[0m\u001b[1;33m\u001b[0m\u001b[1;33m\u001b[0m\u001b[0m\n\u001b[0;32m    263\u001b[0m \u001b[1;33m\u001b[0m\u001b[0m\n",
      "\u001b[1;32mc:\\Users\\julie\\anaconda3\\lib\\site-packages\\mowl\\datasets\\base.py\u001b[0m in \u001b[0;36m_load\u001b[1;34m(self)\u001b[0m\n\u001b[0;32m    275\u001b[0m         \u001b[0mvalidation\u001b[0m \u001b[1;33m=\u001b[0m \u001b[1;32mNone\u001b[0m\u001b[1;33m\u001b[0m\u001b[1;33m\u001b[0m\u001b[0m\n\u001b[0;32m    276\u001b[0m         \u001b[1;32mif\u001b[0m \u001b[0mself\u001b[0m\u001b[1;33m.\u001b[0m\u001b[0mvalidation_path\u001b[0m \u001b[1;32mis\u001b[0m \u001b[1;32mnot\u001b[0m \u001b[1;32mNone\u001b[0m\u001b[1;33m:\u001b[0m\u001b[1;33m\u001b[0m\u001b[1;33m\u001b[0m\u001b[0m\n\u001b[1;32m--> 277\u001b[1;33m             validation = ont_manager.loadOntologyFromOntologyDocument(\n\u001b[0m\u001b[0;32m    278\u001b[0m                 java.io.File(self.validation_path))\n\u001b[0;32m    279\u001b[0m \u001b[1;33m\u001b[0m\u001b[0m\n",
      "\u001b[1;31morg.semanticweb.owlapi.model.OWLOntologyAlreadyExistsException\u001b[0m: org.semanticweb.owlapi.model.OWLOntologyAlreadyExistsException: Ontology already exists. OntologyID(OntologyIRI(<https://kracr.iiitd.edu.in/OWL2Bench>) VersionIRI(<null>))"
     ]
    }
   ],
   "source": [
    "dataset = PathDataset('datasets/bin/OWL2DL-1_train.owl', validation_path = 'datasets/bin/OWL2DL-1_val.owl', testing_path = 'datasets/bin/OWL2DL-1_test.owl')"
   ]
  },
  {
   "cell_type": "code",
   "execution_count": null,
   "id": "7da00c7c",
   "metadata": {},
   "outputs": [],
   "source": []
  }
 ],
 "metadata": {
  "kernelspec": {
   "display_name": "base",
   "language": "python",
   "name": "python3"
  },
  "language_info": {
   "codemirror_mode": {
    "name": "ipython",
    "version": 3
   },
   "file_extension": ".py",
   "mimetype": "text/x-python",
   "name": "python",
   "nbconvert_exporter": "python",
   "pygments_lexer": "ipython3",
   "version": "3.8.16"
  }
 },
 "nbformat": 4,
 "nbformat_minor": 5
}
