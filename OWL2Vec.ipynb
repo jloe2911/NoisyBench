{
 "cells": [
  {
   "cell_type": "code",
   "execution_count": 7,
   "metadata": {},
   "outputs": [],
   "source": [
    "import os\n",
    "os.environ[\"JAVA_HOME\"] = r\"C:\\Program Files\\JAVA\\jdk-22\""
   ]
  },
  {
   "cell_type": "code",
   "execution_count": 8,
   "metadata": {},
   "outputs": [],
   "source": [
    "from src.utils import *\n",
    "from src.graph_model import *\n",
    "from src.owl2vec import *"
   ]
  },
  {
   "cell_type": "code",
   "execution_count": null,
   "metadata": {},
   "outputs": [],
   "source": [
    "device = torch.device('cuda' if torch.cuda.is_available() else 'cpu')\n",
    "device = 'cpu'\n",
    "print(device)"
   ]
  },
  {
   "cell_type": "code",
   "execution_count": 10,
   "metadata": {},
   "outputs": [],
   "source": [
    "dataset_name = 'OWL2DL-1'\n",
    "# dataset_name = 'family'"
   ]
  },
  {
   "cell_type": "code",
   "execution_count": 11,
   "metadata": {},
   "outputs": [],
   "source": [
    "experiments = get_experimets(dataset_name)"
   ]
  },
  {
   "cell_type": "code",
   "execution_count": null,
   "metadata": {},
   "outputs": [],
   "source": [
    "for experiment in experiments:\n",
    "    dataset_name = experiment['dataset_name']\n",
    "    file_name = experiment['file_name']\n",
    "    format_ = experiment['format_']\n",
    "    add_noise = experiment['add_noise']\n",
    "    \n",
    "    subsumption_results = []\n",
    "    membership_results = []\n",
    "    link_prediction_results = []\n",
    "    \n",
    "    for i in range(5):\n",
    "        model = OWL2Vec(\n",
    "            file_name=file_name,\n",
    "            iteration = i, \n",
    "            dataset_name=dataset_name,\n",
    "            kge_model='transe',\n",
    "            emb_dim=256,\n",
    "            margin=0.1,\n",
    "            weight_decay=0.0,\n",
    "            batch_size=4096*8,\n",
    "            lr=0.0001,\n",
    "            num_negs=4,\n",
    "            test_batch_size=32,\n",
    "            epochs=500,\n",
    "            device=device,\n",
    "            seed=42,\n",
    "            initial_tolerance=5\n",
    "        )\n",
    "        \n",
    "        model.train()\n",
    "        \n",
    "        print(f'{file_name}:')\n",
    "        metrics_subsumption, metrics_membership, metrics_link_prediction = model.test()\n",
    "        print()\n",
    "\n",
    "        subsumption_results.append(metrics_subsumption)\n",
    "        membership_results.append(metrics_membership)\n",
    "        link_prediction_results.append(metrics_link_prediction)\n",
    "        \n",
    "    avg_metrics_subsumption = [np.mean(values) for values in zip(*subsumption_results)]\n",
    "    avg_metrics_membership = [np.mean(values) for values in zip(*membership_results)]\n",
    "    avg_metrics_link_prediction = [np.mean(values) for values in zip(*link_prediction_results)]\n",
    "    \n",
    "    save_results(avg_metrics_subsumption, avg_metrics_membership, avg_metrics_link_prediction, f'models/results/owl2vec/{file_name}.txt') "
   ]
  }
 ],
 "metadata": {
  "kernelspec": {
   "display_name": "Python 3",
   "language": "python",
   "name": "python3"
  },
  "language_info": {
   "codemirror_mode": {
    "name": "ipython",
    "version": 3
   },
   "file_extension": ".py",
   "mimetype": "text/x-python",
   "name": "python",
   "nbconvert_exporter": "python",
   "pygments_lexer": "ipython3",
   "version": "3.12.7"
  }
 },
 "nbformat": 4,
 "nbformat_minor": 2
}
