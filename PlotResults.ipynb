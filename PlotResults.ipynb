{
 "cells": [
  {
   "cell_type": "code",
   "execution_count": null,
   "metadata": {},
   "outputs": [],
   "source": [
    "import matplotlib.pyplot as plt\n",
    "import numpy as np\n",
    "import matplotlib.cm as cm"
   ]
  },
  {
   "cell_type": "code",
   "execution_count": null,
   "metadata": {},
   "outputs": [],
   "source": [
    "categories = ['Class assertions', 'Subsumption', 'Object property assertions']\n",
    "no_noise_mrr = [0.055, 0.102, 0.004]\n",
    "\n",
    "random_noise_mrr = {\n",
    "    \"25%\": [0.339, 0.322, 0.005],\n",
    "    \"50%\": [0.312, 0.325, 0.008],\n",
    "    \"75%\": [0.322, 0.319, 0.053],\n",
    "    \"100%\": [0.271, 0.345, 0.005]\n",
    "}\n",
    "\n",
    "statistical_noise_mrr = {\n",
    "    \"25%\": [0.364, 0.339, 0.003],\n",
    "    \"50%\": [0.338, 0.252, 0.007],\n",
    "    \"75%\": [0.360, 0.305, 0.006],\n",
    "    \"100%\": [0.348, 0.320, 0.031]\n",
    "}\n",
    "\n",
    "logical_noise_mrr = {\n",
    "    \"25%\": [0.030, 0.095, 0.006],\n",
    "    \"50%\": [0.023, 0.106, 0.010],\n",
    "    \"75%\": [0.018, 0.103, 0.010],\n",
    "    \"100%\": [0.016, 0.103, 0.009]\n",
    "}"
   ]
  },
  {
   "cell_type": "code",
   "execution_count": null,
   "metadata": {},
   "outputs": [],
   "source": [
    "bar_width = 0.2\n",
    "x = np.arange(len(categories))\n",
    "\n",
    "def plot_noise_chart(ax, noise_data, noise_type, baseline):\n",
    "    color_map = cm.get_cmap('YlOrRd')\n",
    "    \n",
    "    for i, (percentage, values) in enumerate(noise_data.items()):\n",
    "        color = color_map(i / 3)  \n",
    "        bars = ax.bar(x + i * bar_width, values, bar_width, label=f'{noise_type} ({percentage})', color=color)\n",
    "        \n",
    "        for bar in bars:\n",
    "            yval = bar.get_height()\n",
    "            ax.text(bar.get_x() + bar.get_width()/2, yval + 0.01, f'{yval:.3f}', ha='center', va='bottom', fontsize=10, rotation=90)\n",
    "\n",
    "    bars_no_noise = ax.bar(x - bar_width, baseline, bar_width, label='No Noise', color='black')\n",
    "    for bar in bars_no_noise:\n",
    "        yval = bar.get_height()\n",
    "        ax.text(bar.get_x() + bar.get_width()/2, yval + 0.01, f'{yval:.3f}', ha='center', va='bottom', fontsize=10, rotation=90)\n",
    "    \n",
    "    ax.set_xticks(x + bar_width)\n",
    "    ax.set_xticklabels(categories)\n",
    "    ax.set_ylabel('MRR')\n",
    "    ax.set_ylim(0, 0.55)  \n",
    "    ax.set_title(f'No Noise vs {noise_type}')\n",
    "    ax.legend(loc='upper left')\n",
    "\n",
    "fig, axes = plt.subplots(1, 3, figsize=(24, 8))  \n",
    "\n",
    "plot_noise_chart(axes[0], random_noise_mrr, \"Random Noise\", no_noise_mrr)\n",
    "plot_noise_chart(axes[1], statistical_noise_mrr, \"Statistical Noise\", no_noise_mrr)\n",
    "plot_noise_chart(axes[2], logical_noise_mrr, \"Logical Noise\", no_noise_mrr)\n",
    "\n",
    "plt.tight_layout(pad=3.0)\n",
    "plt.show()"
   ]
  }
 ],
 "metadata": {
  "kernelspec": {
   "display_name": "Python 3",
   "language": "python",
   "name": "python3"
  },
  "language_info": {
   "codemirror_mode": {
    "name": "ipython",
    "version": 3
   },
   "file_extension": ".py",
   "mimetype": "text/x-python",
   "name": "python",
   "nbconvert_exporter": "python",
   "pygments_lexer": "ipython3",
   "version": "3.12.7"
  }
 },
 "nbformat": 4,
 "nbformat_minor": 2
}
