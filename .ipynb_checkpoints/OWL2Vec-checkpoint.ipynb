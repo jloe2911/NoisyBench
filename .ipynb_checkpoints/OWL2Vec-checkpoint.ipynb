{
 "cells": [
  {
   "cell_type": "code",
   "execution_count": 1,
   "id": "e3fa9603-34ba-4190-b47f-de653f9070ac",
   "metadata": {},
   "outputs": [],
   "source": [
    "from src.utils import *\n",
    "from src.graph_model import *\n",
    "from src.owl2vec import *"
   ]
  },
  {
   "cell_type": "code",
   "execution_count": 2,
   "id": "af2172a5-3ad1-4ac0-93a3-a0120a4d5bb4",
   "metadata": {},
   "outputs": [
    {
     "name": "stdout",
     "output_type": "stream",
     "text": [
      "cpu\n"
     ]
    }
   ],
   "source": [
    "device = torch.device('cuda' if torch.cuda.is_available() else 'cpu')\n",
    "device = 'cpu'\n",
    "print(device)"
   ]
  },
  {
   "cell_type": "code",
   "execution_count": 3,
   "id": "48d85806-9a05-497d-be9f-5fbb442e4ab1",
   "metadata": {},
   "outputs": [],
   "source": [
    "#dataset_name = 'family'\n",
    "#dataset_name = 'pizza'\n",
    "dataset_name = 'OWL2DL-1'"
   ]
  },
  {
   "cell_type": "code",
   "execution_count": 4,
   "id": "062000c0-31be-40c0-837f-32d03dd6cedb",
   "metadata": {},
   "outputs": [],
   "source": [
    "experiments = get_experimets(dataset_name)"
   ]
  },
  {
   "cell_type": "code",
   "execution_count": 10,
   "id": "a7c533f6-66a6-4d47-9a2f-d75b29eb2960",
   "metadata": {},
   "outputs": [
    {
     "data": {
      "text/plain": [
       "[{'dataset_name': 'OWL2DL-1',\n",
       "  'file_name': 'OWL2DL-1_noisy_disjoint_1.0',\n",
       "  'format_': None,\n",
       "  'add_noise': True}]"
      ]
     },
     "execution_count": 10,
     "metadata": {},
     "output_type": "execute_result"
    }
   ],
   "source": [
    "experiments[-1:]"
   ]
  },
  {
   "cell_type": "code",
   "execution_count": 11,
   "id": "c99d63b9-4d04-4930-a6a3-4f3553f4f586",
   "metadata": {},
   "outputs": [
    {
     "name": "stderr",
     "output_type": "stream",
     "text": [
      "INFO:src.graph_model:Generating Graph datasets/bin/owl2vec/OWL2DL-1/OWL2DL-1_noisy_disjoint_1.0_train.edgelist...\n",
      "INFO:src.graph_model:Loaded train graph with 194213 edges\n",
      "INFO:src.graph_model:Generating Graph datasets/bin/owl2vec/OWL2DL-1/OWL2DL-1_noisy_disjoint_1.0_val_subsumption.edgelist...\n",
      "INFO:src.graph_model:Loaded valid_subsumption graph with 32 edges\n",
      "INFO:src.graph_model:Generating Graph datasets/bin/owl2vec/OWL2DL-1/OWL2DL-1_noisy_disjoint_1.0_val_membership.edgelist...\n",
      "INFO:src.graph_model:Loaded valid_membership graph with 745 edges\n",
      "INFO:src.graph_model:Generating Graph datasets/bin/owl2vec/OWL2DL-1/OWL2DL-1_noisy_disjoint_1.0_test_subsumption.edgelist...\n",
      "INFO:src.graph_model:Loaded test_subsumption graph with 24 edges\n",
      "INFO:src.graph_model:Generating Graph datasets/bin/owl2vec/OWL2DL-1/OWL2DL-1_noisy_disjoint_1.0_test_membership.edgelist...\n",
      "INFO:src.graph_model:Loaded test_membership graph with 7683 edges\n",
      "INFO:src.graph_model:Generating Classes...\n",
      "INFO:src.graph_model:Generating Individuals...\n",
      "INFO:src.graph_model:Number of graph nodes: 30014\n",
      "INFO:src.graph_model:Number of graph relations: 90\n"
     ]
    },
    {
     "name": "stdout",
     "output_type": "stream",
     "text": [
      "Epoch: 0, Training loss: 0.745, Validation mean ranks: sub-108.906, mem-115.086, avg-111.996\n",
      "Epoch: 25, Training loss: 0.673, Validation mean ranks: sub-76.875, mem-44.165, avg-60.520\n",
      "Epoch: 50, Training loss: 0.611, Validation mean ranks: sub-57.844, mem-39.298, avg-48.571\n",
      "Epoch: 75, Training loss: 0.553, Validation mean ranks: sub-43.438, mem-38.683, avg-41.060\n",
      "Epoch: 100, Training loss: 0.496, Validation mean ranks: sub-31.531, mem-38.740, avg-35.135\n",
      "Epoch: 125, Training loss: 0.442, Validation mean ranks: sub-22.812, mem-39.021, avg-30.917\n",
      "Epoch: 150, Training loss: 0.396, Validation mean ranks: sub-19.469, mem-39.464, avg-29.467\n",
      "Epoch: 175, Training loss: 0.356, Validation mean ranks: sub-17.750, mem-40.020, avg-28.885\n"
     ]
    },
    {
     "name": "stderr",
     "output_type": "stream",
     "text": [
      "INFO:src.graph_model:Saved class data to datasets/bin/owl2vec/OWL2DL-1/OWL2DL-1_noisy_disjoint_1.0_class_embeddings.pkl\n",
      "INFO:src.graph_model:Saved individual data to datasets/bin/owl2vec/OWL2DL-1/OWL2DL-1_noisy_disjoint_1.0_individual_embeddings.pkl\n",
      "INFO:src.graph_model:Saved role data to datasets/bin/owl2vec/OWL2DL-1/OWL2DL-1_noisy_disjoint_1.0_role_embeddings.pkl\n",
      "INFO:src.graph_model:Saved triples factory to datasets/bin/owl2vec/OWL2DL-1/OWL2DL-1_noisy_disjoint_1.0_triples_factory.pkl\n",
      "INFO:src.graph_model:Testing ontology completion...\n",
      "INFO:src.graph_model:Getting predictions and labels\n"
     ]
    },
    {
     "name": "stdout",
     "output_type": "stream",
     "text": [
      "Early stopping\n",
      "OWL2DL-1_noisy_disjoint_1.0:\n"
     ]
    },
    {
     "name": "stderr",
     "output_type": "stream",
     "text": [
      "INFO:src.graph_model:Subsumption filtering triples: 105\n",
      "INFO:src.graph_model:Membership filtering triples: 161900\n",
      "INFO:src.graph_model:Loading best model from models/owl2vec_OWL2DL-1_noisy_disjoint_1.0.model.pt\n"
     ]
    },
    {
     "name": "stdout",
     "output_type": "stream",
     "text": [
      "Membership:\n"
     ]
    },
    {
     "name": "stderr",
     "output_type": "stream",
     "text": [
      "INFO:src.graph_model:Loading best model from models/owl2vec_OWL2DL-1_noisy_disjoint_1.0.model.pt\n"
     ]
    },
    {
     "name": "stdout",
     "output_type": "stream",
     "text": [
      "MRR: 0.036, Mean Rank: 122.152, Median Rank: 72.000, Hits@1: 0.007, Hits@3: 0.020, Hits@10: 0.074, Hits@100: 0.526\n",
      "Subsumption:\n",
      "MRR: 0.033, Mean Rank: 59.000, Median Rank: 53.500, Hits@1: 0.000, Hits@3: 0.000, Hits@10: 0.125, Hits@100: 0.917\n",
      "\n"
     ]
    }
   ],
   "source": [
    "for experiment in experiments[-1:]: \n",
    "    dataset_name = experiment['dataset_name']\n",
    "    file_name = experiment['file_name']\n",
    "    format_ = experiment['format_']\n",
    "    add_noise = experiment['add_noise']\n",
    "          \n",
    "    model = OWL2Vec(file_name         = file_name,\n",
    "                    dataset_name      = dataset_name,\n",
    "                    kge_model         = 'transe',\n",
    "                    emb_dim           = 256,\n",
    "                    margin            = 0.1,\n",
    "                    weight_decay      = 0.0,\n",
    "                    batch_size        = 4096*8,\n",
    "                    lr                = 0.0001,\n",
    "                    num_negs          = 4,\n",
    "                    test_batch_size   = 32,\n",
    "                    epochs            = 500,\n",
    "                    device            = device,\n",
    "                    seed              = 42,\n",
    "                    initial_tolerance = 5)\n",
    "\n",
    "    model.train()\n",
    "    \n",
    "    print(f'{file_name}:')\n",
    "    subsumption_metrics, membership_metrics = model.test()\n",
    "    print()"
   ]
  }
 ],
 "metadata": {
  "kernelspec": {
   "display_name": "Python 3 (ipykernel)",
   "language": "python",
   "name": "python3"
  },
  "language_info": {
   "codemirror_mode": {
    "name": "ipython",
    "version": 3
   },
   "file_extension": ".py",
   "mimetype": "text/x-python",
   "name": "python",
   "nbconvert_exporter": "python",
   "pygments_lexer": "ipython3",
   "version": "3.8.16"
  }
 },
 "nbformat": 4,
 "nbformat_minor": 5
}
