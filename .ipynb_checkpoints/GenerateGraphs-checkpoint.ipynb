{
 "cells": [
  {
   "cell_type": "code",
   "execution_count": 33,
   "id": "65bdddd3-49f5-40be-8916-8961e4a7e815",
   "metadata": {},
   "outputs": [],
   "source": [
    "import rdflib\n",
    "from rdflib import URIRef, RDF, OWL, RDFS\n",
    "from owlready2 import *\n",
    "from sklearn.model_selection import train_test_split\n",
    "from src.utils import *"
   ]
  },
  {
   "cell_type": "code",
   "execution_count": 8,
   "id": "c8452258-ec84-4f4c-9ae6-5fe10dd11e0c",
   "metadata": {},
   "outputs": [],
   "source": [
    "dataset_name = 'OWL2DL-1'"
   ]
  },
  {
   "cell_type": "markdown",
   "id": "dd705f4e-fcc0-4b91-a023-b3281ea2f68f",
   "metadata": {},
   "source": [
    "**Step 1: Load ontology**"
   ]
  },
  {
   "cell_type": "code",
   "execution_count": 9,
   "id": "7a346887-866c-452b-bc0f-ee29aede2d96",
   "metadata": {},
   "outputs": [],
   "source": [
    "ontology = get_ontology(f'datasets/{dataset_name}.owl').load()"
   ]
  },
  {
   "cell_type": "code",
   "execution_count": 10,
   "id": "1b9a5642-bc9f-4897-bf9b-87c9ab8dd7f9",
   "metadata": {},
   "outputs": [
    {
     "name": "stdout",
     "output_type": "stream",
     "text": [
      "# Triples: 55215\n"
     ]
    }
   ],
   "source": [
    "g = rdflib.Graph()\n",
    "g.parse(f'datasets/{dataset_name}.owl') \n",
    "print(f'# Triples: {len(g)}')"
   ]
  },
  {
   "cell_type": "code",
   "execution_count": 11,
   "id": "bd3edbf3-824c-4e0b-8cb0-5a3050f60f06",
   "metadata": {},
   "outputs": [
    {
     "name": "stdout",
     "output_type": "stream",
     "text": [
      "# Triples: 1135\n"
     ]
    }
   ],
   "source": [
    "g_tbox = rdflib.Graph()\n",
    "g_tbox.parse(f'datasets/{dataset_name}_TBOX.owl')  \n",
    "print(f'# Triples: {len(g_tbox)}')"
   ]
  },
  {
   "cell_type": "markdown",
   "id": "9d294a02-c7bc-40de-8a44-5cd92ac6bc64",
   "metadata": {},
   "source": [
    "**Step 2: Get all subject-resources (individuals)**"
   ]
  },
  {
   "cell_type": "code",
   "execution_count": 26,
   "id": "9b9b8b2f-f7c2-403e-bfb2-bc4b1c502d15",
   "metadata": {},
   "outputs": [
    {
     "name": "stdout",
     "output_type": "stream",
     "text": [
      "# Subject-Resources: 3668\n"
     ]
    }
   ],
   "source": [
    "subject_resources = list(ontology.individuals())\n",
    "print(f'# Subject-Resources: {len(subject_resources)}')"
   ]
  },
  {
   "cell_type": "markdown",
   "id": "05b0f5d6-02a1-4a47-b124-218bc75cc41c",
   "metadata": {},
   "source": [
    "**Step 3: Generate g = description graph for each r**"
   ]
  },
  {
   "cell_type": "code",
   "execution_count": 29,
   "id": "cda91ad4-7f55-4b0d-911e-4fab26dccf29",
   "metadata": {},
   "outputs": [],
   "source": [
    "for i, subject in enumerate(subject_resources):\n",
    "    describe_graph = copy_graph(g_tbox)\n",
    "    for triple in g.triples((None, None, URIRef(subject.iri))):\n",
    "        describe_graph.add(triple) \n",
    "    for triple in g.triples((URIRef(subject.iri), None, None)):\n",
    "        describe_graph.add(triple) \n",
    "    describe_graph.serialize(destination= f'MyJenaProject/input/{subject.name}.owl', format=\"xml\")"
   ]
  }
 ],
 "metadata": {
  "kernelspec": {
   "display_name": "Python 3 (ipykernel)",
   "language": "python",
   "name": "python3"
  },
  "language_info": {
   "codemirror_mode": {
    "name": "ipython",
    "version": 3
   },
   "file_extension": ".py",
   "mimetype": "text/x-python",
   "name": "python",
   "nbconvert_exporter": "python",
   "pygments_lexer": "ipython3",
   "version": "3.8.16"
  }
 },
 "nbformat": 4,
 "nbformat_minor": 5
}
