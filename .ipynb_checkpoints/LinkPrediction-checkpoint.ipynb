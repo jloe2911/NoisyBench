{
 "cells": [
  {
   "cell_type": "code",
   "execution_count": 1,
   "id": "761fa5f2-c0ad-4fea-84bc-6ecbcf759d04",
   "metadata": {},
   "outputs": [],
   "source": [
    "import pandas as pd\n",
    "import numpy as np\n",
    "import time\n",
    "import torch\n",
    "from torch_geometric.data import HeteroData\n",
    "from torch_geometric.utils import negative_sampling\n",
    "from torch_geometric.nn import GATConv, Linear, to_hetero\n",
    "import rdflib\n",
    "from rdflib import URIRef\n",
    "from sklearn.metrics import precision_score, recall_score, f1_score\n",
    "\n",
    "from src.utils import *\n",
    "from src.gnn import *\n",
    "from src.sparql_queries import *"
   ]
  },
  {
   "cell_type": "markdown",
   "id": "87df7d31-b741-44b4-a997-e17df3218285",
   "metadata": {},
   "source": [
    "# 1. Data"
   ]
  },
  {
   "cell_type": "code",
   "execution_count": 2,
   "id": "182adee3-c4ac-4a76-9897-5b17c7f42b5f",
   "metadata": {},
   "outputs": [
    {
     "name": "stdout",
     "output_type": "stream",
     "text": [
      "Triplets found: 5017\n"
     ]
    }
   ],
   "source": [
    "g = rdflib.Graph()\n",
    "g.parse('datasets/family.owl')\n",
    "\n",
    "print(f'Triplets found: %d' % len(g))"
   ]
  },
  {
   "cell_type": "code",
   "execution_count": 3,
   "id": "c27b0c3a-2379-4ce2-8c29-f75430d64d40",
   "metadata": {},
   "outputs": [],
   "source": [
    "relations = list(set(g.predicates()))\n",
    "nodes = list(set(g.subjects()).union(set(g.objects())))\n",
    "\n",
    "relations_dict = {rel: i for i, rel in enumerate(relations)}\n",
    "nodes_dict = {node: i for i, node in enumerate(nodes)}\n",
    "nodes_dict_rev = {value: key for key, value in nodes_dict.items()}"
   ]
  },
  {
   "cell_type": "code",
   "execution_count": 4,
   "id": "f51d2d9a-ca9a-49bc-a6ce-de64cb017415",
   "metadata": {},
   "outputs": [],
   "source": [
    "data = get_data(g, nodes, nodes_dict, relations_dict)"
   ]
  },
  {
   "cell_type": "code",
   "execution_count": 5,
   "id": "eb590219-de17-4421-8d2c-0a2c807628ad",
   "metadata": {},
   "outputs": [],
   "source": [
    "data = split_edges(data)"
   ]
  },
  {
   "cell_type": "code",
   "execution_count": 6,
   "id": "9c9a71d9-df0a-4987-a2ad-eded19f4b5bd",
   "metadata": {},
   "outputs": [
    {
     "data": {
      "text/plain": [
       "HeteroData(\n",
       "  edge_index=[2, 5017],\n",
       "  edge_type=[5017],\n",
       "  node_type=[1909, 1909],\n",
       "  val_pos_edge_index=[2, 0],\n",
       "  test_pos_edge_index=[2, 247],\n",
       "  train_pos_edge_index=[2, 2228]\n",
       ")"
      ]
     },
     "execution_count": 6,
     "metadata": {},
     "output_type": "execute_result"
    }
   ],
   "source": [
    "data"
   ]
  },
  {
   "cell_type": "markdown",
   "id": "fbd34f1e-e8ed-41cb-ade2-598e51112aba",
   "metadata": {},
   "source": [
    "# 2. GNN"
   ]
  },
  {
   "cell_type": "code",
   "execution_count": 7,
   "id": "bbba4648-e3a6-4733-adcb-aab8fdcfd878",
   "metadata": {},
   "outputs": [],
   "source": [
    "GNN_variant = 'GAT'"
   ]
  },
  {
   "cell_type": "markdown",
   "id": "b4c27ccc-782b-4e6f-813f-10a72e01f989",
   "metadata": {},
   "source": [
    "**Train**"
   ]
  },
  {
   "cell_type": "code",
   "execution_count": 8,
   "id": "fcce8226-4aaf-4f3f-9c67-2b94af06d6af",
   "metadata": {},
   "outputs": [
    {
     "name": "stdout",
     "output_type": "stream",
     "text": [
      "GAT:\n",
      "Epoch: 0, Loss: 0.3927\n",
      "Epoch: 300, Loss: 0.1706\n",
      "Run time: 11 seconds, 0 minutes\n"
     ]
    }
   ],
   "source": [
    "print(f'{GNN_variant}:')\n",
    "st = time.time()\n",
    "model = GNN()\n",
    "model._train(GNN_variant, data, nodes, 0.5)\n",
    "torch.save(model, f'models/{GNN_variant}')\n",
    "et = time.time()\n",
    "elapsed_time = et - st\n",
    "print(f'Run time: {elapsed_time:.0f} seconds, {elapsed_time/60:.0f} minutes')"
   ]
  },
  {
   "cell_type": "markdown",
   "id": "e3695fb2-fc34-4c40-acec-10cf70f9a7e9",
   "metadata": {},
   "source": [
    "**Eval**"
   ]
  },
  {
   "cell_type": "code",
   "execution_count": 9,
   "id": "20014487-6ed1-4f63-b1c8-a98a1ee57497",
   "metadata": {},
   "outputs": [
    {
     "name": "stdout",
     "output_type": "stream",
     "text": [
      "GAT:\n",
      "hits@1: 0.146, hits@10: 0.826\n"
     ]
    }
   ],
   "source": [
    "print(f'{GNN_variant}:')\n",
    "model = torch.load(f'models/{GNN_variant}')\n",
    "model._eval(GNN_variant, data, 0.5)"
   ]
  },
  {
   "cell_type": "markdown",
   "id": "e038ffe5-3423-49df-bd62-f69964b062d4",
   "metadata": {},
   "source": [
    "# 3. Generate New Links"
   ]
  },
  {
   "cell_type": "markdown",
   "id": "2fae62b8-d00d-4593-b777-cbc253abf2e0",
   "metadata": {},
   "source": [
    "### GNN"
   ]
  },
  {
   "cell_type": "code",
   "execution_count": 10,
   "id": "9ce680e1-f57c-4f90-880e-e38ae6d741c4",
   "metadata": {},
   "outputs": [],
   "source": [
    "output = model.model(model.node_embeds, data.edge_index)"
   ]
  },
  {
   "cell_type": "code",
   "execution_count": 11,
   "id": "ba7256f9-5731-4299-8714-6069f84b2611",
   "metadata": {},
   "outputs": [],
   "source": [
    "link_pred_scores = torch.matmul(output, output.T)\n",
    "output_norm = torch.norm(output, dim=1, keepdim=True)\n",
    "link_pred_scores_norm = link_pred_scores / (output_norm * output_norm.T)"
   ]
  },
  {
   "cell_type": "code",
   "execution_count": 12,
   "id": "6fe1aa5f-07e3-48bc-8cf4-ae63da042630",
   "metadata": {},
   "outputs": [],
   "source": [
    "def add_triples_gnn(nodes_dict_rev, link_pred_scores_norm, g, k):\n",
    "    _, topk_indices = torch.topk(link_pred_scores_norm.flatten(), k, largest=False)\n",
    "    row_indices = topk_indices // link_pred_scores_norm.size(1)\n",
    "    col_indices = topk_indices % link_pred_scores_norm.size(1)\n",
    "    \n",
    "    node1_lst = [nodes_dict_rev[key] for key in row_indices.tolist()]\n",
    "    node2_lst = [nodes_dict_rev[key] for key in col_indices.tolist()]\n",
    "    \n",
    "    new_g = copy_graph(g)\n",
    "    \n",
    "    for node1, node2 in zip(node1_lst,node2_lst):\n",
    "        hasFather = URIRef('http://www.co-ode.org/roberts/family-tree.owl#hasFather') \n",
    "        new_g.add((node1,hasFather,node2))\n",
    "        new_g.add((node2,hasFather,node1))\n",
    "        \n",
    "        hasMother = URIRef('http://www.co-ode.org/roberts/family-tree.owl#hasMother') \n",
    "        new_g.add((node1,hasMother,node2))\n",
    "        new_g.add((node2,hasMother,node1))\n",
    "        \n",
    "    return new_g"
   ]
  },
  {
   "cell_type": "code",
   "execution_count": 13,
   "id": "36db4ba1-6081-44b2-ba99-bfbdaa58fbd1",
   "metadata": {},
   "outputs": [],
   "source": [
    "new_g = add_triples_gnn(nodes_dict_rev, link_pred_scores_norm, g, k=100)"
   ]
  },
  {
   "cell_type": "code",
   "execution_count": 14,
   "id": "7ecb33c6-6bba-4722-b9ae-95638bc0eaa8",
   "metadata": {},
   "outputs": [],
   "source": [
    "query1, query2 = get_queries()"
   ]
  },
  {
   "cell_type": "code",
   "execution_count": 15,
   "id": "80eb5edc-aada-4cec-b599-8af2db4bc0ad",
   "metadata": {},
   "outputs": [
    {
     "name": "stdout",
     "output_type": "stream",
     "text": [
      "0\n",
      "0\n"
     ]
    }
   ],
   "source": [
    "for q in [query1,query2]:\n",
    "    print_result(g, q)"
   ]
  },
  {
   "cell_type": "code",
   "execution_count": 16,
   "id": "2166ceba-c739-4f70-9e66-8ac812704b94",
   "metadata": {},
   "outputs": [
    {
     "name": "stdout",
     "output_type": "stream",
     "text": [
      "100\n",
      "100\n"
     ]
    }
   ],
   "source": [
    "for q in [query1,query2]:\n",
    "    print_result(new_g, q)"
   ]
  },
  {
   "cell_type": "code",
   "execution_count": null,
   "id": "a3434110-f483-436c-b357-a512c5ea1168",
   "metadata": {},
   "outputs": [],
   "source": []
  },
  {
   "cell_type": "code",
   "execution_count": null,
   "id": "4e67f329-cef1-4bd9-a63c-1a9c5979d53e",
   "metadata": {},
   "outputs": [],
   "source": [
    "# must be heterogeneous !"
   ]
  },
  {
   "cell_type": "code",
   "execution_count": null,
   "id": "b7762fba-c109-4ab8-b6f5-64a94a2e8c7b",
   "metadata": {},
   "outputs": [],
   "source": []
  },
  {
   "cell_type": "code",
   "execution_count": null,
   "id": "5d2a8d13-27c1-4882-baad-5f5bda79968a",
   "metadata": {},
   "outputs": [],
   "source": []
  }
 ],
 "metadata": {
  "kernelspec": {
   "display_name": "Python 3 (ipykernel)",
   "language": "python",
   "name": "python3"
  },
  "language_info": {
   "codemirror_mode": {
    "name": "ipython",
    "version": 3
   },
   "file_extension": ".py",
   "mimetype": "text/x-python",
   "name": "python",
   "nbconvert_exporter": "python",
   "pygments_lexer": "ipython3",
   "version": "3.8.16"
  }
 },
 "nbformat": 4,
 "nbformat_minor": 5
}
