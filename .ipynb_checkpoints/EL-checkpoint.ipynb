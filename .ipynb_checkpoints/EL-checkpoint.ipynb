{
 "cells": [
  {
   "cell_type": "code",
   "execution_count": null,
   "id": "797da083-792e-4f9e-b8cc-89fa1bcac3a3",
   "metadata": {},
   "outputs": [],
   "source": [
    "import numpy as np\n",
    "from tqdm import trange\n",
    "import torch\n",
    "from torch.utils.data import DataLoader\n",
    "import torch.nn.functional as F\n",
    "from torch import nn\n",
    "from tqdm import tqdm\n",
    "\n",
    "import mowl\n",
    "mowl.init_jvm('10g')\n",
    "from mowl.datasets import PathDataset, Dataset\n",
    "from mowl.base_models import EmbeddingELModel\n",
    "from mowl.nn import ELEmModule, ELBoxModule, BoxSquaredELModule\n",
    "from mowl.utils.data import FastTensorDataLoader\n",
    "\n",
    "from src.utils import *\n",
    "from src.elmodule import *"
   ]
  },
  {
   "cell_type": "code",
   "execution_count": null,
   "id": "3ae36031-84e3-49c7-89ec-b4d896cb91ed",
   "metadata": {},
   "outputs": [],
   "source": [
    "device = torch.device('cuda' if torch.cuda.is_available() else 'cpu')\n",
    "device = 'cpu'\n",
    "print(device)"
   ]
  },
  {
   "cell_type": "code",
   "execution_count": null,
   "id": "438a799c-8f61-407d-95ad-660244f7ac86",
   "metadata": {},
   "outputs": [],
   "source": [
    "experiments = [{'file_name' : 'family',\n",
    "                'format_' : None,\n",
    "                'add_noise': False},\n",
    "               {'file_name' : 'family_noisy_gnn_100',\n",
    "                'format_' : None,\n",
    "                'add_noise': True},\n",
    "               {'file_name' : 'family_noisy_gnn_1000',\n",
    "                'format_' : None,\n",
    "                'add_noise': True},\n",
    "               #{'file_name' : 'family_noisy_gnn_10000',\n",
    "               # 'format_' : None,\n",
    "               # 'add_noise': True},\n",
    "               #{'file_name' : 'family_noisy_gnn_100000',\n",
    "               # 'format_' : None,\n",
    "               # 'add_noise': True},\n",
    "               {'file_name' : 'family_noisy_random_100',\n",
    "                'format_' : None,\n",
    "                'add_noise': True},\n",
    "               {'file_name' : 'family_noisy_random_1000',\n",
    "                'format_' : None,\n",
    "                'add_noise': True}#,\n",
    "               #{'file_name' : 'family_noisy_random_10000',\n",
    "               # 'format_' : None,\n",
    "               # 'add_noise': True},\n",
    "               #{'file_name' : 'family_noisy_random_100000',\n",
    "               # 'format_' : None,\n",
    "               # 'add_noise': True}\n",
    "              ]"
   ]
  },
  {
   "cell_type": "markdown",
   "id": "7704b4b7-6424-47d5-862d-f57c7d8fcc07",
   "metadata": {},
   "source": [
    "**Models**"
   ]
  },
  {
   "cell_type": "code",
   "execution_count": null,
   "id": "0253cfdc-0db7-45ea-83c9-28c00c153aae",
   "metadata": {},
   "outputs": [],
   "source": [
    "elem = ElModel(dataset, \n",
    "               module_name='elem', \n",
    "               dim=200, \n",
    "               margin=0.1, \n",
    "               batch_size=4096*8, \n",
    "               test_batch_size=32, \n",
    "               epochs=500, \n",
    "               learning_rate=0.001,\n",
    "               device=device)\n",
    "elem._train()"
   ]
  },
  {
   "cell_type": "code",
   "execution_count": null,
   "id": "2493edb3-0455-4860-b6ef-183ab3de9983",
   "metadata": {},
   "outputs": [],
   "source": [
    "elbox = ElModel(dataset, \n",
    "                module_name='elbox', \n",
    "                dim=200, \n",
    "                margin=0.1, \n",
    "                batch_size=4096*8, \n",
    "                test_batch_size=32, \n",
    "                epochs=500, \n",
    "                learning_rate=0.001,\n",
    "                device=device)\n",
    "elbox._train()"
   ]
  },
  {
   "cell_type": "markdown",
   "id": "1763f727-deca-43bd-bb2e-730fc0407c4f",
   "metadata": {},
   "source": [
    "**Eval**"
   ]
  },
  {
   "cell_type": "code",
   "execution_count": null,
   "id": "56b41b67-0d81-47da-b08e-d5b376749ec5",
   "metadata": {},
   "outputs": [],
   "source": [
    "elem._eval('subsumption')"
   ]
  },
  {
   "cell_type": "code",
   "execution_count": null,
   "id": "d4685c85-c0de-4726-bc98-960a3fa85628",
   "metadata": {},
   "outputs": [],
   "source": [
    "elem._eval('membership')"
   ]
  },
  {
   "cell_type": "code",
   "execution_count": null,
   "id": "900ea3b4-0623-4445-a6cb-96818790c151",
   "metadata": {},
   "outputs": [],
   "source": [
    "elbox._eval('subsumption')"
   ]
  },
  {
   "cell_type": "code",
   "execution_count": null,
   "id": "180e16f4-c648-4dfd-a9bd-a4499619c22a",
   "metadata": {},
   "outputs": [],
   "source": [
    "elbox._eval('membership')"
   ]
  },
  {
   "cell_type": "markdown",
   "id": "8574fdfb-52aa-409c-a29f-9d744a08bf57",
   "metadata": {},
   "source": [
    "**Experiments: Box2EL**"
   ]
  },
  {
   "cell_type": "code",
   "execution_count": null,
   "id": "4b46002e-f2e8-430a-8fab-a44c412bddd1",
   "metadata": {},
   "outputs": [],
   "source": [
    "for experiment in experiments: \n",
    "    file_name = experiment['file_name']\n",
    "    format_ = experiment['format_']\n",
    "    add_noise = experiment['add_noise']\n",
    "\n",
    "    train_graph, valid_graph, test_graph, test_membership_graph, test_subsumption_graph, test_link_prediction_graph = split_ontology(file_name=file_name, \n",
    "                                                                                                                                     format_=format_, \n",
    "                                                                                                                                     train_ratio=1, \n",
    "                                                                                                                                     add_noise=add_noise)\n",
    "    dataset = PathDataset(ontology_path=f'datasets/bin/{file_name}_train.owl',\n",
    "                          testing_path=f'datasets/bin/{file_name}_test.owl',\n",
    "                          validation_path=f'datasets/bin/{file_name}_val.owl')\n",
    "    \n",
    "    train_ont = preprocess_ontology_el(dataset.ontology)\n",
    "    test_ont = preprocess_ontology_el(dataset.testing)\n",
    "    valid_ont = preprocess_ontology_el(dataset.validation)\n",
    "\n",
    "    dataset = Dataset(train_ont, testing=test_ont, validation=valid_ont)\n",
    "    \n",
    "    box2el = ElModel(dataset, \n",
    "                 module_name='box2el', \n",
    "                 dim=200, \n",
    "                 margin=0.1, \n",
    "                 batch_size=4096*8, \n",
    "                 test_batch_size=32, \n",
    "                 epochs=500, \n",
    "                 learning_rate=0.001,\n",
    "                 device=device)\n",
    "    box2el._train()\n",
    "    \n",
    "    print('Membership:')\n",
    "    box2el._eval('membership')\n",
    "    print('Subsumption:')\n",
    "    box2el._eval('subsumption')\n",
    "    print()"
   ]
  }
 ],
 "metadata": {
  "kernelspec": {
   "display_name": "Python 3 (ipykernel)",
   "language": "python",
   "name": "python3"
  },
  "language_info": {
   "codemirror_mode": {
    "name": "ipython",
    "version": 3
   },
   "file_extension": ".py",
   "mimetype": "text/x-python",
   "name": "python",
   "nbconvert_exporter": "python",
   "pygments_lexer": "ipython3",
   "version": "3.8.16"
  }
 },
 "nbformat": 4,
 "nbformat_minor": 5
}
