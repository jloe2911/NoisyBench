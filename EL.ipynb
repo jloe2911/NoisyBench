{
 "cells": [
  {
   "cell_type": "code",
   "execution_count": 1,
   "id": "797da083-792e-4f9e-b8cc-89fa1bcac3a3",
   "metadata": {},
   "outputs": [],
   "source": [
    "import torch\n",
    "\n",
    "import mowl\n",
    "mowl.init_jvm('10g')\n",
    "from mowl.datasets import PathDataset, Dataset\n",
    "\n",
    "from src.utils import *\n",
    "from src.elmodule import *"
   ]
  },
  {
   "cell_type": "code",
   "execution_count": 2,
   "id": "3ae36031-84e3-49c7-89ec-b4d896cb91ed",
   "metadata": {},
   "outputs": [
    {
     "name": "stdout",
     "output_type": "stream",
     "text": [
      "cpu\n"
     ]
    }
   ],
   "source": [
    "device = torch.device('cuda' if torch.cuda.is_available() else 'cpu')\n",
    "device = 'cpu'\n",
    "print(device)"
   ]
  },
  {
   "cell_type": "code",
   "execution_count": 3,
   "id": "d7fb91c8-8bc6-4d8b-b3b2-dcf43219ad9d",
   "metadata": {},
   "outputs": [],
   "source": [
    "# dataset_name = 'family'\n",
    "# dataset_name = 'pizza'\n",
    "# dataset_name = 'OWL2DL-1'\n",
    "dataset_name = 'lubm_filtered'"
   ]
  },
  {
   "cell_type": "code",
   "execution_count": 5,
   "id": "438a799c-8f61-407d-95ad-660244f7ac86",
   "metadata": {},
   "outputs": [],
   "source": [
    "experiments = get_experimets(dataset_name)"
   ]
  },
  {
   "cell_type": "markdown",
   "id": "7704b4b7-6424-47d5-862d-f57c7d8fcc07",
   "metadata": {},
   "source": [
    "**Models**"
   ]
  },
  {
   "cell_type": "raw",
   "id": "178044dc-b0ab-4fb8-95d3-63b638e08fab",
   "metadata": {},
   "source": [
    "elem = ElModel(dataset, \n",
    "               module_name='elem', \n",
    "               dim=200, \n",
    "               margin=0.1, \n",
    "               batch_size=4096*8, \n",
    "               test_batch_size=32, \n",
    "               epochs=500, \n",
    "               learning_rate=0.001,\n",
    "               device=device)\n",
    "elem._train()"
   ]
  },
  {
   "cell_type": "raw",
   "id": "421d043c-0b5b-4e9c-a5d6-14b0b98ea5e1",
   "metadata": {},
   "source": [
    "elbox = ElModel(dataset, \n",
    "                module_name='elbox', \n",
    "                dim=200, \n",
    "                margin=0.1, \n",
    "                batch_size=4096*8, \n",
    "                test_batch_size=32, \n",
    "                epochs=500, \n",
    "                learning_rate=0.001,\n",
    "                device=device)\n",
    "elbox._train()"
   ]
  },
  {
   "cell_type": "markdown",
   "id": "1763f727-deca-43bd-bb2e-730fc0407c4f",
   "metadata": {},
   "source": [
    "**Eval**"
   ]
  },
  {
   "cell_type": "raw",
   "id": "479cbbb1-ebff-40ea-b79f-bf10bf7045fb",
   "metadata": {},
   "source": [
    "elem._eval('subsumption')"
   ]
  },
  {
   "cell_type": "raw",
   "id": "cdca1698-07a8-4656-a2f1-83f86c2afbce",
   "metadata": {},
   "source": [
    "elem._eval('membership')"
   ]
  },
  {
   "cell_type": "raw",
   "id": "2a46b312-f342-40f2-89c8-02f0cea97296",
   "metadata": {},
   "source": [
    "elbox._eval('subsumption')"
   ]
  },
  {
   "cell_type": "raw",
   "id": "3795128e-a0ca-42f0-a3f9-0a7983667407",
   "metadata": {},
   "source": [
    "elbox._eval('membership')"
   ]
  },
  {
   "cell_type": "markdown",
   "id": "8574fdfb-52aa-409c-a29f-9d744a08bf57",
   "metadata": {},
   "source": [
    "**Experiments: Box2EL**"
   ]
  },
  {
   "cell_type": "code",
   "execution_count": 5,
   "id": "4b46002e-f2e8-430a-8fab-a44c412bddd1",
   "metadata": {},
   "outputs": [],
   "source": [
    "for experiment in experiments: \n",
    "    dataset_name = experiment['dataset_name']\n",
    "    file_name = experiment['file_name']\n",
    "    format_ = experiment['format_']\n",
    "    add_noise = experiment['add_noise']                                                                                                               \n",
    "   \n",
    "    dataset = PathDataset(ontology_path=f'datasets/bin/{file_name}_train.owl', # we add noise to train\n",
    "                          testing_path=f'datasets/bin/{dataset_name}_test.owl',\n",
    "                          validation_path=f'datasets/bin/{dataset_name}_val.owl')\n",
    "    \n",
    "    train_ont = preprocess_ontology_el(dataset.ontology)\n",
    "    test_ont = preprocess_ontology_el(dataset.testing)\n",
    "    valid_ont = preprocess_ontology_el(dataset.validation)\n",
    "\n",
    "    dataset = Dataset(train_ont, testing=test_ont, validation=valid_ont)\n",
    "    \n",
    "    box2el = ElModel(dataset, \n",
    "                     module_name='box2el', \n",
    "                     dim=200, \n",
    "                     margin=0.1, \n",
    "                     batch_size=4096*8, \n",
    "                     test_batch_size=32, \n",
    "                     epochs=500, \n",
    "                     learning_rate=0.001,\n",
    "                     device=device)\n",
    "    \n",
    "    box2el._train()\n",
    "    \n",
    "    print(f'{file_name}:')\n",
    "    print('Membership:')\n",
    "    metrics_membership = box2el._eval('membership')\n",
    "    print('Subsumption:')\n",
    "    metrics_subsumption = box2el._eval('subsumption')\n",
    "    print('Link Prediction:')\n",
    "    metrics_link_prediction = box2el._eval('link_prediction')\n",
    "    print()\n",
    "    save_results(metrics_subsumption, metrics_membership, metrics_link_prediction, f'models/results/box2el/{file_name}.txt')"
   ]
  },
  {
   "cell_type": "code",
   "execution_count": 6,
   "id": "1a9dbcc2",
   "metadata": {},
   "outputs": [],
   "source": [
    "#######################################################"
   ]
  },
  {
   "cell_type": "code",
   "execution_count": null,
   "id": "bc5de8cf",
   "metadata": {},
   "outputs": [],
   "source": [
    "dataset = PathDataset(ontology_path=f'datasets/bin/{dataset_name}_train.owl', \n",
    "                      testing_path=f'datasets/bin/{dataset_name}_test.owl',\n",
    "                      validation_path=f'datasets/bin/{dataset_name}_val.owl')\n",
    "\n",
    "train_ont = preprocess_ontology_el(dataset.ontology)\n",
    "test_ont = preprocess_ontology_el(dataset.testing)\n",
    "valid_ont = preprocess_ontology_el(dataset.validation)\n",
    "\n",
    "dataset = Dataset(train_ont, testing=test_ont, validation=valid_ont)\n",
    "\n",
    "box2el = ElModel(dataset, \n",
    "                 module_name='box2el', \n",
    "                 dim=256, \n",
    "                 margin=0.1, \n",
    "                 batch_size=4096*8, \n",
    "                 test_batch_size=32, \n",
    "                 epochs=500, \n",
    "                 learning_rate=0.0001,\n",
    "                 device=device)"
   ]
  },
  {
   "cell_type": "code",
   "execution_count": null,
   "id": "43318bb4",
   "metadata": {},
   "outputs": [],
   "source": [
    "metrics_link_prediction = box2el._eval('membership')"
   ]
  },
  {
   "cell_type": "code",
   "execution_count": null,
   "id": "467f6ff1",
   "metadata": {},
   "outputs": [],
   "source": [
    "metrics_link_prediction = box2el._eval('subsumption')"
   ]
  },
  {
   "cell_type": "code",
   "execution_count": null,
   "id": "14bb8492",
   "metadata": {},
   "outputs": [],
   "source": [
    "metrics_link_prediction = box2el._eval('link_prediction')"
   ]
  },
  {
   "cell_type": "code",
   "execution_count": null,
   "id": "df368668",
   "metadata": {},
   "outputs": [],
   "source": [
    "box2el._train()"
   ]
  },
  {
   "cell_type": "code",
   "execution_count": null,
   "id": "7ea7dc9e",
   "metadata": {},
   "outputs": [],
   "source": [
    "metrics_link_prediction = box2el._eval('membership')"
   ]
  },
  {
   "cell_type": "code",
   "execution_count": null,
   "id": "f9c1d2af",
   "metadata": {},
   "outputs": [],
   "source": [
    "metrics_link_prediction = box2el._eval('link_prediction')"
   ]
  },
  {
   "cell_type": "code",
   "execution_count": null,
   "id": "2aeae76d",
   "metadata": {},
   "outputs": [],
   "source": [
    "metrics_link_prediction = box2el._eval('subsumption')"
   ]
  },
  {
   "cell_type": "code",
   "execution_count": 14,
   "id": "cf47ee06",
   "metadata": {},
   "outputs": [],
   "source": [
    "#######################################################"
   ]
  },
  {
   "cell_type": "code",
   "execution_count": 6,
   "id": "01e39c41",
   "metadata": {},
   "outputs": [],
   "source": [
    "dataset = PathDataset(ontology_path=f'datasets/graphs_with_descriptions/HTTP_www.Department0.University0.edu_AssistantProfessor0_Publication0.nt', \n",
    "                      testing_path=f'datasets/jena_inference_with_descriptions/HTTP_www.Department0.University0.edu_AssistantProfessor0_Publication0.nt')\n",
    "\n",
    "\n",
    "train_ont = preprocess_ontology_el(dataset.ontology)\n",
    "test_ont = preprocess_ontology_el(dataset.testing)\n",
    "\n",
    "dataset = Dataset(train_ont, testing=test_ont)\n",
    "\n",
    "box2el = ElModel(dataset, \n",
    "                 module_name='box2el', \n",
    "                 dim=256, \n",
    "                 margin=0.1, \n",
    "                 batch_size=4096*8, \n",
    "                 test_batch_size=32, \n",
    "                 epochs=500, \n",
    "                 learning_rate=0.0001,\n",
    "                 device=device)"
   ]
  },
  {
   "cell_type": "code",
   "execution_count": 7,
   "id": "12aa282e",
   "metadata": {},
   "outputs": [
    {
     "name": "stdout",
     "output_type": "stream",
     "text": [
      "MRR: 0.595, Hits@1: 0.286, Hits@5: 1.000, Hits@10: 1.000\n"
     ]
    }
   ],
   "source": [
    "metrics_link_prediction = box2el._eval('membership')"
   ]
  },
  {
   "cell_type": "code",
   "execution_count": 8,
   "id": "cc8cd502",
   "metadata": {},
   "outputs": [
    {
     "ename": "ZeroDivisionError",
     "evalue": "division by zero",
     "output_type": "error",
     "traceback": [
      "\u001b[1;31m---------------------------------------------------------------------------\u001b[0m",
      "\u001b[1;31mZeroDivisionError\u001b[0m                         Traceback (most recent call last)",
      "\u001b[1;32m~\\AppData\\Local\\Temp\\ipykernel_7492\\275607710.py\u001b[0m in \u001b[0;36m<module>\u001b[1;34m\u001b[0m\n\u001b[1;32m----> 1\u001b[1;33m \u001b[0mmetrics_link_prediction\u001b[0m \u001b[1;33m=\u001b[0m \u001b[0mbox2el\u001b[0m\u001b[1;33m.\u001b[0m\u001b[0m_eval\u001b[0m\u001b[1;33m(\u001b[0m\u001b[1;34m'link_prediction'\u001b[0m\u001b[1;33m)\u001b[0m\u001b[1;33m\u001b[0m\u001b[1;33m\u001b[0m\u001b[0m\n\u001b[0m",
      "\u001b[1;32mc:\\Users\\julie\\github\\PhD\\NoisyBench\\src\\elmodule.py\u001b[0m in \u001b[0;36m_eval\u001b[1;34m(self, mode)\u001b[0m\n\u001b[0;32m    280\u001b[0m                         \u001b[0mhits_at_10\u001b[0m \u001b[1;33m+=\u001b[0m \u001b[1;36m1\u001b[0m\u001b[1;33m\u001b[0m\u001b[1;33m\u001b[0m\u001b[0m\n\u001b[0;32m    281\u001b[0m \u001b[1;33m\u001b[0m\u001b[0m\n\u001b[1;32m--> 282\u001b[1;33m             \u001b[0mmrr\u001b[0m \u001b[1;33m/=\u001b[0m \u001b[0meval_dl\u001b[0m\u001b[1;33m.\u001b[0m\u001b[0mdataset_len\u001b[0m\u001b[1;33m\u001b[0m\u001b[1;33m\u001b[0m\u001b[0m\n\u001b[0m\u001b[0;32m    283\u001b[0m             \u001b[0mhits_at_1\u001b[0m \u001b[1;33m/=\u001b[0m \u001b[0meval_dl\u001b[0m\u001b[1;33m.\u001b[0m\u001b[0mdataset_len\u001b[0m\u001b[1;33m\u001b[0m\u001b[1;33m\u001b[0m\u001b[0m\n\u001b[0;32m    284\u001b[0m             \u001b[0mhits_at_5\u001b[0m \u001b[1;33m/=\u001b[0m \u001b[0meval_dl\u001b[0m\u001b[1;33m.\u001b[0m\u001b[0mdataset_len\u001b[0m\u001b[1;33m\u001b[0m\u001b[1;33m\u001b[0m\u001b[0m\n",
      "\u001b[1;31mZeroDivisionError\u001b[0m: division by zero"
     ]
    }
   ],
   "source": [
    "metrics_link_prediction = box2el._eval('link_prediction')"
   ]
  },
  {
   "cell_type": "code",
   "execution_count": 21,
   "id": "333c426c",
   "metadata": {},
   "outputs": [],
   "source": [
    "dataset = PathDataset(ontology_path=f'MyJenaProject/input_toy_example/U0WC0D2AP3_without_tbox.ttl', \n",
    "                      testing_path=f'MyJenaProject/output_toy_example/U0WC0D2AP3_filtered_inferred.ttl')\n",
    "\n",
    "\n",
    "train_ont = preprocess_ontology_el(dataset.ontology)\n",
    "test_ont = preprocess_ontology_el(dataset.testing)\n",
    "\n",
    "dataset = Dataset(train_ont, testing=test_ont)\n",
    "\n",
    "box2el = ElModel(dataset, \n",
    "                 module_name='box2el', \n",
    "                 dim=256, \n",
    "                 margin=0.1, \n",
    "                 batch_size=4096*8, \n",
    "                 test_batch_size=32, \n",
    "                 epochs=500, \n",
    "                 learning_rate=0.0001,\n",
    "                 device=device)"
   ]
  },
  {
   "cell_type": "code",
   "execution_count": 22,
   "id": "ab2b4693",
   "metadata": {},
   "outputs": [
    {
     "name": "stdout",
     "output_type": "stream",
     "text": [
      "MRR: 0.560, Hits@1: 0.310, Hits@5: 1.000, Hits@10: 1.000\n"
     ]
    }
   ],
   "source": [
    "metrics_link_prediction = box2el._eval('membership') # Observation 2: membership performs better if TBox is not included in training set"
   ]
  },
  {
   "cell_type": "code",
   "execution_count": null,
   "id": "6b2b408d",
   "metadata": {},
   "outputs": [],
   "source": []
  },
  {
   "cell_type": "code",
   "execution_count": null,
   "id": "7e35ee34",
   "metadata": {},
   "outputs": [],
   "source": []
  },
  {
   "cell_type": "code",
   "execution_count": null,
   "id": "189b4b6f",
   "metadata": {},
   "outputs": [],
   "source": []
  },
  {
   "cell_type": "code",
   "execution_count": null,
   "id": "53e49769",
   "metadata": {},
   "outputs": [],
   "source": []
  },
  {
   "cell_type": "code",
   "execution_count": null,
   "id": "474d5e85",
   "metadata": {},
   "outputs": [],
   "source": []
  },
  {
   "cell_type": "code",
   "execution_count": null,
   "id": "c6382715",
   "metadata": {},
   "outputs": [],
   "source": []
  },
  {
   "cell_type": "code",
   "execution_count": 10,
   "id": "6fc936c2",
   "metadata": {},
   "outputs": [
    {
     "name": "stderr",
     "output_type": "stream",
     "text": [
      "INFO:root:Reverse translation. Ignoring axiom: RangeAxiom*(161 94)\n",
      "INFO:root:'uk.ac.manchester.cs.owl.owlapi.OWLObjectPropertyRa' object has no attribute 'getSubClass'\n",
      "INFO:root:Reverse translation. Ignoring axiom: RangeAxiom*(162 95)\n",
      "INFO:root:'uk.ac.manchester.cs.owl.owlapi.OWLObjectPropertyRa' object has no attribute 'getSubClass'\n",
      "INFO:root:Reverse translation. Ignoring axiom: RangeAxiom*(137 96)\n",
      "INFO:root:'uk.ac.manchester.cs.owl.owlapi.OWLObjectPropertyRa' object has no attribute 'getSubClass'\n",
      "INFO:root:Reverse translation. Ignoring axiom: RangeAxiom*(172 128)\n",
      "INFO:root:'uk.ac.manchester.cs.owl.owlapi.OWLObjectPropertyRa' object has no attribute 'getSubClass'\n",
      "INFO:root:Reverse translation. Ignoring axiom: FunctionalObjectProperty*(53)\n",
      "INFO:root:de.tudresden.inf.lat.jcel.owlapi.translator.TranslationException: The translation map is incomplete. Item id was not found: '53'.\n",
      "INFO:root:Reverse translation. Ignoring axiom: RangeAxiom*(163 96)\n",
      "INFO:root:'uk.ac.manchester.cs.owl.owlapi.OWLObjectPropertyRa' object has no attribute 'getSubClass'\n",
      "INFO:root:Reverse translation. Ignoring axiom: RangeAxiom*(148 130)\n",
      "INFO:root:'uk.ac.manchester.cs.owl.owlapi.OWLObjectPropertyRa' object has no attribute 'getSubClass'\n",
      "INFO:root:Reverse translation. Ignoring axiom: RangeAxiom*(150 130)\n",
      "INFO:root:'uk.ac.manchester.cs.owl.owlapi.OWLObjectPropertyRa' object has no attribute 'getSubClass'\n",
      "INFO:root:Reverse translation. Ignoring axiom: RangeAxiom*(155 130)\n",
      "INFO:root:'uk.ac.manchester.cs.owl.owlapi.OWLObjectPropertyRa' object has no attribute 'getSubClass'\n",
      "INFO:root:Reverse translation. Ignoring axiom: RangeAxiom*(190 30)\n",
      "INFO:root:'uk.ac.manchester.cs.owl.owlapi.OWLObjectPropertyRa' object has no attribute 'getSubClass'\n",
      "INFO:root:Reverse translation. Ignoring axiom: RangeAxiom*(193 30)\n",
      "INFO:root:'uk.ac.manchester.cs.owl.owlapi.OWLObjectPropertyRa' object has no attribute 'getSubClass'\n",
      "INFO:root:Reverse translation. Ignoring axiom: RangeAxiom*(196 30)\n",
      "INFO:root:'uk.ac.manchester.cs.owl.owlapi.OWLObjectPropertyRa' object has no attribute 'getSubClass'\n",
      "INFO:root:Reverse translation. Ignoring axiom: RangeAxiom*(197 30)\n",
      "INFO:root:'uk.ac.manchester.cs.owl.owlapi.OWLObjectPropertyRa' object has no attribute 'getSubClass'\n",
      "INFO:root:Reverse translation. Ignoring axiom: RangeAxiom*(173 130)\n",
      "INFO:root:'uk.ac.manchester.cs.owl.owlapi.OWLObjectPropertyRa' object has no attribute 'getSubClass'\n",
      "INFO:root:Reverse translation. Ignoring axiom: RangeAxiom*(178 130)\n",
      "INFO:root:'uk.ac.manchester.cs.owl.owlapi.OWLObjectPropertyRa' object has no attribute 'getSubClass'\n",
      "INFO:root:Reverse translation. Ignoring axiom: RangeAxiom*(186 130)\n",
      "INFO:root:'uk.ac.manchester.cs.owl.owlapi.OWLObjectPropertyRa' object has no attribute 'getSubClass'\n",
      "INFO:root:Reverse translation. Ignoring axiom: FunctionalObjectProperty*(137)\n",
      "INFO:root:'uk.ac.manchester.cs.owl.owlapi.OWLFunctionalObject' object has no attribute 'getSubClass'\n",
      "INFO:root:Reverse translation. Ignoring axiom: RangeAxiom*(138 33)\n",
      "INFO:root:'uk.ac.manchester.cs.owl.owlapi.OWLObjectPropertyRa' object has no attribute 'getSubClass'\n",
      "INFO:root:Reverse translation. Ignoring axiom: FunctionalObjectProperty*(138)\n",
      "INFO:root:'uk.ac.manchester.cs.owl.owlapi.OWLFunctionalObject' object has no attribute 'getSubClass'\n",
      "INFO:root:Reverse translation. Ignoring axiom: RangeAxiom*(149 33)\n",
      "INFO:root:'uk.ac.manchester.cs.owl.owlapi.OWLObjectPropertyRa' object has no attribute 'getSubClass'\n",
      "INFO:root:Reverse translation. Ignoring axiom: RangeAxiom*(174 132)\n",
      "INFO:root:'uk.ac.manchester.cs.owl.owlapi.OWLObjectPropertyRa' object has no attribute 'getSubClass'\n",
      "INFO:root:Reverse translation. Ignoring axiom: RangeAxiom*(194 100)\n",
      "INFO:root:'uk.ac.manchester.cs.owl.owlapi.OWLObjectPropertyRa' object has no attribute 'getSubClass'\n",
      "INFO:root:Reverse translation. Ignoring axiom: RangeAxiom*(175 135)\n",
      "INFO:root:'uk.ac.manchester.cs.owl.owlapi.OWLObjectPropertyRa' object has no attribute 'getSubClass'\n",
      "INFO:root:Reverse translation. Ignoring axiom: RangeAxiom*(164 103)\n",
      "INFO:root:'uk.ac.manchester.cs.owl.owlapi.OWLObjectPropertyRa' object has no attribute 'getSubClass'\n",
      "INFO:root:Reverse translation. Ignoring axiom: RangeAxiom*(165 104)\n",
      "INFO:root:'uk.ac.manchester.cs.owl.owlapi.OWLObjectPropertyRa' object has no attribute 'getSubClass'\n",
      "INFO:root:Reverse translation. Ignoring axiom: RangeAxiom*(166 105)\n",
      "INFO:root:'uk.ac.manchester.cs.owl.owlapi.OWLObjectPropertyRa' object has no attribute 'getSubClass'\n",
      "INFO:root:Reverse translation. Ignoring axiom: RangeAxiom*(151 43)\n",
      "INFO:root:'uk.ac.manchester.cs.owl.owlapi.OWLObjectPropertyRa' object has no attribute 'getSubClass'\n",
      "INFO:root:Reverse translation. Ignoring axiom: RangeAxiom*(140 11)\n",
      "INFO:root:'uk.ac.manchester.cs.owl.owlapi.OWLObjectPropertyRa' object has no attribute 'getSubClass'\n",
      "INFO:root:Reverse translation. Ignoring axiom: RangeAxiom*(189 43)\n",
      "INFO:root:'uk.ac.manchester.cs.owl.owlapi.OWLObjectPropertyRa' object has no attribute 'getSubClass'\n",
      "INFO:root:Reverse translation. Ignoring axiom: RangeAxiom*(141 12)\n",
      "INFO:root:'uk.ac.manchester.cs.owl.owlapi.OWLObjectPropertyRa' object has no attribute 'getSubClass'\n",
      "INFO:root:Reverse translation. Ignoring axiom: RangeAxiom*(152 47)\n",
      "INFO:root:'uk.ac.manchester.cs.owl.owlapi.OWLObjectPropertyRa' object has no attribute 'getSubClass'\n",
      "INFO:root:Reverse translation. Ignoring axiom: RangeAxiom*(159 80)\n",
      "INFO:root:'uk.ac.manchester.cs.owl.owlapi.OWLObjectPropertyRa' object has no attribute 'getSubClass'\n",
      "INFO:root:Reverse translation. Ignoring axiom: RangeAxiom*(169 80)\n",
      "INFO:root:'uk.ac.manchester.cs.owl.owlapi.OWLObjectPropertyRa' object has no attribute 'getSubClass'\n",
      "INFO:root:Reverse translation. Ignoring axiom: RangeAxiom*(177 80)\n",
      "INFO:root:'uk.ac.manchester.cs.owl.owlapi.OWLObjectPropertyRa' object has no attribute 'getSubClass'\n",
      "INFO:root:Reverse translation. Ignoring axiom: RangeAxiom*(180 80)\n",
      "INFO:root:'uk.ac.manchester.cs.owl.owlapi.OWLObjectPropertyRa' object has no attribute 'getSubClass'\n",
      "INFO:root:Reverse translation. Ignoring axiom: RangeAxiom*(182 80)\n",
      "INFO:root:'uk.ac.manchester.cs.owl.owlapi.OWLObjectPropertyRa' object has no attribute 'getSubClass'\n",
      "INFO:root:Reverse translation. Ignoring axiom: RangeAxiom*(184 80)\n",
      "INFO:root:'uk.ac.manchester.cs.owl.owlapi.OWLObjectPropertyRa' object has no attribute 'getSubClass'\n",
      "INFO:root:Reverse translation. Ignoring axiom: RangeAxiom*(185 80)\n",
      "INFO:root:'uk.ac.manchester.cs.owl.owlapi.OWLObjectPropertyRa' object has no attribute 'getSubClass'\n",
      "INFO:root:Reverse translation. Ignoring axiom: RangeAxiom*(187 80)\n",
      "INFO:root:'uk.ac.manchester.cs.owl.owlapi.OWLObjectPropertyRa' object has no attribute 'getSubClass'\n",
      "INFO:root:Reverse translation. Ignoring axiom: RangeAxiom*(157 81)\n",
      "INFO:root:'uk.ac.manchester.cs.owl.owlapi.OWLObjectPropertyRa' object has no attribute 'getSubClass'\n",
      "INFO:root:Reverse translation. Ignoring axiom: RangeAxiom*(188 80)\n",
      "INFO:root:'uk.ac.manchester.cs.owl.owlapi.OWLObjectPropertyRa' object has no attribute 'getSubClass'\n",
      "INFO:root:Reverse translation. Ignoring axiom: RangeAxiom*(199 80)\n",
      "INFO:root:'uk.ac.manchester.cs.owl.owlapi.OWLObjectPropertyRa' object has no attribute 'getSubClass'\n",
      "INFO:root:Reverse translation. Ignoring axiom: RangeAxiom*(158 82)\n",
      "INFO:root:'uk.ac.manchester.cs.owl.owlapi.OWLObjectPropertyRa' object has no attribute 'getSubClass'\n",
      "INFO:root:Reverse translation. Ignoring axiom: RangeAxiom*(168 115)\n",
      "INFO:root:'uk.ac.manchester.cs.owl.owlapi.OWLObjectPropertyRa' object has no attribute 'getSubClass'\n",
      "INFO:root:Reverse translation. Ignoring axiom: RangeAxiom*(170 117)\n",
      "INFO:root:'uk.ac.manchester.cs.owl.owlapi.OWLObjectPropertyRa' object has no attribute 'getSubClass'\n",
      "INFO:root:Reverse translation. Ignoring axiom: RangeAxiom*(171 119)\n",
      "INFO:root:'uk.ac.manchester.cs.owl.owlapi.OWLObjectPropertyRa' object has no attribute 'getSubClass'\n",
      "INFO:root:Reverse translation. Ignoring axiom: RangeAxiom*(139 88)\n",
      "INFO:root:'uk.ac.manchester.cs.owl.owlapi.OWLObjectPropertyRa' object has no attribute 'getSubClass'\n",
      "INFO:root:Reverse translation. Ignoring axiom: RangeAxiom*(142 88)\n",
      "INFO:root:'uk.ac.manchester.cs.owl.owlapi.OWLObjectPropertyRa' object has no attribute 'getSubClass'\n",
      "INFO:root:Reverse translation. Ignoring axiom: RangeAxiom*(144 88)\n",
      "INFO:root:'uk.ac.manchester.cs.owl.owlapi.OWLObjectPropertyRa' object has no attribute 'getSubClass'\n",
      "INFO:root:Reverse translation. Ignoring axiom: RangeAxiom*(147 88)\n",
      "INFO:root:'uk.ac.manchester.cs.owl.owlapi.OWLObjectPropertyRa' object has no attribute 'getSubClass'\n",
      "INFO:root:Reverse translation. Ignoring axiom: RangeAxiom*(156 88)\n",
      "INFO:root:'uk.ac.manchester.cs.owl.owlapi.OWLObjectPropertyRa' object has no attribute 'getSubClass'\n",
      "INFO:root:Reverse translation. Ignoring axiom: RangeAxiom*(167 88)\n",
      "INFO:root:'uk.ac.manchester.cs.owl.owlapi.OWLObjectPropertyRa' object has no attribute 'getSubClass'\n",
      "INFO:root:Reverse translation. Ignoring axiom: RangeAxiom*(143 23)\n",
      "INFO:root:'uk.ac.manchester.cs.owl.owlapi.OWLObjectPropertyRa' object has no attribute 'getSubClass'\n",
      "INFO:root:Reverse translation. Ignoring axiom: RangeAxiom*(176 88)\n",
      "INFO:root:'uk.ac.manchester.cs.owl.owlapi.OWLObjectPropertyRa' object has no attribute 'getSubClass'\n",
      "INFO:root:Reverse translation. Ignoring axiom: RangeAxiom*(160 90)\n",
      "INFO:root:'uk.ac.manchester.cs.owl.owlapi.OWLObjectPropertyRa' object has no attribute 'getSubClass'\n",
      "INFO:root:Reverse translation. Ignoring axiom: RangeAxiom*(145 25)\n",
      "INFO:root:'uk.ac.manchester.cs.owl.owlapi.OWLObjectPropertyRa' object has no attribute 'getSubClass'\n",
      "INFO:root:Reverse translation. Ignoring axiom: RangeAxiom*(146 26)\n",
      "INFO:root:'uk.ac.manchester.cs.owl.owlapi.OWLObjectPropertyRa' object has no attribute 'getSubClass'\n",
      "INFO:root:Reverse translation. Ignoring axiom: RangeAxiom*(181 25)\n",
      "INFO:root:'uk.ac.manchester.cs.owl.owlapi.OWLObjectPropertyRa' object has no attribute 'getSubClass'\n",
      "INFO:root:Reverse translation. Ignoring axiom: RangeAxiom*(153 59)\n",
      "INFO:root:'uk.ac.manchester.cs.owl.owlapi.OWLObjectPropertyRa' object has no attribute 'getSubClass'\n"
     ]
    },
    {
     "ename": "IndexError",
     "evalue": "too many indices for tensor of dimension 1",
     "output_type": "error",
     "traceback": [
      "\u001b[1;31m---------------------------------------------------------------------------\u001b[0m",
      "\u001b[1;31mIndexError\u001b[0m                                Traceback (most recent call last)",
      "\u001b[1;32m~\\AppData\\Local\\Temp\\ipykernel_348\\1765596880.py\u001b[0m in \u001b[0;36m<module>\u001b[1;34m\u001b[0m\n\u001b[1;32m----> 1\u001b[1;33m \u001b[0mmetrics_link_prediction\u001b[0m \u001b[1;33m=\u001b[0m \u001b[0mbox2el\u001b[0m\u001b[1;33m.\u001b[0m\u001b[0m_eval\u001b[0m\u001b[1;33m(\u001b[0m\u001b[1;34m'subsumption'\u001b[0m\u001b[1;33m)\u001b[0m\u001b[1;33m\u001b[0m\u001b[1;33m\u001b[0m\u001b[0m\n\u001b[0m",
      "\u001b[1;32mc:\\Users\\julie\\github\\PhD\\NoisyBench\\src\\elmodule.py\u001b[0m in \u001b[0;36m_eval\u001b[1;34m(self, mode)\u001b[0m\n\u001b[0;32m    235\u001b[0m         \u001b[1;32mif\u001b[0m \u001b[1;34m\"subsumption\"\u001b[0m \u001b[1;32min\u001b[0m \u001b[0mmode\u001b[0m\u001b[1;33m:\u001b[0m\u001b[1;33m\u001b[0m\u001b[1;33m\u001b[0m\u001b[0m\n\u001b[0;32m    236\u001b[0m             \u001b[0mds\u001b[0m \u001b[1;33m=\u001b[0m \u001b[0mself\u001b[0m\u001b[1;33m.\u001b[0m\u001b[0mtesting_datasets\u001b[0m\u001b[1;33m[\u001b[0m\u001b[1;34m\"gci0\"\u001b[0m\u001b[1;33m]\u001b[0m\u001b[1;33m[\u001b[0m\u001b[1;33m:\u001b[0m\u001b[1;33m]\u001b[0m\u001b[1;33m\u001b[0m\u001b[1;33m\u001b[0m\u001b[0m\n\u001b[1;32m--> 237\u001b[1;33m             \u001b[0msub_class\u001b[0m \u001b[1;33m=\u001b[0m \u001b[0mds\u001b[0m\u001b[1;33m[\u001b[0m\u001b[1;33m:\u001b[0m\u001b[1;33m,\u001b[0m \u001b[1;36m0\u001b[0m\u001b[1;33m]\u001b[0m\u001b[1;33m\u001b[0m\u001b[1;33m\u001b[0m\u001b[0m\n\u001b[0m\u001b[0;32m    238\u001b[0m             \u001b[0msuper_class\u001b[0m \u001b[1;33m=\u001b[0m \u001b[0mds\u001b[0m\u001b[1;33m[\u001b[0m\u001b[1;33m:\u001b[0m\u001b[1;33m,\u001b[0m \u001b[1;36m1\u001b[0m\u001b[1;33m]\u001b[0m\u001b[1;33m\u001b[0m\u001b[1;33m\u001b[0m\u001b[0m\n\u001b[0;32m    239\u001b[0m             \u001b[0meval_dl\u001b[0m \u001b[1;33m=\u001b[0m \u001b[0mFastTensorDataLoader\u001b[0m\u001b[1;33m(\u001b[0m\u001b[0msub_class\u001b[0m\u001b[1;33m,\u001b[0m \u001b[0msuper_class\u001b[0m\u001b[1;33m,\u001b[0m \u001b[0mbatch_size\u001b[0m\u001b[1;33m=\u001b[0m\u001b[0mself\u001b[0m\u001b[1;33m.\u001b[0m\u001b[0mtest_batch_size\u001b[0m\u001b[1;33m,\u001b[0m \u001b[0mshuffle\u001b[0m\u001b[1;33m=\u001b[0m\u001b[1;32mFalse\u001b[0m\u001b[1;33m)\u001b[0m\u001b[1;33m\u001b[0m\u001b[1;33m\u001b[0m\u001b[0m\n",
      "\u001b[1;31mIndexError\u001b[0m: too many indices for tensor of dimension 1"
     ]
    }
   ],
   "source": [
    "metrics_link_prediction = box2el._eval('subsumption')"
   ]
  },
  {
   "cell_type": "code",
   "execution_count": 56,
   "id": "8b2ead6d",
   "metadata": {},
   "outputs": [],
   "source": [
    "abox_ds_train = box2el.get_abox_data(\"train\")\n",
    "abox_dl_train = FastTensorDataLoader(*abox_ds_train, batch_size=box2el.batch_size, shuffle=True)"
   ]
  },
  {
   "cell_type": "code",
   "execution_count": 57,
   "id": "c6495198",
   "metadata": {},
   "outputs": [],
   "source": [
    "main_dl = abox_dl_train"
   ]
  },
  {
   "cell_type": "code",
   "execution_count": 58,
   "id": "6f4e3753",
   "metadata": {},
   "outputs": [],
   "source": [
    "for batch_data in main_dl:\n",
    "    ind_idxs, labels, property_labels = batch_data\n",
    "    break"
   ]
  },
  {
   "cell_type": "code",
   "execution_count": 59,
   "id": "cfc18304",
   "metadata": {},
   "outputs": [],
   "source": [
    "module = BoxSquaredELModule(box2el.nb_classes, box2el.nb_roles, embed_dim = box2el.dim)"
   ]
  },
  {
   "cell_type": "code",
   "execution_count": 60,
   "id": "e8a8c963",
   "metadata": {},
   "outputs": [],
   "source": [
    "abox_logits = box2el.module.abox_forward(ind_idxs.to(box2el.device), 'membership')\n",
    "abox_loss = F.binary_cross_entropy_with_logits(abox_logits, labels.to(box2el.device))"
   ]
  },
  {
   "cell_type": "code",
   "execution_count": 61,
   "id": "ae0e5b9d",
   "metadata": {},
   "outputs": [],
   "source": [
    "abox_logits_lp = box2el.module.abox_forward(ind_idxs.to(box2el.device), 'link_prediction')\n",
    "abox_loss_lp = F.binary_cross_entropy_with_logits(abox_logits_lp, property_labels.to(box2el.device))"
   ]
  }
 ],
 "metadata": {
  "kernelspec": {
   "display_name": "base",
   "language": "python",
   "name": "python3"
  },
  "language_info": {
   "codemirror_mode": {
    "name": "ipython",
    "version": 3
   },
   "file_extension": ".py",
   "mimetype": "text/x-python",
   "name": "python",
   "nbconvert_exporter": "python",
   "pygments_lexer": "ipython3",
   "version": "3.8.16"
  }
 },
 "nbformat": 4,
 "nbformat_minor": 5
}
