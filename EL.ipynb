{
 "cells": [
  {
   "cell_type": "code",
   "execution_count": null,
   "id": "797da083-792e-4f9e-b8cc-89fa1bcac3a3",
   "metadata": {},
   "outputs": [],
   "source": [
    "import numpy as np\n",
    "from tqdm import trange\n",
    "import os\n",
    "import torch\n",
    "from torch.utils.data import DataLoader\n",
    "import torch.nn.functional as F\n",
    "from torch import nn\n",
    "from tqdm import tqdm\n",
    "\n",
    "import mowl\n",
    "mowl.init_jvm('10g')\n",
    "from mowl.datasets import PathDataset, Dataset\n",
    "from mowl.base_models import EmbeddingELModel\n",
    "from mowl.nn import ELEmModule, ELBoxModule, BoxSquaredELModule\n",
    "from mowl.utils.data import FastTensorDataLoader\n",
    "\n",
    "from src.utils import *\n",
    "from src.elmodule import *"
   ]
  },
  {
   "cell_type": "code",
   "execution_count": null,
   "id": "3ae36031-84e3-49c7-89ec-b4d896cb91ed",
   "metadata": {},
   "outputs": [],
   "source": [
    "device = torch.device('cuda' if torch.cuda.is_available() else 'cpu')\n",
    "device = 'cpu'\n",
    "print(device)"
   ]
  },
  {
   "cell_type": "code",
   "execution_count": null,
   "id": "d7fb91c8-8bc6-4d8b-b3b2-dcf43219ad9d",
   "metadata": {},
   "outputs": [],
   "source": [
    "#dataset_name = 'family'\n",
    "#dataset_name = 'pizza'\n",
    "#dataset_name = 'OWL2DL-1'\n",
    "dataset_name = 'lubm'"
   ]
  },
  {
   "cell_type": "code",
   "execution_count": null,
   "id": "438a799c-8f61-407d-95ad-660244f7ac86",
   "metadata": {},
   "outputs": [],
   "source": [
    "experiments = get_experimets(dataset_name)"
   ]
  },
  {
   "cell_type": "markdown",
   "id": "7704b4b7-6424-47d5-862d-f57c7d8fcc07",
   "metadata": {},
   "source": [
    "**Models**"
   ]
  },
  {
   "cell_type": "raw",
   "id": "178044dc-b0ab-4fb8-95d3-63b638e08fab",
   "metadata": {},
   "source": [
    "elem = ElModel(dataset, \n",
    "               module_name='elem', \n",
    "               dim=200, \n",
    "               margin=0.1, \n",
    "               batch_size=4096*8, \n",
    "               test_batch_size=32, \n",
    "               epochs=500, \n",
    "               learning_rate=0.001,\n",
    "               device=device)\n",
    "elem._train()"
   ]
  },
  {
   "cell_type": "raw",
   "id": "421d043c-0b5b-4e9c-a5d6-14b0b98ea5e1",
   "metadata": {},
   "source": [
    "elbox = ElModel(dataset, \n",
    "                module_name='elbox', \n",
    "                dim=200, \n",
    "                margin=0.1, \n",
    "                batch_size=4096*8, \n",
    "                test_batch_size=32, \n",
    "                epochs=500, \n",
    "                learning_rate=0.001,\n",
    "                device=device)\n",
    "elbox._train()"
   ]
  },
  {
   "cell_type": "markdown",
   "id": "1763f727-deca-43bd-bb2e-730fc0407c4f",
   "metadata": {},
   "source": [
    "**Eval**"
   ]
  },
  {
   "cell_type": "raw",
   "id": "479cbbb1-ebff-40ea-b79f-bf10bf7045fb",
   "metadata": {},
   "source": [
    "elem._eval('subsumption')"
   ]
  },
  {
   "cell_type": "raw",
   "id": "cdca1698-07a8-4656-a2f1-83f86c2afbce",
   "metadata": {},
   "source": [
    "elem._eval('membership')"
   ]
  },
  {
   "cell_type": "raw",
   "id": "2a46b312-f342-40f2-89c8-02f0cea97296",
   "metadata": {},
   "source": [
    "elbox._eval('subsumption')"
   ]
  },
  {
   "cell_type": "raw",
   "id": "3795128e-a0ca-42f0-a3f9-0a7983667407",
   "metadata": {},
   "source": [
    "elbox._eval('membership')"
   ]
  },
  {
   "cell_type": "markdown",
   "id": "8574fdfb-52aa-409c-a29f-9d744a08bf57",
   "metadata": {},
   "source": [
    "**Experiments: Box2EL**"
   ]
  },
  {
   "cell_type": "code",
   "execution_count": null,
   "id": "4b46002e-f2e8-430a-8fab-a44c412bddd1",
   "metadata": {},
   "outputs": [],
   "source": [
    "for experiment in experiments: \n",
    "    dataset_name = experiment['dataset_name']\n",
    "    file_name = experiment['file_name']\n",
    "    format_ = experiment['format_']\n",
    "    add_noise = experiment['add_noise']                                                                                                                   \n",
    "   \n",
    "    dataset = PathDataset(ontology_path=f'datasets/bin/{file_name}_train.owl',\n",
    "                          testing_path=f'datasets/bin/{dataset_name}_test.owl',\n",
    "                          validation_path=f'datasets/bin/{dataset_name}_val.owl')\n",
    "    \n",
    "    train_ont = preprocess_ontology_el(dataset.ontology)\n",
    "    test_ont = preprocess_ontology_el(dataset.testing)\n",
    "    valid_ont = preprocess_ontology_el(dataset.validation)\n",
    "\n",
    "    dataset = Dataset(train_ont, testing=test_ont, validation=valid_ont)\n",
    "    \n",
    "    box2el = ElModel(dataset, \n",
    "                     module_name='box2el', \n",
    "                     dim=200, \n",
    "                     margin=0.1, \n",
    "                     batch_size=4096*8, \n",
    "                     test_batch_size=32, \n",
    "                     epochs=500, \n",
    "                     learning_rate=0.001,\n",
    "                     device=device)\n",
    "    \n",
    "    box2el._train()\n",
    "    \n",
    "    print(f'{file_name}:')\n",
    "    print('Membership:')\n",
    "    box2el._eval('membership')\n",
    "    print('Subsumption:')\n",
    "    box2el._eval('subsumption')\n",
    "    print()"
   ]
  }
 ],
 "metadata": {
  "kernelspec": {
   "display_name": "Python 3 (ipykernel)",
   "language": "python",
   "name": "python3"
  },
  "language_info": {
   "codemirror_mode": {
    "name": "ipython",
    "version": 3
   },
   "file_extension": ".py",
   "mimetype": "text/x-python",
   "name": "python",
   "nbconvert_exporter": "python",
   "pygments_lexer": "ipython3",
   "version": "3.8.16"
  }
 },
 "nbformat": 4,
 "nbformat_minor": 5
}
