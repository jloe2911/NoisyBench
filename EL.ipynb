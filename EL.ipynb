{
 "cells": [
  {
   "cell_type": "code",
   "execution_count": null,
   "id": "797da083-792e-4f9e-b8cc-89fa1bcac3a3",
   "metadata": {},
   "outputs": [],
   "source": [
    "import torch\n",
    "\n",
    "import mowl\n",
    "mowl.init_jvm('10g')\n",
    "from mowl.datasets import PathDataset, Dataset\n",
    "\n",
    "from src.utils import *\n",
    "from src.elmodule import *"
   ]
  },
  {
   "cell_type": "code",
   "execution_count": null,
   "id": "3ae36031-84e3-49c7-89ec-b4d896cb91ed",
   "metadata": {},
   "outputs": [],
   "source": [
    "device = torch.device('cuda' if torch.cuda.is_available() else 'cpu')\n",
    "device = 'cpu'\n",
    "print(device)"
   ]
  },
  {
   "cell_type": "code",
   "execution_count": 3,
   "id": "d7fb91c8-8bc6-4d8b-b3b2-dcf43219ad9d",
   "metadata": {},
   "outputs": [],
   "source": [
    "#dataset_name = 'family'\n",
    "#dataset_name = 'pizza'\n",
    "dataset_name = 'OWL2DL-1'"
   ]
  },
  {
   "cell_type": "code",
   "execution_count": 4,
   "id": "438a799c-8f61-407d-95ad-660244f7ac86",
   "metadata": {},
   "outputs": [],
   "source": [
    "experiments = get_experimets(dataset_name)"
   ]
  },
  {
   "cell_type": "markdown",
   "id": "7704b4b7-6424-47d5-862d-f57c7d8fcc07",
   "metadata": {},
   "source": [
    "**Models**"
   ]
  },
  {
   "cell_type": "raw",
   "id": "178044dc-b0ab-4fb8-95d3-63b638e08fab",
   "metadata": {},
   "source": [
    "elem = ElModel(dataset, \n",
    "               module_name='elem', \n",
    "               dim=200, \n",
    "               margin=0.1, \n",
    "               batch_size=4096*8, \n",
    "               test_batch_size=32, \n",
    "               epochs=500, \n",
    "               learning_rate=0.001,\n",
    "               device=device)\n",
    "elem._train()"
   ]
  },
  {
   "cell_type": "raw",
   "id": "421d043c-0b5b-4e9c-a5d6-14b0b98ea5e1",
   "metadata": {},
   "source": [
    "elbox = ElModel(dataset, \n",
    "                module_name='elbox', \n",
    "                dim=200, \n",
    "                margin=0.1, \n",
    "                batch_size=4096*8, \n",
    "                test_batch_size=32, \n",
    "                epochs=500, \n",
    "                learning_rate=0.001,\n",
    "                device=device)\n",
    "elbox._train()"
   ]
  },
  {
   "cell_type": "markdown",
   "id": "1763f727-deca-43bd-bb2e-730fc0407c4f",
   "metadata": {},
   "source": [
    "**Eval**"
   ]
  },
  {
   "cell_type": "raw",
   "id": "479cbbb1-ebff-40ea-b79f-bf10bf7045fb",
   "metadata": {},
   "source": [
    "elem._eval('subsumption')"
   ]
  },
  {
   "cell_type": "raw",
   "id": "cdca1698-07a8-4656-a2f1-83f86c2afbce",
   "metadata": {},
   "source": [
    "elem._eval('membership')"
   ]
  },
  {
   "cell_type": "raw",
   "id": "2a46b312-f342-40f2-89c8-02f0cea97296",
   "metadata": {},
   "source": [
    "elbox._eval('subsumption')"
   ]
  },
  {
   "cell_type": "raw",
   "id": "3795128e-a0ca-42f0-a3f9-0a7983667407",
   "metadata": {},
   "source": [
    "elbox._eval('membership')"
   ]
  },
  {
   "cell_type": "markdown",
   "id": "8574fdfb-52aa-409c-a29f-9d744a08bf57",
   "metadata": {},
   "source": [
    "**Experiments: Box2EL**"
   ]
  },
  {
   "cell_type": "code",
   "execution_count": 5,
   "id": "4b46002e-f2e8-430a-8fab-a44c412bddd1",
   "metadata": {},
   "outputs": [],
   "source": [
    "for experiment in experiments: \n",
    "    dataset_name = experiment['dataset_name']\n",
    "    file_name = experiment['file_name']\n",
    "    format_ = experiment['format_']\n",
    "    add_noise = experiment['add_noise']                                                                                                               \n",
    "   \n",
    "    dataset = PathDataset(ontology_path=f'datasets/bin/{file_name}_train.owl', # we add noise to train\n",
    "                          testing_path=f'datasets/bin/{dataset_name}_test.owl',\n",
    "                          validation_path=f'datasets/bin/{dataset_name}_val.owl')\n",
    "    \n",
    "    train_ont = preprocess_ontology_el(dataset.ontology)\n",
    "    test_ont = preprocess_ontology_el(dataset.testing)\n",
    "    valid_ont = preprocess_ontology_el(dataset.validation)\n",
    "\n",
    "    dataset = Dataset(train_ont, testing=test_ont, validation=valid_ont)\n",
    "    \n",
    "    box2el = ElModel(dataset, \n",
    "                     module_name='box2el', \n",
    "                     dim=200, \n",
    "                     margin=0.1, \n",
    "                     batch_size=4096*8, \n",
    "                     test_batch_size=32, \n",
    "                     epochs=500, \n",
    "                     learning_rate=0.001,\n",
    "                     device=device)\n",
    "    \n",
    "    box2el._train()\n",
    "    \n",
    "    print(f'{file_name}:')\n",
    "    print('Membership:')\n",
    "    metrics_membership = box2el._eval('membership')\n",
    "    print('Subsumption:')\n",
    "    metrics_subsumption = box2el._eval('subsumption')\n",
    "    print('Link Prediction:')\n",
    "    metrics_link_prediction = box2el._eval('link_prediction')\n",
    "    print()\n",
    "    save_results(metrics_subsumption, metrics_membership, metrics_link_prediction, f'models/results/box2el/{file_name}.txt')"
   ]
  },
  {
   "cell_type": "code",
   "execution_count": 6,
   "id": "1a9dbcc2",
   "metadata": {},
   "outputs": [],
   "source": [
    "#######################################################"
   ]
  },
  {
   "cell_type": "code",
   "execution_count": null,
   "id": "bc5de8cf",
   "metadata": {},
   "outputs": [],
   "source": [
    "dataset = PathDataset(ontology_path=f'datasets/bin/{dataset_name}_train.owl', \n",
    "                      testing_path=f'datasets/bin/{dataset_name}_test.owl',\n",
    "                      validation_path=f'datasets/bin/{dataset_name}_val.owl')\n",
    "\n",
    "train_ont = preprocess_ontology_el(dataset.ontology)\n",
    "test_ont = preprocess_ontology_el(dataset.testing)\n",
    "valid_ont = preprocess_ontology_el(dataset.validation)\n",
    "\n",
    "dataset = Dataset(train_ont, testing=test_ont, validation=valid_ont)\n",
    "\n",
    "box2el = ElModel(dataset, \n",
    "                 module_name='box2el', \n",
    "                 dim=256, \n",
    "                 margin=0.1, \n",
    "                 batch_size=4096*8, \n",
    "                 test_batch_size=32, \n",
    "                 epochs=500, \n",
    "                 learning_rate=0.0001,\n",
    "                 device=device)"
   ]
  },
  {
   "cell_type": "code",
   "execution_count": null,
   "id": "43318bb4",
   "metadata": {},
   "outputs": [],
   "source": [
    "metrics_link_prediction = box2el._eval('membership')"
   ]
  },
  {
   "cell_type": "code",
   "execution_count": null,
   "id": "467f6ff1",
   "metadata": {},
   "outputs": [],
   "source": [
    "metrics_link_prediction = box2el._eval('subsumption')"
   ]
  },
  {
   "cell_type": "code",
   "execution_count": null,
   "id": "14bb8492",
   "metadata": {},
   "outputs": [],
   "source": [
    "metrics_link_prediction = box2el._eval('link_prediction')"
   ]
  },
  {
   "cell_type": "code",
   "execution_count": null,
   "id": "df368668",
   "metadata": {},
   "outputs": [],
   "source": [
    "box2el._train()"
   ]
  },
  {
   "cell_type": "code",
   "execution_count": null,
   "id": "7ea7dc9e",
   "metadata": {},
   "outputs": [],
   "source": [
    "metrics_link_prediction = box2el._eval('membership')"
   ]
  },
  {
   "cell_type": "code",
   "execution_count": null,
   "id": "f9c1d2af",
   "metadata": {},
   "outputs": [],
   "source": [
    "metrics_link_prediction = box2el._eval('link_prediction')"
   ]
  },
  {
   "cell_type": "code",
   "execution_count": null,
   "id": "2aeae76d",
   "metadata": {},
   "outputs": [],
   "source": [
    "metrics_link_prediction = box2el._eval('subsumption')"
   ]
  },
  {
   "cell_type": "code",
   "execution_count": 14,
   "id": "cf47ee06",
   "metadata": {},
   "outputs": [],
   "source": [
    "#######################################################"
   ]
  },
  {
   "cell_type": "code",
   "execution_count": 22,
   "id": "01e39c41",
   "metadata": {},
   "outputs": [
    {
     "name": "stderr",
     "output_type": "stream",
     "text": [
      "[main] INFO org.semanticweb.owlapi.rdf.rdfxml.parser.OWLRDFConsumer - Unparsed triple: _:genid-nodeid-node1ibbgj61kx483 -> http://www.w3.org/2002/07/owl#targetIndividual -> https://kracr.iiitd.edu.in/OWL2Bench_train#UGprogram\n",
      "[main] INFO org.semanticweb.owlapi.rdf.rdfxml.parser.OWLRDFConsumer - Unparsed triple: _:genid-nodeid-node1ibbgj61kx462 -> http://www.w3.org/2002/07/owl#hasValue -> https://kracr.iiitd.edu.in/OWL2Bench_train#T20Cricket\n",
      "[main] INFO org.semanticweb.owlapi.rdf.rdfxml.parser.OWLRDFConsumer - Unparsed triple: _:genid-nodeid-node1ibbgj61kx469 -> http://www.w3.org/2002/07/owl#targetIndividual -> https://kracr.iiitd.edu.in/OWL2Bench_train#PGprogram\n"
     ]
    }
   ],
   "source": [
    "# dataset = PathDataset(ontology_path=f'MyJenaProject/input_family/Thing_richard_john_bright_1962_without_tbox.ttl', \n",
    "#                       testing_path=f'MyJenaProject/output_family/Thing_richard_john_bright_1962_filtered_inferred.ttl')\n",
    "\n",
    "# dataset = PathDataset(ontology_path=f'MyJenaProject/input_family/Thing_richard_john_bright_1962.ttl', \n",
    "#                       testing_path=f'MyJenaProject/output_family/Thing_richard_john_bright_1962_filtered_inferred.ttl')\n",
    "\n",
    "dataset = PathDataset(ontology_path=f'datasets/bin/OWL2DL-1_without_tbox_train.owl', \n",
    "                      testing_path=f'datasets/bin/OWL2DL-1_without_tbox_test.owl')\n",
    "\n",
    "train_ont = preprocess_ontology_el(dataset.ontology)\n",
    "test_ont = preprocess_ontology_el(dataset.testing)\n",
    "\n",
    "dataset = Dataset(train_ont, testing=test_ont)\n",
    "\n",
    "box2el = ElModel(dataset, \n",
    "                 module_name='box2el', \n",
    "                 dim=256, \n",
    "                 margin=0.1, \n",
    "                 batch_size=4096*8, \n",
    "                 test_batch_size=32, \n",
    "                 epochs=500, \n",
    "                 learning_rate=0.0001,\n",
    "                 device=device)"
   ]
  },
  {
   "cell_type": "code",
   "execution_count": 26,
   "id": "60684163",
   "metadata": {},
   "outputs": [
    {
     "ename": "KeyError",
     "evalue": "'gci0'",
     "output_type": "error",
     "traceback": [
      "\u001b[0;31m---------------------------------------------------------------------------\u001b[0m",
      "\u001b[0;31mKeyError\u001b[0m                                  Traceback (most recent call last)",
      "Cell \u001b[0;32mIn[26], line 1\u001b[0m\n\u001b[0;32m----> 1\u001b[0m \u001b[43mbox2el\u001b[49m\u001b[38;5;241;43m.\u001b[39;49m\u001b[43m_train\u001b[49m\u001b[43m(\u001b[49m\u001b[43m)\u001b[49m\n",
      "File \u001b[0;32m/app/NoisyBench/src/elmodule.py:129\u001b[0m, in \u001b[0;36mElModel._train\u001b[0;34m(self)\u001b[0m\n\u001b[1;32m    126\u001b[0m el_dls \u001b[38;5;241m=\u001b[39m {gci_name: DataLoader(ds, batch_size\u001b[38;5;241m=\u001b[39m\u001b[38;5;28mself\u001b[39m\u001b[38;5;241m.\u001b[39mbatch_size, shuffle\u001b[38;5;241m=\u001b[39m\u001b[38;5;28;01mTrue\u001b[39;00m) \u001b[38;5;28;01mfor\u001b[39;00m gci_name, ds \u001b[38;5;129;01min\u001b[39;00m \u001b[38;5;28mself\u001b[39m\u001b[38;5;241m.\u001b[39mtraining_datasets\u001b[38;5;241m.\u001b[39mitems() \u001b[38;5;28;01mif\u001b[39;00m \u001b[38;5;28mlen\u001b[39m(ds) \u001b[38;5;241m>\u001b[39m \u001b[38;5;241m0\u001b[39m}\n\u001b[1;32m    127\u001b[0m el_dls_sizes \u001b[38;5;241m=\u001b[39m {gci_name: \u001b[38;5;28mlen\u001b[39m(ds) \u001b[38;5;28;01mfor\u001b[39;00m gci_name, ds \u001b[38;5;129;01min\u001b[39;00m \u001b[38;5;28mself\u001b[39m\u001b[38;5;241m.\u001b[39mtraining_datasets\u001b[38;5;241m.\u001b[39mitems() \u001b[38;5;28;01mif\u001b[39;00m \u001b[38;5;28mlen\u001b[39m(ds) \u001b[38;5;241m>\u001b[39m \u001b[38;5;241m0\u001b[39m}\n\u001b[0;32m--> 129\u001b[0m \u001b[38;5;28;01mif\u001b[39;00m \u001b[38;5;28mlen\u001b[39m(\u001b[38;5;28mself\u001b[39m\u001b[38;5;241m.\u001b[39mdataset\u001b[38;5;241m.\u001b[39mindividuals) \u001b[38;5;241m>\u001b[39m \u001b[43mel_dls_sizes\u001b[49m\u001b[43m[\u001b[49m\u001b[38;5;124;43m\"\u001b[39;49m\u001b[38;5;124;43mgci0\u001b[39;49m\u001b[38;5;124;43m\"\u001b[39;49m\u001b[43m]\u001b[49m:\n\u001b[1;32m    130\u001b[0m     main_dl \u001b[38;5;241m=\u001b[39m abox_dl_train\n\u001b[1;32m    131\u001b[0m     main_dl_name \u001b[38;5;241m=\u001b[39m \u001b[38;5;124m\"\u001b[39m\u001b[38;5;124mabox\u001b[39m\u001b[38;5;124m\"\u001b[39m\n",
      "\u001b[0;31mKeyError\u001b[0m: 'gci0'"
     ]
    }
   ],
   "source": [
    "box2el._train()"
   ]
  },
  {
   "cell_type": "code",
   "execution_count": 23,
   "id": "12aa282e",
   "metadata": {},
   "outputs": [
    {
     "name": "stdout",
     "output_type": "stream",
     "text": [
      "MRR: 0.146, Hits@1: 0.052, Hits@5: 0.169, Hits@10: 0.319\n"
     ]
    }
   ],
   "source": [
    "metrics_link_prediction = box2el._eval('membership')"
   ]
  },
  {
   "cell_type": "code",
   "execution_count": 24,
   "id": "ab2b4693",
   "metadata": {},
   "outputs": [
    {
     "ename": "ZeroDivisionError",
     "evalue": "division by zero",
     "output_type": "error",
     "traceback": [
      "\u001b[0;31m---------------------------------------------------------------------------\u001b[0m",
      "\u001b[0;31mZeroDivisionError\u001b[0m                         Traceback (most recent call last)",
      "Cell \u001b[0;32mIn[24], line 1\u001b[0m\n\u001b[0;32m----> 1\u001b[0m metrics_link_prediction \u001b[38;5;241m=\u001b[39m \u001b[43mbox2el\u001b[49m\u001b[38;5;241;43m.\u001b[39;49m\u001b[43m_eval\u001b[49m\u001b[43m(\u001b[49m\u001b[38;5;124;43m'\u001b[39;49m\u001b[38;5;124;43mlink_prediction\u001b[39;49m\u001b[38;5;124;43m'\u001b[39;49m\u001b[43m)\u001b[49m\n",
      "File \u001b[0;32m/app/NoisyBench/src/elmodule.py:282\u001b[0m, in \u001b[0;36mElModel._eval\u001b[0;34m(self, mode)\u001b[0m\n\u001b[1;32m    279\u001b[0m         \u001b[38;5;28;01mif\u001b[39;00m rank \u001b[38;5;241m<\u001b[39m \u001b[38;5;241m10\u001b[39m:\n\u001b[1;32m    280\u001b[0m             hits_at_10 \u001b[38;5;241m+\u001b[39m\u001b[38;5;241m=\u001b[39m \u001b[38;5;241m1\u001b[39m\n\u001b[0;32m--> 282\u001b[0m mrr \u001b[38;5;241m/\u001b[39m\u001b[38;5;241m=\u001b[39m eval_dl\u001b[38;5;241m.\u001b[39mdataset_len\n\u001b[1;32m    283\u001b[0m hits_at_1 \u001b[38;5;241m/\u001b[39m\u001b[38;5;241m=\u001b[39m eval_dl\u001b[38;5;241m.\u001b[39mdataset_len\n\u001b[1;32m    284\u001b[0m hits_at_5 \u001b[38;5;241m/\u001b[39m\u001b[38;5;241m=\u001b[39m eval_dl\u001b[38;5;241m.\u001b[39mdataset_len\n",
      "\u001b[0;31mZeroDivisionError\u001b[0m: division by zero"
     ]
    }
   ],
   "source": [
    "metrics_link_prediction = box2el._eval('link_prediction')"
   ]
  },
  {
   "cell_type": "code",
   "execution_count": 25,
   "id": "6fc936c2",
   "metadata": {},
   "outputs": [
    {
     "ename": "IndexError",
     "evalue": "too many indices for tensor of dimension 1",
     "output_type": "error",
     "traceback": [
      "\u001b[0;31m---------------------------------------------------------------------------\u001b[0m",
      "\u001b[0;31mIndexError\u001b[0m                                Traceback (most recent call last)",
      "Cell \u001b[0;32mIn[25], line 1\u001b[0m\n\u001b[0;32m----> 1\u001b[0m metrics_link_prediction \u001b[38;5;241m=\u001b[39m \u001b[43mbox2el\u001b[49m\u001b[38;5;241;43m.\u001b[39;49m\u001b[43m_eval\u001b[49m\u001b[43m(\u001b[49m\u001b[38;5;124;43m'\u001b[39;49m\u001b[38;5;124;43msubsumption\u001b[39;49m\u001b[38;5;124;43m'\u001b[39;49m\u001b[43m)\u001b[49m\n",
      "File \u001b[0;32m/app/NoisyBench/src/elmodule.py:237\u001b[0m, in \u001b[0;36mElModel._eval\u001b[0;34m(self, mode)\u001b[0m\n\u001b[1;32m    235\u001b[0m \u001b[38;5;28;01mif\u001b[39;00m \u001b[38;5;124m\"\u001b[39m\u001b[38;5;124msubsumption\u001b[39m\u001b[38;5;124m\"\u001b[39m \u001b[38;5;129;01min\u001b[39;00m mode:\n\u001b[1;32m    236\u001b[0m     ds \u001b[38;5;241m=\u001b[39m \u001b[38;5;28mself\u001b[39m\u001b[38;5;241m.\u001b[39mtesting_datasets[\u001b[38;5;124m\"\u001b[39m\u001b[38;5;124mgci0\u001b[39m\u001b[38;5;124m\"\u001b[39m][:]\n\u001b[0;32m--> 237\u001b[0m     sub_class \u001b[38;5;241m=\u001b[39m \u001b[43mds\u001b[49m\u001b[43m[\u001b[49m\u001b[43m:\u001b[49m\u001b[43m,\u001b[49m\u001b[43m \u001b[49m\u001b[38;5;241;43m0\u001b[39;49m\u001b[43m]\u001b[49m\n\u001b[1;32m    238\u001b[0m     super_class \u001b[38;5;241m=\u001b[39m ds[:, \u001b[38;5;241m1\u001b[39m]\n\u001b[1;32m    239\u001b[0m     eval_dl \u001b[38;5;241m=\u001b[39m FastTensorDataLoader(sub_class, super_class, batch_size\u001b[38;5;241m=\u001b[39m\u001b[38;5;28mself\u001b[39m\u001b[38;5;241m.\u001b[39mtest_batch_size, shuffle\u001b[38;5;241m=\u001b[39m\u001b[38;5;28;01mFalse\u001b[39;00m)\n",
      "\u001b[0;31mIndexError\u001b[0m: too many indices for tensor of dimension 1"
     ]
    }
   ],
   "source": [
    "metrics_link_prediction = box2el._eval('subsumption')"
   ]
  },
  {
   "cell_type": "code",
   "execution_count": 56,
   "id": "8b2ead6d",
   "metadata": {},
   "outputs": [],
   "source": [
    "abox_ds_train = box2el.get_abox_data(\"train\")\n",
    "abox_dl_train = FastTensorDataLoader(*abox_ds_train, batch_size=box2el.batch_size, shuffle=True)"
   ]
  },
  {
   "cell_type": "code",
   "execution_count": 57,
   "id": "c6495198",
   "metadata": {},
   "outputs": [],
   "source": [
    "main_dl = abox_dl_train"
   ]
  },
  {
   "cell_type": "code",
   "execution_count": 58,
   "id": "6f4e3753",
   "metadata": {},
   "outputs": [],
   "source": [
    "for batch_data in main_dl:\n",
    "    ind_idxs, labels, property_labels = batch_data\n",
    "    break"
   ]
  },
  {
   "cell_type": "code",
   "execution_count": 59,
   "id": "cfc18304",
   "metadata": {},
   "outputs": [],
   "source": [
    "module = BoxSquaredELModule(box2el.nb_classes, box2el.nb_roles, embed_dim = box2el.dim)"
   ]
  },
  {
   "cell_type": "code",
   "execution_count": 60,
   "id": "e8a8c963",
   "metadata": {},
   "outputs": [],
   "source": [
    "abox_logits = box2el.module.abox_forward(ind_idxs.to(box2el.device), 'membership')\n",
    "abox_loss = F.binary_cross_entropy_with_logits(abox_logits, labels.to(box2el.device))"
   ]
  },
  {
   "cell_type": "code",
   "execution_count": 61,
   "id": "ae0e5b9d",
   "metadata": {},
   "outputs": [],
   "source": [
    "abox_logits_lp = box2el.module.abox_forward(ind_idxs.to(box2el.device), 'link_prediction')\n",
    "abox_loss_lp = F.binary_cross_entropy_with_logits(abox_logits_lp, property_labels.to(box2el.device))"
   ]
  }
 ],
 "metadata": {
  "kernelspec": {
   "display_name": "Python 3",
   "language": "python",
   "name": "python3"
  },
  "language_info": {
   "codemirror_mode": {
    "name": "ipython",
    "version": 3
   },
   "file_extension": ".py",
   "mimetype": "text/x-python",
   "name": "python",
   "nbconvert_exporter": "python",
   "pygments_lexer": "ipython3",
   "version": "3.10.12"
  }
 },
 "nbformat": 4,
 "nbformat_minor": 5
}
