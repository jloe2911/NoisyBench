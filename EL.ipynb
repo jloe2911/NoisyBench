{
 "cells": [
  {
   "cell_type": "code",
   "execution_count": 1,
   "id": "3c6b50af",
   "metadata": {},
   "outputs": [],
   "source": [
    "import os\n",
    "os.environ[\"JAVA_HOME\"] = r\"C:\\Program Files\\JAVA\\jdk-22\""
   ]
  },
  {
   "cell_type": "code",
   "execution_count": null,
   "id": "797da083-792e-4f9e-b8cc-89fa1bcac3a3",
   "metadata": {},
   "outputs": [],
   "source": [
    "import torch\n",
    "\n",
    "import mowl\n",
    "mowl.init_jvm('10g')\n",
    "from mowl.datasets import Dataset\n",
    "from org.semanticweb.owlapi.apibinding import OWLManager\n",
    "import java.io\n",
    "\n",
    "from src.utils import *\n",
    "from src.elmodule import *"
   ]
  },
  {
   "cell_type": "code",
   "execution_count": null,
   "id": "3ae36031-84e3-49c7-89ec-b4d896cb91ed",
   "metadata": {},
   "outputs": [],
   "source": [
    "device = torch.device('cuda' if torch.cuda.is_available() else 'cpu')\n",
    "device = 'cpu'\n",
    "print(device)"
   ]
  },
  {
   "cell_type": "code",
   "execution_count": 4,
   "id": "d7fb91c8-8bc6-4d8b-b3b2-dcf43219ad9d",
   "metadata": {},
   "outputs": [],
   "source": [
    "dataset_name = 'OWL2DL-1'\n",
    "# dataset_name = 'family'"
   ]
  },
  {
   "cell_type": "code",
   "execution_count": 5,
   "id": "438a799c-8f61-407d-95ad-660244f7ac86",
   "metadata": {},
   "outputs": [],
   "source": [
    "experiments = get_experimets(dataset_name)"
   ]
  },
  {
   "cell_type": "markdown",
   "id": "7704b4b7-6424-47d5-862d-f57c7d8fcc07",
   "metadata": {},
   "source": [
    "**Models**"
   ]
  },
  {
   "cell_type": "raw",
   "id": "178044dc-b0ab-4fb8-95d3-63b638e08fab",
   "metadata": {},
   "source": [
    "elem = ElModel(dataset, \n",
    "               module_name='elem', \n",
    "               dim=200, \n",
    "               margin=0.1, \n",
    "               batch_size=4096*8, \n",
    "               test_batch_size=32, \n",
    "               epochs=500, \n",
    "               learning_rate=0.001,\n",
    "               device=device)\n",
    "elem._train()"
   ]
  },
  {
   "cell_type": "raw",
   "id": "421d043c-0b5b-4e9c-a5d6-14b0b98ea5e1",
   "metadata": {},
   "source": [
    "elbox = ElModel(dataset, \n",
    "                module_name='elbox', \n",
    "                dim=200, \n",
    "                margin=0.1, \n",
    "                batch_size=4096*8, \n",
    "                test_batch_size=32, \n",
    "                epochs=500, \n",
    "                learning_rate=0.001,\n",
    "                device=device)\n",
    "elbox._train()"
   ]
  },
  {
   "cell_type": "markdown",
   "id": "1763f727-deca-43bd-bb2e-730fc0407c4f",
   "metadata": {},
   "source": [
    "**Eval**"
   ]
  },
  {
   "cell_type": "raw",
   "id": "479cbbb1-ebff-40ea-b79f-bf10bf7045fb",
   "metadata": {},
   "source": [
    "elem._eval('subsumption')"
   ]
  },
  {
   "cell_type": "raw",
   "id": "cdca1698-07a8-4656-a2f1-83f86c2afbce",
   "metadata": {},
   "source": [
    "elem._eval('membership')"
   ]
  },
  {
   "cell_type": "raw",
   "id": "2a46b312-f342-40f2-89c8-02f0cea97296",
   "metadata": {},
   "source": [
    "elbox._eval('subsumption')"
   ]
  },
  {
   "cell_type": "raw",
   "id": "3795128e-a0ca-42f0-a3f9-0a7983667407",
   "metadata": {},
   "source": [
    "elbox._eval('membership')"
   ]
  },
  {
   "cell_type": "markdown",
   "id": "8574fdfb-52aa-409c-a29f-9d744a08bf57",
   "metadata": {},
   "source": [
    "**Experiments: Box2EL**"
   ]
  },
  {
   "cell_type": "code",
   "execution_count": null,
   "id": "4b46002e-f2e8-430a-8fab-a44c412bddd1",
   "metadata": {},
   "outputs": [],
   "source": [
    "for experiment in experiments: \n",
    "    dataset_name = experiment['dataset_name']\n",
    "    file_name = experiment['file_name']\n",
    "    format_ = experiment['format_']\n",
    "    add_noise = experiment['add_noise']         \n",
    "\n",
    "    subsumption_results = []\n",
    "    membership_results = []\n",
    "    link_prediction_results = []\n",
    "    \n",
    "    for _ in range(5):                                                                                                     \n",
    "\n",
    "        train_manager = OWLManager.createOWLOntologyManager()\n",
    "        test_manager = OWLManager.createOWLOntologyManager()\n",
    "        val_manager = OWLManager.createOWLOntologyManager()\n",
    "\n",
    "        train_ontology = train_manager.loadOntologyFromOntologyDocument(java.io.File(f'datasets/{file_name}_train.owl')) # we add noise to train\n",
    "        test_ontology = test_manager.loadOntologyFromOntologyDocument(java.io.File(f'datasets/{dataset_name}_test.owl'))\n",
    "        val_ontology = val_manager.loadOntologyFromOntologyDocument(java.io.File(f'datasets/{dataset_name}_val.owl'))\n",
    "\n",
    "        train_ont = preprocess_ontology_el(train_ontology)\n",
    "        test_ont = preprocess_ontology_el(test_ontology)\n",
    "        valid_ont = preprocess_ontology_el(val_ontology)\n",
    "\n",
    "        dataset = Dataset(train_ont, testing=test_ont, validation=valid_ont)\n",
    "        \n",
    "        model = ElModel(dataset, \n",
    "                        module_name='box2el', \n",
    "                        dim=200, \n",
    "                        margin=0.1, \n",
    "                        batch_size=4096*8, \n",
    "                        test_batch_size=32, \n",
    "                        epochs=500, \n",
    "                        learning_rate=0.001,\n",
    "                        device=device)\n",
    "        \n",
    "        model._train()\n",
    "        \n",
    "        print(f'{file_name}:')\n",
    "        print('Membership:')\n",
    "        metrics_membership = model._eval('membership')\n",
    "        print('Subsumption:')\n",
    "        metrics_subsumption = model._eval('subsumption')\n",
    "        print('Link Prediction:')\n",
    "        metrics_link_prediction = model._eval('link_prediction')\n",
    "        print()\n",
    "\n",
    "        subsumption_results.append(metrics_subsumption)\n",
    "        membership_results.append(metrics_membership)\n",
    "        link_prediction_results.append(metrics_link_prediction)\n",
    "\n",
    "    avg_metrics_subsumption = [np.mean(values) for values in zip(*subsumption_results)]\n",
    "    avg_metrics_membership = [np.mean(values) for values in zip(*membership_results)]\n",
    "    avg_metrics_link_prediction = [np.mean(values) for values in zip(*link_prediction_results)]\n",
    "\n",
    "    save_results(avg_metrics_subsumption, avg_metrics_membership, avg_metrics_link_prediction, f'models/results/box2el/{file_name}.txt')"
   ]
  },
  {
   "cell_type": "code",
   "execution_count": null,
   "id": "a211e74e",
   "metadata": {},
   "outputs": [],
   "source": []
  },
  {
   "cell_type": "code",
   "execution_count": 1,
   "id": "4e586a11",
   "metadata": {},
   "outputs": [],
   "source": [
    "from src.utils import get_experiments\n",
    "import rdflib"
   ]
  },
  {
   "cell_type": "code",
   "execution_count": 2,
   "id": "976417a6",
   "metadata": {},
   "outputs": [],
   "source": [
    "experiments = get_experiments('family')"
   ]
  },
  {
   "cell_type": "code",
   "execution_count": 4,
   "id": "caae20ad",
   "metadata": {},
   "outputs": [],
   "source": [
    "for experiment in experiments[1:]: \n",
    "    \n",
    "    dataset_name = experiment['dataset_name']\n",
    "    file_name = experiment['file_name']\n",
    "\n",
    "    g_train = rdflib.Graph()\n",
    "    g_train.parse(f'datasets/{dataset_name}_train.owl', format='xml')\n",
    "\n",
    "    g_noise = rdflib.Graph()\n",
    "    g_noise.parse(f'datasets/noise/{file_name}.owl', format='xml')\n",
    "\n",
    "    g_train += g_noise\n",
    "    g_train.serialize(destination=f'datasets/{file_name}_train.owl', format='xml')"
   ]
  },
  {
   "cell_type": "code",
   "execution_count": null,
   "id": "0b348d69",
   "metadata": {},
   "outputs": [],
   "source": []
  }
 ],
 "metadata": {
  "kernelspec": {
   "display_name": "Python 3",
   "language": "python",
   "name": "python3"
  },
  "language_info": {
   "codemirror_mode": {
    "name": "ipython",
    "version": 3
   },
   "file_extension": ".py",
   "mimetype": "text/x-python",
   "name": "python",
   "nbconvert_exporter": "python",
   "pygments_lexer": "ipython3",
   "version": "3.12.7"
  }
 },
 "nbformat": 4,
 "nbformat_minor": 5
}
