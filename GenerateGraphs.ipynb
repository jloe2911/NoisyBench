{
 "cells": [
  {
   "cell_type": "code",
   "execution_count": 25,
   "id": "65bdddd3-49f5-40be-8916-8961e4a7e815",
   "metadata": {},
   "outputs": [],
   "source": [
    "from owlready2 import *\n",
    "import rdflib\n",
    "from rdflib import Namespace, URIRef\n",
    "from src.utils import *"
   ]
  },
  {
   "cell_type": "code",
   "execution_count": 26,
   "id": "c8452258-ec84-4f4c-9ae6-5fe10dd11e0c",
   "metadata": {},
   "outputs": [],
   "source": [
    "dataset_name = 'family'\n",
    "#dataset_name = 'pizza'\n",
    "#dataset_name = 'OWL2DL-1'"
   ]
  },
  {
   "cell_type": "code",
   "execution_count": 27,
   "id": "d4be83d6",
   "metadata": {},
   "outputs": [],
   "source": [
    "if dataset_name == 'family':\n",
    "    uri = Namespace(\"http://www.co-ode.org/roberts/family-tree.owl#\")\n",
    "elif dataset_name == 'pizza':\n",
    "    uri = Namespace(\"http://www.co-ode.org/ontologies/pizza/pizza.owl#\")\n",
    "elif dataset_name.startswith('OWL2DL-'):\n",
    "    uri = Namespace(\"http://benchmark/OWL2Bench#\")"
   ]
  },
  {
   "cell_type": "markdown",
   "id": "dd705f4e-fcc0-4b91-a023-b3281ea2f68f",
   "metadata": {},
   "source": [
    "**Step 1: Load ontology**"
   ]
  },
  {
   "cell_type": "code",
   "execution_count": 28,
   "id": "1b9a5642-bc9f-4897-bf9b-87c9ab8dd7f9",
   "metadata": {},
   "outputs": [
    {
     "name": "stdout",
     "output_type": "stream",
     "text": [
      "# Triples: 5017\n"
     ]
    }
   ],
   "source": [
    "g = rdflib.Graph()\n",
    "g.parse(f'datasets/{dataset_name}.owl') \n",
    "print(f'# Triples: {len(g)}')"
   ]
  },
  {
   "cell_type": "code",
   "execution_count": 29,
   "id": "bd3edbf3-824c-4e0b-8cb0-5a3050f60f06",
   "metadata": {},
   "outputs": [
    {
     "name": "stdout",
     "output_type": "stream",
     "text": [
      "# Triples: 1492\n"
     ]
    }
   ],
   "source": [
    "g_tbox = rdflib.Graph()\n",
    "g_tbox.parse(f'datasets/{dataset_name}_TBOX.owl')  \n",
    "print(f'# Triples: {len(g_tbox)}')"
   ]
  },
  {
   "cell_type": "markdown",
   "id": "9d294a02-c7bc-40de-8a44-5cd92ac6bc64",
   "metadata": {},
   "source": [
    "**Step 2: Get all subject-resources (individuals)**"
   ]
  },
  {
   "cell_type": "code",
   "execution_count": 30,
   "id": "006bbaa6",
   "metadata": {},
   "outputs": [
    {
     "name": "stdout",
     "output_type": "stream",
     "text": [
      "# Subject-Resources: 508\n"
     ]
    }
   ],
   "source": [
    "individual_id, individual_names, individual_names_dict = get_individuals(g)\n",
    "\n",
    "subject_resources = [str(x).split('#')[-1] for x in individual_names]\n",
    "print(f'# Subject-Resources: {len(subject_resources)}')"
   ]
  },
  {
   "cell_type": "markdown",
   "id": "05b0f5d6-02a1-4a47-b124-218bc75cc41c",
   "metadata": {},
   "source": [
    "**Step 3: Generate g = description graph for each r**"
   ]
  },
  {
   "cell_type": "code",
   "execution_count": 31,
   "id": "cda91ad4-7f55-4b0d-911e-4fab26dccf29",
   "metadata": {},
   "outputs": [],
   "source": [
    "for i, subject in enumerate(subject_resources):\n",
    "    describe_graph = copy_graph(g_tbox)\n",
    "    for triple in g.triples((None, None, URIRef(uri + subject))):\n",
    "        describe_graph.add(triple) \n",
    "    for triple in g.triples((URIRef(uri + subject), None, None)):\n",
    "        describe_graph.add(triple) \n",
    "    describe_graph.serialize(destination= f'MyJenaProject/input_family/{subject}.ttl', format=\"ttl\")"
   ]
  }
 ],
 "metadata": {
  "kernelspec": {
   "display_name": "base",
   "language": "python",
   "name": "python3"
  },
  "language_info": {
   "codemirror_mode": {
    "name": "ipython",
    "version": 3
   },
   "file_extension": ".py",
   "mimetype": "text/x-python",
   "name": "python",
   "nbconvert_exporter": "python",
   "pygments_lexer": "ipython3",
   "version": "3.8.16"
  }
 },
 "nbformat": 4,
 "nbformat_minor": 5
}
