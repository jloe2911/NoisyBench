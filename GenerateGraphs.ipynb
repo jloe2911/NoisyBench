{
 "cells": [
  {
   "cell_type": "code",
   "execution_count": null,
   "id": "65bdddd3-49f5-40be-8916-8961e4a7e815",
   "metadata": {},
   "outputs": [],
   "source": [
    "from owlready2 import *\n",
    "import rdflib\n",
    "from rdflib import URIRef\n",
    "from tqdm import tqdm\n",
    "from src.utils import *"
   ]
  },
  {
   "cell_type": "code",
   "execution_count": null,
   "id": "c8452258-ec84-4f4c-9ae6-5fe10dd11e0c",
   "metadata": {},
   "outputs": [],
   "source": [
    "# dataset_name = 'OWL2DL-1'\n",
    "dataset_name = 'family'"
   ]
  },
  {
   "cell_type": "markdown",
   "id": "dd705f4e-fcc0-4b91-a023-b3281ea2f68f",
   "metadata": {},
   "source": [
    "**Step 1: Load ontology**"
   ]
  },
  {
   "cell_type": "code",
   "execution_count": null,
   "id": "a3a8946f",
   "metadata": {},
   "outputs": [],
   "source": [
    "ontology = get_ontology(f'datasets/{dataset_name}.owl').load()"
   ]
  },
  {
   "cell_type": "code",
   "execution_count": null,
   "id": "1b9a5642-bc9f-4897-bf9b-87c9ab8dd7f9",
   "metadata": {},
   "outputs": [],
   "source": [
    "g = rdflib.Graph()\n",
    "g.parse(f'datasets/{dataset_name}.owl') \n",
    "print(f'# Triples: {len(g)}')"
   ]
  },
  {
   "cell_type": "code",
   "execution_count": null,
   "id": "bd3edbf3-824c-4e0b-8cb0-5a3050f60f06",
   "metadata": {},
   "outputs": [],
   "source": [
    "g_tbox = rdflib.Graph()\n",
    "g_tbox.parse(f'datasets/{dataset_name}_TBOX.owl')  \n",
    "print(f'# Triples: {len(g_tbox)}')"
   ]
  },
  {
   "cell_type": "markdown",
   "id": "9d294a02-c7bc-40de-8a44-5cd92ac6bc64",
   "metadata": {},
   "source": [
    "**Step 2: Get all subject-resources (individuals)**"
   ]
  },
  {
   "cell_type": "code",
   "execution_count": null,
   "id": "006bbaa6",
   "metadata": {},
   "outputs": [],
   "source": [
    "subject_resources = list(ontology.individuals())\n",
    "print(f'# Subject-Resources: {len(subject_resources)}')"
   ]
  },
  {
   "cell_type": "markdown",
   "id": "05b0f5d6-02a1-4a47-b124-218bc75cc41c",
   "metadata": {},
   "source": [
    "**Step 3: Generate g = description graph for each r**"
   ]
  },
  {
   "cell_type": "code",
   "execution_count": null,
   "id": "167a61f6",
   "metadata": {},
   "outputs": [],
   "source": [
    "def get_classes_for_individual(individual):\n",
    "    classes = [cls.name for cls in individual.is_a]  \n",
    "    return classes"
   ]
  },
  {
   "cell_type": "code",
   "execution_count": null,
   "id": "cf8987da",
   "metadata": {},
   "outputs": [],
   "source": [
    "_, individuals, _ = get_individuals(g)"
   ]
  },
  {
   "cell_type": "code",
   "execution_count": null,
   "id": "249f7852",
   "metadata": {},
   "outputs": [],
   "source": [
    "# 1 hop without TBox\n",
    "for i, subject in tqdm(enumerate(subject_resources)):\n",
    "\n",
    "    describe_graph = rdflib.Graph()\n",
    "\n",
    "    # First hop\n",
    "    for triple in g.triples((None, None, URIRef(subject.iri))):\n",
    "        describe_graph.add(triple)\n",
    "    for triple in g.triples((URIRef(subject.iri), None, None)):\n",
    "        describe_graph.add(triple)\n",
    "\n",
    "    classes = get_classes_for_individual(subject)\n",
    "    classes = \"_\".join(classes)\n",
    "    describe_graph.serialize(destination=f'datasets/{dataset_name}_input_graphs_filtered_1hop/{classes}_{subject.name}.ttl', format=\"ttl\")"
   ]
  },
  {
   "cell_type": "code",
   "execution_count": null,
   "id": "39f07052",
   "metadata": {},
   "outputs": [],
   "source": [
    "# 2 hop with TBox\n",
    "for i, subject in enumerate(subject_resources):\n",
    "\n",
    "    describe_graph = rdflib.Graph()\n",
    "\n",
    "    # First hop\n",
    "    for triple in g.triples((None, None, URIRef(subject.iri))):\n",
    "        describe_graph.add(triple)\n",
    "    for triple in g.triples((URIRef(subject.iri), None, None)):\n",
    "        describe_graph.add(triple)\n",
    "\n",
    "    # Second hop\n",
    "    for triple in list(describe_graph.triples((None, None, None))):\n",
    "        if triple[0] in individuals and triple[2] in individuals: # restrict subject and object to be an individual   \n",
    "            for second_hop_triple in g.triples((triple[0], None, None)):\n",
    "                describe_graph.add(second_hop_triple)\n",
    "            for second_hop_triple in g.triples((triple[2], None, None)):\n",
    "                describe_graph.add(second_hop_triple)\n",
    "            for second_hop_triple in g.triples((None, None, triple[0])):\n",
    "                describe_graph.add(second_hop_triple)\n",
    "            for second_hop_triple in g.triples((None, None, triple[2])):\n",
    "                describe_graph.add(second_hop_triple)\n",
    "\n",
    "    # Add TBox\n",
    "    describe_graph += g_tbox\n",
    "\n",
    "    classes = get_classes_for_individual(subject)\n",
    "    classes = \"_\".join(classes)\n",
    "    describe_graph.serialize(destination=f'datasets/{dataset_name}_input_graphs/{classes}_{subject.name}.ttl', format=\"ttl\")"
   ]
  },
  {
   "cell_type": "code",
   "execution_count": null,
   "id": "fcfc8e58",
   "metadata": {},
   "outputs": [],
   "source": [
    "# 2 hop without TBox\n",
    "for i, subject in enumerate(subject_resources):\n",
    "\n",
    "    describe_graph = rdflib.Graph()\n",
    "\n",
    "    # First hop\n",
    "    for triple in g.triples((None, None, URIRef(subject.iri))):\n",
    "        describe_graph.add(triple)\n",
    "    for triple in g.triples((URIRef(subject.iri), None, None)):\n",
    "        describe_graph.add(triple)\n",
    "\n",
    "    # Second hop\n",
    "    for triple in list(describe_graph.triples((None, None, None))):\n",
    "        if triple[0] in individuals and triple[2] in individuals: # restrict subject and object to be an individual   \n",
    "            for second_hop_triple in g.triples((triple[0], None, None)):\n",
    "                describe_graph.add(second_hop_triple)\n",
    "            for second_hop_triple in g.triples((triple[2], None, None)):\n",
    "                describe_graph.add(second_hop_triple)\n",
    "            for second_hop_triple in g.triples((None, None, triple[0])):\n",
    "                describe_graph.add(second_hop_triple)\n",
    "            for second_hop_triple in g.triples((None, None, triple[2])):\n",
    "                describe_graph.add(second_hop_triple)\n",
    "\n",
    "    classes = get_classes_for_individual(subject)\n",
    "    classes = \"_\".join(classes)\n",
    "    describe_graph.serialize(destination=f'datasets/{dataset_name}_input_graphs_filtered/{classes}_{subject.name}.ttl', format=\"ttl\")"
   ]
  }
 ],
 "metadata": {
  "kernelspec": {
   "display_name": "base",
   "language": "python",
   "name": "python3"
  },
  "language_info": {
   "codemirror_mode": {
    "name": "ipython",
    "version": 3
   },
   "file_extension": ".py",
   "mimetype": "text/x-python",
   "name": "python",
   "nbconvert_exporter": "python",
   "pygments_lexer": "ipython3",
   "version": "3.8.16"
  }
 },
 "nbformat": 4,
 "nbformat_minor": 5
}
