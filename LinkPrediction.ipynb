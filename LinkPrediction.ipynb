{
 "cells": [
  {
   "cell_type": "code",
   "execution_count": 1,
   "id": "761fa5f2-c0ad-4fea-84bc-6ecbcf759d04",
   "metadata": {},
   "outputs": [],
   "source": [
    "import pandas as pd\n",
    "import numpy as np\n",
    "from tqdm import tqdm\n",
    "import time\n",
    "import torch\n",
    "import rdflib\n",
    "from sklearn.metrics import precision_score, recall_score, f1_score\n",
    "\n",
    "from src.utils import *\n",
    "from src.gnn import *\n",
    "from src.sparql_queries import *"
   ]
  },
  {
   "cell_type": "markdown",
   "id": "87df7d31-b741-44b4-a997-e17df3218285",
   "metadata": {},
   "source": [
    "# 1. Data"
   ]
  },
  {
   "cell_type": "code",
   "execution_count": 2,
   "id": "182adee3-c4ac-4a76-9897-5b17c7f42b5f",
   "metadata": {},
   "outputs": [
    {
     "name": "stdout",
     "output_type": "stream",
     "text": [
      "Triplets found: 5017\n"
     ]
    }
   ],
   "source": [
    "g = rdflib.Graph()\n",
    "g.parse('datasets/family.owl')\n",
    "\n",
    "print(f'Triplets found: %d' % len(g))"
   ]
  },
  {
   "cell_type": "code",
   "execution_count": 3,
   "id": "c27b0c3a-2379-4ce2-8c29-f75430d64d40",
   "metadata": {},
   "outputs": [],
   "source": [
    "relations = list(set(g.predicates()))\n",
    "nodes = list(set(g.subjects()).union(set(g.objects())))\n",
    "\n",
    "relations_dict = {rel: i for i, rel in enumerate(relations)}\n",
    "nodes_dict = {node: i for i, node in enumerate(nodes)}\n",
    "\n",
    "nodes_dict_rev = {value: key for key, value in nodes_dict.items()}\n",
    "relations_dict_rev = {value: key for key, value in relations_dict.items()}"
   ]
  },
  {
   "cell_type": "code",
   "execution_count": 4,
   "id": "f51d2d9a-ca9a-49bc-a6ce-de64cb017415",
   "metadata": {},
   "outputs": [],
   "source": [
    "data = get_data(g, nodes_dict, relations_dict)\n",
    "data = split_edges(data)"
   ]
  },
  {
   "cell_type": "code",
   "execution_count": 5,
   "id": "9c9a71d9-df0a-4987-a2ad-eded19f4b5bd",
   "metadata": {},
   "outputs": [
    {
     "data": {
      "text/plain": [
       "HeteroData(\n",
       "  edge_index=[2, 5017],\n",
       "  edge_type=[5017],\n",
       "  val_pos_edge_index=[2, 0],\n",
       "  val_edge_type=[0],\n",
       "  test_pos_edge_index=[2, 1003],\n",
       "  test_edge_type=[1003],\n",
       "  train_pos_edge_index=[2, 4014],\n",
       "  train_edge_type=[4014]\n",
       ")"
      ]
     },
     "execution_count": 5,
     "metadata": {},
     "output_type": "execute_result"
    }
   ],
   "source": [
    "data"
   ]
  },
  {
   "cell_type": "markdown",
   "id": "fbd34f1e-e8ed-41cb-ade2-598e51112aba",
   "metadata": {},
   "source": [
    "# 2. GNN"
   ]
  },
  {
   "cell_type": "markdown",
   "id": "b4c27ccc-782b-4e6f-813f-10a72e01f989",
   "metadata": {},
   "source": [
    "**Train**"
   ]
  },
  {
   "cell_type": "code",
   "execution_count": 6,
   "id": "3ad75650-5fe6-4014-be3b-8c90272091bc",
   "metadata": {},
   "outputs": [
    {
     "name": "stdout",
     "output_type": "stream",
     "text": [
      "Epoch: 0, Loss: 0.6932, Hits@1: 0.931, Hits@10: 0.962\n",
      "Epoch: 100, Loss: 0.6931, Hits@1: 0.931, Hits@10: 0.966\n",
      "Epoch: 200, Loss: 0.6932, Hits@1: 0.932, Hits@10: 0.960\n",
      "Epoch: 300, Loss: 0.6930, Hits@1: 0.935, Hits@10: 0.968\n",
      "Run time: 445 seconds, 7 minutes\n"
     ]
    }
   ],
   "source": [
    "st = time.time()\n",
    "model = GNN()\n",
    "\n",
    "for epoch in range(300+1):\n",
    "    loss = model._train(data, len(nodes), len(relations))\n",
    "    if (epoch % 100) == 0:\n",
    "        hits1, hits10 = model._eval(data)\n",
    "        print(f'Epoch: {epoch}, Loss: {loss:.4f}, Hits@1: {hits1:.3f}, Hits@10: {hits10:.3f}')\n",
    "\n",
    "torch.save(model, f'models/RGCN')\n",
    "et = time.time()\n",
    "elapsed_time = et - st\n",
    "print(f'Run time: {elapsed_time:.0f} seconds, {elapsed_time/60:.0f} minutes')"
   ]
  },
  {
   "cell_type": "markdown",
   "id": "e3695fb2-fc34-4c40-acec-10cf70f9a7e9",
   "metadata": {},
   "source": [
    "**Eval**"
   ]
  },
  {
   "cell_type": "code",
   "execution_count": 7,
   "id": "477909fa-bce0-499c-bd3a-98f42897aa88",
   "metadata": {},
   "outputs": [
    {
     "name": "stdout",
     "output_type": "stream",
     "text": [
      "Hits@1: 0.935, Hits@10: 0.968\n"
     ]
    }
   ],
   "source": [
    "model = torch.load(f'models/RGCN')\n",
    "hits1, hits10 = model._eval(data)\n",
    "print(f'Hits@1: {hits1:.3f}, Hits@10: {hits10:.3f}')"
   ]
  },
  {
   "cell_type": "markdown",
   "id": "e038ffe5-3423-49df-bd62-f69964b062d4",
   "metadata": {},
   "source": [
    "# 3. Generate New Links"
   ]
  },
  {
   "cell_type": "markdown",
   "id": "2fae62b8-d00d-4593-b777-cbc253abf2e0",
   "metadata": {},
   "source": [
    "### GNN: we add new links with a low prediction score to the ontology"
   ]
  },
  {
   "cell_type": "code",
   "execution_count": 6,
   "id": "4c4dcc0c-2c24-499b-a3b3-77bc5814aba1",
   "metadata": {},
   "outputs": [],
   "source": [
    "def add_triples_gnn(g, data, k):\n",
    "    new_g_gnn = copy_graph(g)\n",
    "    for etype in tqdm(range(len(relations))):    \n",
    "        mask = data.edge_type == etype\n",
    "        edge_index = torch.tensor([data.edge_index[0,mask].tolist(),data.edge_index[1,mask].tolist()])\n",
    "        edge_type = data.edge_type[mask]\n",
    "\n",
    "        output = model.model.encode(edge_index, edge_type)\n",
    "\n",
    "        link_pred_scores = torch.matmul(output, output.T)\n",
    "        output_norm = torch.norm(output, dim=1, keepdim=True)\n",
    "        link_pred_scores_norm = link_pred_scores / (output_norm * output_norm.T)\n",
    "        link_pred_scores_norm[edge_index[0,:],edge_index[1,:]] = 1\n",
    "\n",
    "        # Find the indices of the top k smallest elements\n",
    "        _, topk_indices = torch.topk(link_pred_scores_norm.flatten(), k*2, largest=False)\n",
    "        row_indices = topk_indices // link_pred_scores_norm.size(1)\n",
    "        col_indices = topk_indices % link_pred_scores_norm.size(1)\n",
    "\n",
    "        # Filter out indices where row index is greater than column index\n",
    "        valid_indices_mask = row_indices < col_indices\n",
    "        row_indices = row_indices[valid_indices_mask]\n",
    "        col_indices = col_indices[valid_indices_mask]\n",
    "        \n",
    "        # Add generated triples\n",
    "        node1_lst = [nodes_dict_rev[key] for key in row_indices.tolist()]\n",
    "        node2_lst = [nodes_dict_rev[key] for key in col_indices.tolist()]\n",
    "        edge_type_uri = relations_dict_rev[etype]\n",
    "        new_g_gnn = add_links(new_g_gnn, node1_lst, node2_lst, edge_type_uri)\n",
    "        \n",
    "    return new_g_gnn"
   ]
  },
  {
   "cell_type": "markdown",
   "id": "da772b78-efc7-4218-867e-fce6407fae7a",
   "metadata": {},
   "source": [
    "### Random: we add random links to the ontology"
   ]
  },
  {
   "cell_type": "code",
   "execution_count": 7,
   "id": "b7762fba-c109-4ab8-b6f5-64a94a2e8c7b",
   "metadata": {},
   "outputs": [],
   "source": [
    "def add_triples_random(g, data, k):\n",
    "    new_g_random = copy_graph(g)\n",
    "    for etype in tqdm(range(len(relations))):  \n",
    "        mask = data.edge_type == etype\n",
    "        edge_index = torch.tensor([data.edge_index[0,mask].tolist(),data.edge_index[1,mask].tolist()])\n",
    "        \n",
    "        neg_edge_index = negative_sampling(data.edge_index, num_neg_samples = k)\n",
    "        \n",
    "        # Add generated triples\n",
    "        node1_lst = [nodes_dict_rev[key] for key in neg_edge_index[0,:].tolist()]\n",
    "        node2_lst = [nodes_dict_rev[key] for key in neg_edge_index[1,:].tolist()]\n",
    "        edge_type_uri = relations_dict_rev[etype]\n",
    "        new_g_random = add_links(new_g_random, node1_lst, node2_lst, edge_type_uri)\n",
    "\n",
    "    return new_g_random"
   ]
  },
  {
   "cell_type": "markdown",
   "id": "3676690b-4924-4045-9932-7e0963792cdf",
   "metadata": {},
   "source": [
    "# 4. Experiments"
   ]
  },
  {
   "cell_type": "code",
   "execution_count": 8,
   "id": "7ecb33c6-6bba-4722-b9ae-95638bc0eaa8",
   "metadata": {},
   "outputs": [],
   "source": [
    "query1,query2,query3 = get_queries()"
   ]
  },
  {
   "cell_type": "code",
   "execution_count": null,
   "id": "36db4ba1-6081-44b2-ba99-bfbdaa58fbd1",
   "metadata": {},
   "outputs": [],
   "source": [
    "# Add k triples per edge_type\n",
    "k = 100000\n",
    "model = torch.load(f'models/RGCN')\n",
    "\n",
    "new_g_gnn = add_triples_gnn(g, data, k)\n",
    "new_g_random = add_triples_random(g, data, k)\n",
    "\n",
    "print(f'Triplets found: %d' % len(new_g_gnn))\n",
    "print('Contradictions:')\n",
    "for q in [query1,query2,query3]:\n",
    "    print_result(new_g_gnn, q)\n",
    "\n",
    "print(f'Triplets found: %d' % len(new_g_random))\n",
    "print('Contradictions:')\n",
    "for q in [query1,query2,query3]:\n",
    "    print_result(new_g_random, q)"
   ]
  },
  {
   "cell_type": "markdown",
   "id": "ca7e30f8-cd3a-4d83-a8bc-d7c52c5b19fe",
   "metadata": {},
   "source": [
    "###########################################################################################################"
   ]
  },
  {
   "cell_type": "markdown",
   "id": "2f2c8b22-66a5-4449-88fb-d459f23bc6bd",
   "metadata": {},
   "source": [
    "query = \"\"\"\n",
    "PREFIX owl: <http://www.w3.org/2002/07/owl#>\n",
    "PREFIX rdf: <http://www.w3.org/1999/02/22-rdf-syntax-ns#>\n",
    "PREFIX rdfs: <http://www.w3.org/2000/01/rdf-schema#>\n",
    "PREFIX fo: <http://www.co-ode.org/roberts/family-tree.owl#>\n",
    "SELECT ?personA ?personB WHERE {\n",
    " \n",
    " ?personA rdf:type owl:NamedIndividual .\n",
    " ?personB rdf:type owl:NamedIndividual .\n",
    "\n",
    " { ?personA fo:hasSister ?personB }\n",
    " UNION\n",
    " { ?personA fo:hasBrother ?personB } .\n",
    "\n",
    " { ?personA fo:hasMother ?personB }\n",
    " UNION\n",
    " { ?personA fo:hasFather ?personB } .\n",
    "\n",
    " FILTER (?personA != ?personB)\n",
    "}\n",
    "\"\"\""
   ]
  },
  {
   "cell_type": "markdown",
   "id": "fa90f9c6-7eac-4097-948f-e9c0711c527f",
   "metadata": {},
   "source": [
    "qres = new_g_gnn.query(query)\n",
    "for row in qres:\n",
    "    print(f\"{row.personA}, {row.personB}\")"
   ]
  },
  {
   "cell_type": "markdown",
   "id": "dd714d09-79e5-4450-9735-acf846c8f827",
   "metadata": {},
   "source": [
    "hasMalePartner,hasFemalePartner"
   ]
  },
  {
   "cell_type": "markdown",
   "id": "fc8ae326-497b-49af-bda5-b4e68525570a",
   "metadata": {},
   "source": [
    "james_bright_1809 = URIRef('http://www.co-ode.org/roberts/family-tree.owl#james_bright_1809')\n",
    "elisa_amelia_hewett_1858 = URIRef('http://www.co-ode.org/roberts/family-tree.owl#elisa_amelia_hewett_1858') \n",
    "hasSister = URIRef('http://www.co-ode.org/roberts/family-tree.owl#hasSister') \n",
    "hasMother = URIRef('http://www.co-ode.org/roberts/family-tree.owl#hasMother') \n",
    "\n",
    "g.add((james_bright_1809,hasSister,elisa_amelia_hewett_1858))\n",
    "g.add((james_bright_1809,hasMother,elisa_amelia_hewett_1858))"
   ]
  },
  {
   "cell_type": "markdown",
   "id": "ee09c338-17d9-4531-8166-604dffa3ff81",
   "metadata": {},
   "source": [
    "qres = g.query(query)\n",
    "for row in qres:\n",
    "    print(f\"{row.contradictions}\")"
   ]
  }
 ],
 "metadata": {
  "kernelspec": {
   "display_name": "Python 3 (ipykernel)",
   "language": "python",
   "name": "python3"
  },
  "language_info": {
   "codemirror_mode": {
    "name": "ipython",
    "version": 3
   },
   "file_extension": ".py",
   "mimetype": "text/x-python",
   "name": "python",
   "nbconvert_exporter": "python",
   "pygments_lexer": "ipython3",
   "version": "3.8.16"
  }
 },
 "nbformat": 4,
 "nbformat_minor": 5
}
