{
 "cells": [
  {
   "cell_type": "code",
   "execution_count": 1,
   "metadata": {},
   "outputs": [],
   "source": [
    "import rdflib\n",
    "from rdflib import Graph\n",
    "from owlrl import DeductiveClosure, OWLRL_Extension\n",
    "from tqdm import tqdm\n",
    "from glob import glob"
   ]
  },
  {
   "cell_type": "code",
   "execution_count": 2,
   "metadata": {},
   "outputs": [],
   "source": [
    "dataset_name = 'OWL2DL-1'\n",
    "# dataset_name = 'family'"
   ]
  },
  {
   "cell_type": "code",
   "execution_count": null,
   "metadata": {},
   "outputs": [
    {
     "name": "stderr",
     "output_type": "stream",
     "text": [
      "  2%|▏         | 67/3622 [2:15:21<429:21:29, 434.79s/it]"
     ]
    }
   ],
   "source": [
    "for input_graph_path in tqdm(sorted(glob(f'datasets/{dataset_name}_input_graphs/' + \"*\"))):\n",
    "    g = rdflib.Graph()\n",
    "    g.parse(input_graph_path, format=\"turtle\")\n",
    "    DeductiveClosure(OWLRL_Extension).expand(g)\n",
    "    output_path = input_graph_path.replace('_input', '_inferred')\n",
    "    g.serialize(output_path, format=\"turtle\")"
   ]
  }
 ],
 "metadata": {
  "kernelspec": {
   "display_name": "base",
   "language": "python",
   "name": "python3"
  },
  "language_info": {
   "codemirror_mode": {
    "name": "ipython",
    "version": 3
   },
   "file_extension": ".py",
   "mimetype": "text/x-python",
   "name": "python",
   "nbconvert_exporter": "python",
   "pygments_lexer": "ipython3",
   "version": "3.12.7"
  }
 },
 "nbformat": 4,
 "nbformat_minor": 2
}
