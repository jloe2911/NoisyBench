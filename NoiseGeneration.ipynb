{
 "cells": [
  {
   "cell_type": "code",
   "execution_count": 1,
   "id": "761fa5f2-c0ad-4fea-84bc-6ecbcf759d04",
   "metadata": {},
   "outputs": [
    {
     "name": "stderr",
     "output_type": "stream",
     "text": [
      "* Owlready2 * Warning: optimized Cython parser module 'owlready2_optimized' is not available, defaulting to slower Python implementation\n",
      "\n",
      "Warning: SQLite3 version 3.40.0 and 3.41.2 have huge performance regressions; please install version 3.41.1 or 3.42!\n",
      "\n"
     ]
    }
   ],
   "source": [
    "import pandas as pd\n",
    "import numpy as np\n",
    "from tqdm import tqdm\n",
    "import time\n",
    "import torch\n",
    "from torch_geometric.utils import negative_sampling\n",
    "import rdflib\n",
    "from rdflib import RDF, Namespace, BNode\n",
    "from owlready2 import get_ontology, Thing, AllDisjoint, FunctionalProperty\n",
    "from sklearn.metrics import precision_score, recall_score, f1_score\n",
    "\n",
    "from src.utils import *\n",
    "from src.gnn import *\n",
    "from src.sparql_queries import *"
   ]
  },
  {
   "cell_type": "code",
   "execution_count": 2,
   "id": "f479add1-d4dd-44ff-9119-cd18dd1edd91",
   "metadata": {},
   "outputs": [
    {
     "name": "stdout",
     "output_type": "stream",
     "text": [
      "cuda\n"
     ]
    }
   ],
   "source": [
    "device = torch.device('cuda' if torch.cuda.is_available() else 'cpu')\n",
    "print(device)"
   ]
  },
  {
   "cell_type": "code",
   "execution_count": 3,
   "id": "4f51ef75-efba-4f30-8032-42ed4b0fc980",
   "metadata": {},
   "outputs": [],
   "source": [
    "#dataset_name = 'family'\n",
    "#dataset_name = 'pizza'\n",
    "dataset_name = 'OWL2DL-1'"
   ]
  },
  {
   "cell_type": "code",
   "execution_count": 4,
   "id": "da7b16e0-0fa3-4d0a-988d-4d2f1bc3cb40",
   "metadata": {},
   "outputs": [],
   "source": [
    "if dataset_name == 'family':\n",
    "    uri = Namespace(\"http://www.co-ode.org/roberts/family-tree.owl#\")\n",
    "elif dataset_name == 'pizza':\n",
    "    uri = Namespace(\"http://www.co-ode.org/ontologies/pizza/pizza.owl#\")\n",
    "elif dataset_name.startswith('OWL2DL-'):\n",
    "    uri = Namespace(\"http://benchmark/OWL2Bench#\")"
   ]
  },
  {
   "cell_type": "markdown",
   "id": "87df7d31-b741-44b4-a997-e17df3218285",
   "metadata": {},
   "source": [
    "# 1. Data"
   ]
  },
  {
   "cell_type": "code",
   "execution_count": 5,
   "id": "182adee3-c4ac-4a76-9897-5b17c7f42b5f",
   "metadata": {},
   "outputs": [
    {
     "name": "stdout",
     "output_type": "stream",
     "text": [
      "Triplets found in OWL2DL-1.owl: 55215\n"
     ]
    }
   ],
   "source": [
    "g = rdflib.Graph()\n",
    "g.parse(f'datasets/{dataset_name}.owl')\n",
    "num_triples = len(g)\n",
    "print(f'Triplets found in {dataset_name}.owl: %d' % num_triples)\n",
    "\n",
    "onto = get_ontology(f'datasets/{dataset_name}.owl').load()"
   ]
  },
  {
   "cell_type": "code",
   "execution_count": 6,
   "id": "c27b0c3a-2379-4ce2-8c29-f75430d64d40",
   "metadata": {},
   "outputs": [],
   "source": [
    "relations = list(set(g.predicates()))\n",
    "nodes = list(set(g.subjects()).union(set(g.objects())))\n",
    "\n",
    "relations_dict = {rel: i for i, rel in enumerate(relations)}\n",
    "nodes_dict = {node: i for i, node in enumerate(nodes)}\n",
    "\n",
    "nodes_dict_rev = {value: key for key, value in nodes_dict.items()}\n",
    "relations_dict_rev = {value: key for key, value in relations_dict.items()}"
   ]
  },
  {
   "cell_type": "code",
   "execution_count": 7,
   "id": "f51d2d9a-ca9a-49bc-a6ce-de64cb017415",
   "metadata": {},
   "outputs": [],
   "source": [
    "data = get_data(g, nodes_dict, relations_dict)\n",
    "data = split_edges(data)"
   ]
  },
  {
   "cell_type": "code",
   "execution_count": 8,
   "id": "9c9a71d9-df0a-4987-a2ad-eded19f4b5bd",
   "metadata": {},
   "outputs": [
    {
     "data": {
      "text/plain": [
       "HeteroData(\n",
       "  edge_index=[2, 55215],\n",
       "  edge_type=[55215],\n",
       "  val_pos_edge_index=[2, 0],\n",
       "  val_edge_type=[0],\n",
       "  test_pos_edge_index=[2, 11043],\n",
       "  test_edge_type=[11043],\n",
       "  train_pos_edge_index=[2, 44172],\n",
       "  train_edge_type=[44172]\n",
       ")"
      ]
     },
     "execution_count": 8,
     "metadata": {},
     "output_type": "execute_result"
    }
   ],
   "source": [
    "data"
   ]
  },
  {
   "cell_type": "markdown",
   "id": "fbd34f1e-e8ed-41cb-ade2-598e51112aba",
   "metadata": {},
   "source": [
    "# 2. GNN"
   ]
  },
  {
   "cell_type": "markdown",
   "id": "b4c27ccc-782b-4e6f-813f-10a72e01f989",
   "metadata": {},
   "source": [
    "**Train**"
   ]
  },
  {
   "cell_type": "code",
   "execution_count": 32,
   "id": "3ad75650-5fe6-4014-be3b-8c90272091bc",
   "metadata": {},
   "outputs": [
    {
     "name": "stdout",
     "output_type": "stream",
     "text": [
      "Epoch: 0, Loss: 0.6932\n",
      "Epoch: 1, Loss: 0.6921\n",
      "Epoch: 2, Loss: 0.6787\n",
      "Epoch: 3, Loss: 0.6240\n",
      "Epoch: 4, Loss: 0.4950\n",
      "Epoch: 5, Loss: 0.3812\n",
      "Epoch: 6, Loss: 0.2562\n",
      "Epoch: 7, Loss: 0.1760\n",
      "Epoch: 8, Loss: 0.3110\n",
      "Epoch: 9, Loss: 0.1692\n",
      "Epoch: 10, Loss: 0.1697\n",
      "Run time: 33 seconds, 1 minutes\n"
     ]
    }
   ],
   "source": [
    "st = time.time()\n",
    "model = GNN(device, len(nodes), len(relations))\n",
    "\n",
    "for epoch in range(10+1):\n",
    "    loss = model._train(data.to(device))\n",
    "    print(f'Epoch: {epoch}, Loss: {loss:.4f}')\n",
    "\n",
    "torch.save(model, f'models/RGCN_{dataset_name}')\n",
    "et = time.time()\n",
    "elapsed_time = et - st\n",
    "print(f'Run time: {elapsed_time:.0f} seconds, {elapsed_time/60:.0f} minutes')"
   ]
  },
  {
   "cell_type": "markdown",
   "id": "e3695fb2-fc34-4c40-acec-10cf70f9a7e9",
   "metadata": {},
   "source": [
    "**Eval**"
   ]
  },
  {
   "cell_type": "code",
   "execution_count": 33,
   "id": "477909fa-bce0-499c-bd3a-98f42897aa88",
   "metadata": {},
   "outputs": [
    {
     "ename": "KeyboardInterrupt",
     "evalue": "",
     "output_type": "error",
     "traceback": [
      "\u001b[1;31m---------------------------------------------------------------------------\u001b[0m",
      "\u001b[1;31mKeyboardInterrupt\u001b[0m                         Traceback (most recent call last)",
      "\u001b[1;32m~\\AppData\\Local\\Temp\\ipykernel_7704\\3574680380.py\u001b[0m in \u001b[0;36m<module>\u001b[1;34m\u001b[0m\n\u001b[0;32m      1\u001b[0m \u001b[0mmodel\u001b[0m \u001b[1;33m=\u001b[0m \u001b[0mtorch\u001b[0m\u001b[1;33m.\u001b[0m\u001b[0mload\u001b[0m\u001b[1;33m(\u001b[0m\u001b[1;34mf'models/RGCN_{dataset_name}'\u001b[0m\u001b[1;33m)\u001b[0m\u001b[1;33m\u001b[0m\u001b[1;33m\u001b[0m\u001b[0m\n\u001b[1;32m----> 2\u001b[1;33m \u001b[0mmrr\u001b[0m\u001b[1;33m,\u001b[0m \u001b[0mmean_rank\u001b[0m\u001b[1;33m,\u001b[0m \u001b[0mmedian_rank\u001b[0m\u001b[1;33m,\u001b[0m \u001b[0mhits_at_5\u001b[0m\u001b[1;33m,\u001b[0m \u001b[0mhits_at_10\u001b[0m \u001b[1;33m=\u001b[0m \u001b[0mmodel\u001b[0m\u001b[1;33m.\u001b[0m\u001b[0m_eval\u001b[0m\u001b[1;33m(\u001b[0m\u001b[0mdata\u001b[0m\u001b[1;33m.\u001b[0m\u001b[0mto\u001b[0m\u001b[1;33m(\u001b[0m\u001b[0mdevice\u001b[0m\u001b[1;33m)\u001b[0m\u001b[1;33m)\u001b[0m\u001b[1;33m\u001b[0m\u001b[1;33m\u001b[0m\u001b[0m\n\u001b[0m\u001b[0;32m      3\u001b[0m \u001b[0mprint\u001b[0m\u001b[1;33m(\u001b[0m\u001b[1;34mf'MRR: {mrr:.3f}, Mean Rank: {mean_rank:.3f}, Median Rank: {median_rank:.3f}, Hits@5: {hits_at_5:.3f}, Hits@10: {hits_at_10:.3f}'\u001b[0m\u001b[1;33m)\u001b[0m\u001b[1;33m\u001b[0m\u001b[1;33m\u001b[0m\u001b[0m\n",
      "\u001b[1;32m~\\github\\PhD\\NoisyBench\\src\\gnn.py\u001b[0m in \u001b[0;36m_eval\u001b[1;34m(self, data)\u001b[0m\n\u001b[0;32m     86\u001b[0m             \u001b[0moutput\u001b[0m \u001b[1;33m=\u001b[0m \u001b[0mself\u001b[0m\u001b[1;33m.\u001b[0m\u001b[0mmodel\u001b[0m\u001b[1;33m.\u001b[0m\u001b[0mencode\u001b[0m\u001b[1;33m(\u001b[0m\u001b[0mdata\u001b[0m\u001b[1;33m.\u001b[0m\u001b[0mtest_pos_edge_index\u001b[0m\u001b[1;33m,\u001b[0m \u001b[0mdata\u001b[0m\u001b[1;33m.\u001b[0m\u001b[0mtest_edge_type\u001b[0m\u001b[1;33m)\u001b[0m\u001b[1;33m\u001b[0m\u001b[1;33m\u001b[0m\u001b[0m\n\u001b[0;32m     87\u001b[0m \u001b[1;33m\u001b[0m\u001b[0m\n\u001b[1;32m---> 88\u001b[1;33m             mrr, mean_rank, median_rank, hits5, hits10 = eval_hits(edge_index=data.test_pos_edge_index,\n\u001b[0m\u001b[0;32m     89\u001b[0m                                                                    \u001b[0mtail_pred\u001b[0m\u001b[1;33m=\u001b[0m\u001b[1;36m1\u001b[0m\u001b[1;33m,\u001b[0m\u001b[1;33m\u001b[0m\u001b[1;33m\u001b[0m\u001b[0m\n\u001b[0;32m     90\u001b[0m                                                                    \u001b[0moutput\u001b[0m\u001b[1;33m=\u001b[0m\u001b[0moutput\u001b[0m\u001b[1;33m,\u001b[0m\u001b[1;33m\u001b[0m\u001b[1;33m\u001b[0m\u001b[0m\n",
      "\u001b[1;32m~\\github\\PhD\\NoisyBench\\src\\gnn.py\u001b[0m in \u001b[0;36meval_hits\u001b[1;34m(edge_index, tail_pred, output, max_num, device)\u001b[0m\n\u001b[0;32m    110\u001b[0m             \u001b[0mx\u001b[0m \u001b[1;33m=\u001b[0m \u001b[0mtorch\u001b[0m\u001b[1;33m.\u001b[0m\u001b[0mindex_select\u001b[0m\u001b[1;33m(\u001b[0m\u001b[0moutput\u001b[0m\u001b[1;33m,\u001b[0m \u001b[1;36m0\u001b[0m\u001b[1;33m,\u001b[0m \u001b[0medge_index\u001b[0m\u001b[1;33m[\u001b[0m\u001b[1;36m1\u001b[0m\u001b[1;33m,\u001b[0m \u001b[0midx\u001b[0m\u001b[1;33m]\u001b[0m\u001b[1;33m)\u001b[0m\u001b[1;33m\u001b[0m\u001b[1;33m\u001b[0m\u001b[0m\n\u001b[0;32m    111\u001b[0m \u001b[1;33m\u001b[0m\u001b[0m\n\u001b[1;32m--> 112\u001b[1;33m         candidates, candidates_embeds = sample_negative_edges_idx(idx=idx,\n\u001b[0m\u001b[0;32m    113\u001b[0m                                                                   \u001b[0medge_index\u001b[0m\u001b[1;33m=\u001b[0m\u001b[0medge_index\u001b[0m\u001b[1;33m,\u001b[0m\u001b[1;33m\u001b[0m\u001b[1;33m\u001b[0m\u001b[0m\n\u001b[0;32m    114\u001b[0m                                                                   \u001b[0mtail_pred\u001b[0m\u001b[1;33m=\u001b[0m\u001b[0mtail_pred\u001b[0m\u001b[1;33m,\u001b[0m\u001b[1;33m\u001b[0m\u001b[1;33m\u001b[0m\u001b[0m\n",
      "\u001b[1;32m~\\github\\PhD\\NoisyBench\\src\\gnn.py\u001b[0m in \u001b[0;36msample_negative_edges_idx\u001b[1;34m(idx, edge_index, tail_pred, output, max_num, device)\u001b[0m\n\u001b[0;32m    148\u001b[0m             \u001b[0mt\u001b[0m \u001b[1;33m=\u001b[0m \u001b[0mnodes\u001b[0m\u001b[1;33m[\u001b[0m\u001b[0mnum_neg_samples\u001b[0m\u001b[1;33m]\u001b[0m\u001b[1;33m\u001b[0m\u001b[1;33m\u001b[0m\u001b[0m\n\u001b[0;32m    149\u001b[0m             \u001b[0mh\u001b[0m \u001b[1;33m=\u001b[0m \u001b[0medge_index\u001b[0m\u001b[1;33m[\u001b[0m\u001b[1;36m0\u001b[0m\u001b[1;33m,\u001b[0m \u001b[0midx\u001b[0m\u001b[1;33m]\u001b[0m\u001b[1;33m.\u001b[0m\u001b[0mitem\u001b[0m\u001b[1;33m(\u001b[0m\u001b[1;33m)\u001b[0m\u001b[1;33m\u001b[0m\u001b[1;33m\u001b[0m\u001b[0m\n\u001b[1;32m--> 150\u001b[1;33m             \u001b[1;32mif\u001b[0m \u001b[0mh\u001b[0m \u001b[1;32mnot\u001b[0m \u001b[1;32min\u001b[0m \u001b[0medge_index\u001b[0m\u001b[1;33m[\u001b[0m\u001b[1;36m0\u001b[0m\u001b[1;33m]\u001b[0m \u001b[1;32mor\u001b[0m \u001b[0mt\u001b[0m \u001b[1;32mnot\u001b[0m \u001b[1;32min\u001b[0m \u001b[0medge_index\u001b[0m\u001b[1;33m[\u001b[0m\u001b[1;36m1\u001b[0m\u001b[1;33m]\u001b[0m\u001b[1;33m:\u001b[0m\u001b[1;33m\u001b[0m\u001b[1;33m\u001b[0m\u001b[0m\n\u001b[0m\u001b[0;32m    151\u001b[0m                 \u001b[0mcandidates\u001b[0m\u001b[1;33m.\u001b[0m\u001b[0mappend\u001b[0m\u001b[1;33m(\u001b[0m\u001b[0mt\u001b[0m\u001b[1;33m)\u001b[0m\u001b[1;33m\u001b[0m\u001b[1;33m\u001b[0m\u001b[0m\n\u001b[0;32m    152\u001b[0m         \u001b[1;32melse\u001b[0m\u001b[1;33m:\u001b[0m\u001b[1;33m\u001b[0m\u001b[1;33m\u001b[0m\u001b[0m\n",
      "\u001b[1;32m~\\anaconda3\\lib\\site-packages\\torch\\_tensor.py\u001b[0m in \u001b[0;36m__contains__\u001b[1;34m(self, element)\u001b[0m\n\u001b[0;32m    995\u001b[0m         \u001b[1;32mif\u001b[0m \u001b[0misinstance\u001b[0m\u001b[1;33m(\u001b[0m\u001b[0melement\u001b[0m\u001b[1;33m,\u001b[0m \u001b[1;33m(\u001b[0m\u001b[0mtorch\u001b[0m\u001b[1;33m.\u001b[0m\u001b[0mTensor\u001b[0m\u001b[1;33m,\u001b[0m \u001b[0mNumber\u001b[0m\u001b[1;33m)\u001b[0m\u001b[1;33m)\u001b[0m\u001b[1;33m:\u001b[0m\u001b[1;33m\u001b[0m\u001b[1;33m\u001b[0m\u001b[0m\n\u001b[0;32m    996\u001b[0m             \u001b[1;31m# type hint doesn't understand the __contains__ result array\u001b[0m\u001b[1;33m\u001b[0m\u001b[1;33m\u001b[0m\u001b[1;33m\u001b[0m\u001b[0m\n\u001b[1;32m--> 997\u001b[1;33m             \u001b[1;32mreturn\u001b[0m \u001b[1;33m(\u001b[0m\u001b[0melement\u001b[0m \u001b[1;33m==\u001b[0m \u001b[0mself\u001b[0m\u001b[1;33m)\u001b[0m\u001b[1;33m.\u001b[0m\u001b[0many\u001b[0m\u001b[1;33m(\u001b[0m\u001b[1;33m)\u001b[0m\u001b[1;33m.\u001b[0m\u001b[0mitem\u001b[0m\u001b[1;33m(\u001b[0m\u001b[1;33m)\u001b[0m  \u001b[1;31m# type: ignore[union-attr]\u001b[0m\u001b[1;33m\u001b[0m\u001b[1;33m\u001b[0m\u001b[0m\n\u001b[0m\u001b[0;32m    998\u001b[0m \u001b[1;33m\u001b[0m\u001b[0m\n\u001b[0;32m    999\u001b[0m         raise RuntimeError(\n",
      "\u001b[1;31mKeyboardInterrupt\u001b[0m: "
     ]
    }
   ],
   "source": [
    "#model = torch.load(f'models/RGCN_{dataset_name}')\n",
    "#mrr, mean_rank, median_rank, hits_at_5, hits_at_10 = model._eval(data.to(device))\n",
    "#print(f'MRR: {mrr:.3f}, Mean Rank: {mean_rank:.3f}, Median Rank: {median_rank:.3f}, Hits@5: {hits_at_5:.3f}, Hits@10: {hits_at_10:.3f}')"
   ]
  },
  {
   "cell_type": "markdown",
   "id": "e038ffe5-3423-49df-bd62-f69964b062d4",
   "metadata": {},
   "source": [
    "# 3. Noise Generation"
   ]
  },
  {
   "cell_type": "code",
   "execution_count": 9,
   "id": "fd6dce78-838f-4f8c-9f1a-28a21d090387",
   "metadata": {},
   "outputs": [],
   "source": [
    "keys = keys = [rel for rel in relations if not rel.startswith('http://www.w3.org/')]\n",
    "edge_types = [relations_dict[key] for key in keys]"
   ]
  },
  {
   "cell_type": "code",
   "execution_count": 10,
   "id": "eec6a5ab-bbd7-413f-b8fb-f5e26c22921c",
   "metadata": {},
   "outputs": [],
   "source": [
    "individuals = []\n",
    "\n",
    "qres = g.query(\"\"\"\n",
    "PREFIX owl: <http://www.w3.org/2002/07/owl#>\n",
    "PREFIX rdf: <http://www.w3.org/1999/02/22-rdf-syntax-ns#>\n",
    "PREFIX rdfs: <http://www.w3.org/2000/01/rdf-schema#>\n",
    "SELECT ?s WHERE {\n",
    " ?s rdf:type owl:NamedIndividual .\n",
    "}\n",
    "\"\"\")\n",
    "\n",
    "for row in qres:\n",
    "    individuals.append(row.s)\n",
    "\n",
    "individual_id = [nodes_dict[individual] for individual in individuals]\n",
    "individual_names = [nodes_dict_rev[individual_id] for individual_id in individual_id]\n",
    "individual_names_dict = dict(zip(list(set(np.arange(len(individual_id)))), individual_names))"
   ]
  },
  {
   "cell_type": "markdown",
   "id": "2fae62b8-d00d-4593-b777-cbc253abf2e0",
   "metadata": {},
   "source": [
    "## 3.1. GNN: we add k triples with a low prediction score to the ontology"
   ]
  },
  {
   "cell_type": "code",
   "execution_count": 11,
   "id": "4c4dcc0c-2c24-499b-a3b3-77bc5814aba1",
   "metadata": {},
   "outputs": [],
   "source": [
    "def add_triples_gnn(g, data, edge_types, noise_percentage):\n",
    "    k = int((noise_percentage * num_triples) / len(edge_types))\n",
    "    noisy_g_gnn = rdflib.Graph()\n",
    "    new_g_gnn = copy_graph(g)\n",
    "    for etype in tqdm(edge_types):   \n",
    "        mask = data.edge_type == etype\n",
    "        edge_index = torch.tensor([data.edge_index[0,mask].tolist(),data.edge_index[1,mask].tolist()])\n",
    "        edge_type = data.edge_type[mask]\n",
    "\n",
    "        output = model.model.encode(edge_index.to(device), edge_type.to(device))\n",
    "\n",
    "        link_pred_scores = torch.matmul(output, output.T)\n",
    "        output_norm = torch.norm(output, dim=1, keepdim=True)\n",
    "        link_pred_scores_norm = link_pred_scores / (output_norm * output_norm.T)\n",
    "        \n",
    "        # We do not want to generate links that already exists\n",
    "        # We want the subject and object to be an individual \n",
    "        link_pred_scores_norm[edge_index[0,:],edge_index[1,:]] = 1\n",
    "        subset = link_pred_scores_norm[individual_id][:, individual_id]\n",
    "\n",
    "        # Find the indices of the top k smallest elements\n",
    "        _, topk_indices = torch.topk(subset.flatten(), k*2, largest=False)\n",
    "        row_indices = topk_indices // subset.size(1)\n",
    "        col_indices = topk_indices % subset.size(1)\n",
    "\n",
    "        # Filter out indices where row index is greater than column index\n",
    "        valid_indices_mask = row_indices < col_indices\n",
    "        row_indices = row_indices[valid_indices_mask]\n",
    "        col_indices = col_indices[valid_indices_mask]\n",
    "        \n",
    "        # Add generated triples\n",
    "        node1_lst = [individual_names_dict[key] for key in row_indices.tolist()]\n",
    "        node2_lst = [individual_names_dict[key] for key in col_indices.tolist()]\n",
    "        edge_type_uri = relations_dict_rev[etype]\n",
    "        noisy_g_gnn = add_links(noisy_g_gnn, node1_lst, node2_lst, edge_type_uri)\n",
    "        new_g_gnn = add_links(new_g_gnn, node1_lst, node2_lst, edge_type_uri)\n",
    "        \n",
    "    return noisy_g_gnn, new_g_gnn"
   ]
  },
  {
   "cell_type": "markdown",
   "id": "da772b78-efc7-4218-867e-fce6407fae7a",
   "metadata": {},
   "source": [
    "## 3.2. Random: we add k random triples to the ontology"
   ]
  },
  {
   "cell_type": "code",
   "execution_count": 12,
   "id": "b7762fba-c109-4ab8-b6f5-64a94a2e8c7b",
   "metadata": {},
   "outputs": [],
   "source": [
    "def add_triples_random(g, data, edge_types, noise_percentage):\n",
    "    k = int((noise_percentage * num_triples) / len(edge_types))\n",
    "    noisy_g_random = rdflib.Graph()\n",
    "    new_g_random = copy_graph(g)\n",
    "    for etype in tqdm(edge_types):   \n",
    "        mask = data.edge_type == etype\n",
    "        edge_index = torch.tensor([data.edge_index[0,mask].tolist(),data.edge_index[1,mask].tolist()])\n",
    "        neg_edge_index = negative_sampling(edge_index, num_neg_samples=k)\n",
    "        \n",
    "        # Add generated triples\n",
    "        node1_lst = [nodes_dict_rev[key.item()] for key in neg_edge_index[0]]\n",
    "        node2_lst = [nodes_dict_rev[key.item()] for key in neg_edge_index[1]]\n",
    "        edge_type_uri = relations_dict_rev[etype]\n",
    "        noisy_g_random = add_links(noisy_g_random, node1_lst, node2_lst, edge_type_uri)\n",
    "        new_g_random = add_links(new_g_random, node1_lst, node2_lst, edge_type_uri)\n",
    "\n",
    "    return noisy_g_random, new_g_random"
   ]
  },
  {
   "cell_type": "markdown",
   "id": "7bc41e03-83f1-47a9-bb9e-db0f20d6fe18",
   "metadata": {},
   "source": [
    "## 3.3. DL: we add individuals to the ontology that belong to disjoint classes/properties"
   ]
  },
  {
   "cell_type": "code",
   "execution_count": 13,
   "id": "678fb56e-e666-4177-bb7f-0029c42ee739",
   "metadata": {},
   "outputs": [],
   "source": [
    "def add_disjoint_axioms(g, noise_percentage):\n",
    "    if len(all_disjoint_classes) > 0 and len(all_disjoint_properties) > 0: \n",
    "        k = int((noise_percentage * num_triples)/2)\n",
    "    else: \n",
    "        k = int(noise_percentage * num_triples)\n",
    "    noisy_g_disjoint = rdflib.Graph()\n",
    "    new_g_disjoint = copy_graph(g)\n",
    "    \n",
    "    #classes\n",
    "    for i in range(int((k/len(all_disjoint_classes)))):\n",
    "        try: individual = individual_names[i]\n",
    "        except IndexError: individual = uri[f'I{i}']\n",
    "        for axiom_ in range(len(all_disjoint_classes)):\n",
    "            for class_ in all_disjoint_classes[axiom_]:\n",
    "                noisy_g_disjoint.add((individual, RDF.type, uri[class_]))\n",
    "                new_g_disjoint.add((individual, RDF.type, uri[class_]))\n",
    "                \n",
    "    #properties\n",
    "    for i in range(len(all_disjoint_properties)):\n",
    "        prop1, prop2 = all_disjoint_properties[i]\n",
    "        prop1_lst = list(g.triples((None, uri[prop1], None)))\n",
    "        prop2_lst = list(g.triples((None, uri[prop2], None)))\n",
    "        \n",
    "        j=0\n",
    "        while j < int((k/len(all_disjoint_properties))):\n",
    "            try: \n",
    "                noisy_g_disjoint.add((prop1_lst[j][0], uri[prop2], prop1_lst[j][2]))\n",
    "                noisy_g_disjoint.add((prop2_lst[j][0], uri[prop1], prop2_lst[j][2]))\n",
    "                new_g_disjoint.add((prop1_lst[j][0], uri[prop2], prop1_lst[j][2]))\n",
    "                new_g_disjoint.add((prop2_lst[j][0], uri[prop1], prop2_lst[j][2]))\n",
    "            except IndexError:\n",
    "                noisy_g_disjoint.add((uri[f'S{j}P1'], uri[prop2], uri[f'O{j}P1']))\n",
    "                noisy_g_disjoint.add((uri[f'S{j}P2'], uri[prop1], uri[f'O{j}P2']))\n",
    "                new_g_disjoint.add((uri[f'S{j}P1'], uri[prop2], uri[f'O{j}P1']))\n",
    "                new_g_disjoint.add((uri[f'S{j}P2'], uri[prop1], uri[f'O{j}P2']))\n",
    "            j+=1\n",
    "\n",
    "    return noisy_g_disjoint, new_g_disjoint"
   ]
  },
  {
   "cell_type": "markdown",
   "id": "bf7835df-26ca-45dc-991a-d826b24b5d51",
   "metadata": {},
   "source": [
    "**Extracting Disjoint Class Axioms**"
   ]
  },
  {
   "cell_type": "code",
   "execution_count": 14,
   "id": "be0b95d2-0a69-4d44-9a5a-d0d273fce43e",
   "metadata": {},
   "outputs": [
    {
     "name": "stderr",
     "output_type": "stream",
     "text": [
      "* Owlready2 * Warning: ignoring cyclic type of, involving storid 399\n",
      "\n",
      "* Owlready2 * Warning: ignoring cyclic type of, involving storid 400\n",
      "\n",
      "* Owlready2 * Warning: ignoring cyclic type of, involving storid 402\n",
      "\n",
      "* Owlready2 * Warning: ignoring cyclic type of, involving storid 403\n",
      "\n",
      "* Owlready2 * Warning: ignoring cyclic type of, involving storid 519\n",
      "\n",
      "* Owlready2 * Warning: ignoring cyclic type of, involving storid 523\n",
      "\n",
      "* Owlready2 * Warning: ignoring cyclic type of, involving storid 528\n",
      "\n",
      "* Owlready2 * Warning: ignoring cyclic type of, involving storid 533\n",
      "\n",
      "* Owlready2 * Warning: ignoring cyclic type of, involving storid 560\n",
      "\n",
      "* Owlready2 * Warning: ignoring cyclic type of, involving storid 606\n",
      "\n",
      "* Owlready2 * Warning: ignoring cyclic type of, involving storid 607\n",
      "\n",
      "* Owlready2 * Warning: ignoring cyclic type of, involving storid 608\n",
      "\n",
      "* Owlready2 * Warning: ignoring cyclic type of, involving storid 617\n",
      "\n",
      "* Owlready2 * Warning: ignoring cyclic type of, involving storid 622\n",
      "\n",
      "* Owlready2 * Warning: ignoring cyclic type of, involving storid 512\n",
      "\n",
      "* Owlready2 * Warning: ignoring cyclic type of, involving storid 542\n",
      "\n",
      "* Owlready2 * Warning: ignoring cyclic type of, involving storid 548\n",
      "\n",
      "* Owlready2 * Warning: ignoring cyclic type of, involving storid 561\n",
      "\n",
      "* Owlready2 * Warning: ignoring cyclic type of, involving storid 563\n",
      "\n",
      "* Owlready2 * Warning: ignoring cyclic type of, involving storid 564\n",
      "\n",
      "* Owlready2 * Warning: ignoring cyclic type of, involving storid 565\n",
      "\n",
      "* Owlready2 * Warning: ignoring cyclic type of, involving storid 566\n",
      "\n",
      "* Owlready2 * Warning: ignoring cyclic type of, involving storid 567\n",
      "\n",
      "* Owlready2 * Warning: ignoring cyclic type of, involving storid 568\n",
      "\n",
      "* Owlready2 * Warning: ignoring cyclic type of, involving storid 511\n",
      "\n",
      "* Owlready2 * Warning: ignoring cyclic type of, involving storid 524\n",
      "\n",
      "* Owlready2 * Warning: ignoring cyclic type of, involving storid 527\n",
      "\n",
      "* Owlready2 * Warning: ignoring cyclic type of, involving storid 529\n",
      "\n",
      "* Owlready2 * Warning: ignoring cyclic type of, involving storid 532\n",
      "\n",
      "* Owlready2 * Warning: ignoring cyclic type of, involving storid 543\n",
      "\n",
      "* Owlready2 * Warning: ignoring cyclic type of, involving storid 544\n",
      "\n",
      "* Owlready2 * Warning: ignoring cyclic type of, involving storid 545\n",
      "\n",
      "* Owlready2 * Warning: ignoring cyclic type of, involving storid 546\n",
      "\n"
     ]
    }
   ],
   "source": [
    "disjoint_classes = []\n",
    "for disjoint in onto.disjoint_classes():\n",
    "    if isinstance(disjoint, AllDisjoint):\n",
    "        disjoint_classes.append(disjoint)\n",
    "\n",
    "all_disjoint_classes = []\n",
    "for disjoint in disjoint_classes:\n",
    "    all_disjoint_classes.append([cls.name for cls in disjoint.entities])"
   ]
  },
  {
   "cell_type": "markdown",
   "id": "84598a6f-8305-40c9-9927-15a75e06f7d1",
   "metadata": {},
   "source": [
    "**Extracting Disjoint Property Axioms**"
   ]
  },
  {
   "cell_type": "code",
   "execution_count": 15,
   "id": "982897fe-4e91-41f7-be06-d4066d0bdc3e",
   "metadata": {},
   "outputs": [],
   "source": [
    "disjoint_properties = []\n",
    "for disjoint in onto.disjoint_properties():\n",
    "    if isinstance(disjoint, AllDisjoint):\n",
    "        disjoint_properties.append(disjoint)\n",
    "\n",
    "all_disjoint_properties = []\n",
    "for disjoint in disjoint_properties:\n",
    "    all_disjoint_properties.append([cls.name for cls in disjoint.entities])"
   ]
  },
  {
   "cell_type": "raw",
   "id": "c90d620e-36e3-4758-be85-e965568ef597",
   "metadata": {},
   "source": [
    "functional_properties = []\n",
    "for prop in onto.object_properties():\n",
    "    if isinstance(prop, FunctionalProperty):\n",
    "        functional_properties.append(prop)\n",
    "\n",
    "for prop in functional_properties:\n",
    "    print(f\"Functional Object Property: {prop.name}\")"
   ]
  },
  {
   "cell_type": "markdown",
   "id": "3676690b-4924-4045-9932-7e0963792cdf",
   "metadata": {},
   "source": [
    "# 4. Results"
   ]
  },
  {
   "cell_type": "code",
   "execution_count": 16,
   "id": "fe72a515-07c1-4780-8c25-0e4372e68e82",
   "metadata": {},
   "outputs": [
    {
     "name": "stderr",
     "output_type": "stream",
     "text": [
      "  0%|                                                                                           | 0/48 [00:04<?, ?it/s]\n"
     ]
    },
    {
     "ename": "OutOfMemoryError",
     "evalue": "CUDA out of memory. Tried to allocate 1.03 GiB (GPU 0; 4.00 GiB total capacity; 2.25 GiB already allocated; 142.65 MiB free; 2.49 GiB reserved in total by PyTorch) If reserved memory is >> allocated memory try setting max_split_size_mb to avoid fragmentation.  See documentation for Memory Management and PYTORCH_CUDA_ALLOC_CONF",
     "output_type": "error",
     "traceback": [
      "\u001b[1;31m---------------------------------------------------------------------------\u001b[0m",
      "\u001b[1;31mOutOfMemoryError\u001b[0m                          Traceback (most recent call last)",
      "\u001b[1;32m~\\AppData\\Local\\Temp\\ipykernel_12944\\3105184241.py\u001b[0m in \u001b[0;36m<module>\u001b[1;34m\u001b[0m\n\u001b[0;32m      3\u001b[0m \u001b[1;32mfor\u001b[0m \u001b[0mnoise_percentage\u001b[0m \u001b[1;32min\u001b[0m \u001b[1;33m[\u001b[0m\u001b[1;36m0.25\u001b[0m\u001b[1;33m,\u001b[0m \u001b[1;36m0.5\u001b[0m\u001b[1;33m,\u001b[0m \u001b[1;36m0.75\u001b[0m\u001b[1;33m,\u001b[0m \u001b[1;36m1.0\u001b[0m\u001b[1;33m]\u001b[0m\u001b[1;33m:\u001b[0m\u001b[1;33m\u001b[0m\u001b[1;33m\u001b[0m\u001b[0m\n\u001b[0;32m      4\u001b[0m \u001b[1;33m\u001b[0m\u001b[0m\n\u001b[1;32m----> 5\u001b[1;33m     \u001b[0mnoisy_g_gnn\u001b[0m\u001b[1;33m,\u001b[0m \u001b[0mnew_g_gnn\u001b[0m \u001b[1;33m=\u001b[0m \u001b[0madd_triples_gnn\u001b[0m\u001b[1;33m(\u001b[0m\u001b[0mg\u001b[0m\u001b[1;33m,\u001b[0m \u001b[0mdata\u001b[0m\u001b[1;33m,\u001b[0m \u001b[0medge_types\u001b[0m\u001b[1;33m,\u001b[0m \u001b[0mnoise_percentage\u001b[0m\u001b[1;33m)\u001b[0m\u001b[1;33m\u001b[0m\u001b[1;33m\u001b[0m\u001b[0m\n\u001b[0m\u001b[0;32m      6\u001b[0m     \u001b[0mnoisy_g_gnn\u001b[0m\u001b[1;33m.\u001b[0m\u001b[0mserialize\u001b[0m\u001b[1;33m(\u001b[0m\u001b[0mdestination\u001b[0m\u001b[1;33m=\u001b[0m\u001b[1;34mf\"datasets/noise/{dataset_name}_noisy_gnn_{noise_percentage}.owl\"\u001b[0m\u001b[1;33m,\u001b[0m \u001b[0mformat\u001b[0m\u001b[1;33m=\u001b[0m\u001b[1;34m'xml'\u001b[0m\u001b[1;33m)\u001b[0m\u001b[1;33m\u001b[0m\u001b[1;33m\u001b[0m\u001b[0m\n\u001b[0;32m      7\u001b[0m \u001b[1;33m\u001b[0m\u001b[0m\n",
      "\u001b[1;32m~\\AppData\\Local\\Temp\\ipykernel_12944\\4202728872.py\u001b[0m in \u001b[0;36madd_triples_gnn\u001b[1;34m(g, data, edge_types, noise_percentage)\u001b[0m\n\u001b[0;32m     10\u001b[0m         \u001b[0moutput\u001b[0m \u001b[1;33m=\u001b[0m \u001b[0mmodel\u001b[0m\u001b[1;33m.\u001b[0m\u001b[0mmodel\u001b[0m\u001b[1;33m.\u001b[0m\u001b[0mencode\u001b[0m\u001b[1;33m(\u001b[0m\u001b[0medge_index\u001b[0m\u001b[1;33m.\u001b[0m\u001b[0mto\u001b[0m\u001b[1;33m(\u001b[0m\u001b[0mdevice\u001b[0m\u001b[1;33m)\u001b[0m\u001b[1;33m,\u001b[0m \u001b[0medge_type\u001b[0m\u001b[1;33m.\u001b[0m\u001b[0mto\u001b[0m\u001b[1;33m(\u001b[0m\u001b[0mdevice\u001b[0m\u001b[1;33m)\u001b[0m\u001b[1;33m)\u001b[0m\u001b[1;33m\u001b[0m\u001b[1;33m\u001b[0m\u001b[0m\n\u001b[0;32m     11\u001b[0m \u001b[1;33m\u001b[0m\u001b[0m\n\u001b[1;32m---> 12\u001b[1;33m         \u001b[0mlink_pred_scores\u001b[0m \u001b[1;33m=\u001b[0m \u001b[0mtorch\u001b[0m\u001b[1;33m.\u001b[0m\u001b[0mmatmul\u001b[0m\u001b[1;33m(\u001b[0m\u001b[0moutput\u001b[0m\u001b[1;33m,\u001b[0m \u001b[0moutput\u001b[0m\u001b[1;33m.\u001b[0m\u001b[0mT\u001b[0m\u001b[1;33m)\u001b[0m\u001b[1;33m\u001b[0m\u001b[1;33m\u001b[0m\u001b[0m\n\u001b[0m\u001b[0;32m     13\u001b[0m         \u001b[0moutput_norm\u001b[0m \u001b[1;33m=\u001b[0m \u001b[0mtorch\u001b[0m\u001b[1;33m.\u001b[0m\u001b[0mnorm\u001b[0m\u001b[1;33m(\u001b[0m\u001b[0moutput\u001b[0m\u001b[1;33m,\u001b[0m \u001b[0mdim\u001b[0m\u001b[1;33m=\u001b[0m\u001b[1;36m1\u001b[0m\u001b[1;33m,\u001b[0m \u001b[0mkeepdim\u001b[0m\u001b[1;33m=\u001b[0m\u001b[1;32mTrue\u001b[0m\u001b[1;33m)\u001b[0m\u001b[1;33m\u001b[0m\u001b[1;33m\u001b[0m\u001b[0m\n\u001b[0;32m     14\u001b[0m         \u001b[0mlink_pred_scores_norm\u001b[0m \u001b[1;33m=\u001b[0m \u001b[0mlink_pred_scores\u001b[0m \u001b[1;33m/\u001b[0m \u001b[1;33m(\u001b[0m\u001b[0moutput_norm\u001b[0m \u001b[1;33m*\u001b[0m \u001b[0moutput_norm\u001b[0m\u001b[1;33m.\u001b[0m\u001b[0mT\u001b[0m\u001b[1;33m)\u001b[0m\u001b[1;33m\u001b[0m\u001b[1;33m\u001b[0m\u001b[0m\n",
      "\u001b[1;31mOutOfMemoryError\u001b[0m: CUDA out of memory. Tried to allocate 1.03 GiB (GPU 0; 4.00 GiB total capacity; 2.25 GiB already allocated; 142.65 MiB free; 2.49 GiB reserved in total by PyTorch) If reserved memory is >> allocated memory try setting max_split_size_mb to avoid fragmentation.  See documentation for Memory Management and PYTORCH_CUDA_ALLOC_CONF"
     ]
    }
   ],
   "source": [
    "model = torch.load(f'models/RGCN_{dataset_name}')\n",
    "\n",
    "for noise_percentage in [0.25, 0.5, 0.75, 1.0]:\n",
    "\n",
    "    noisy_g_gnn, new_g_gnn = add_triples_gnn(g, data, edge_types, noise_percentage)\n",
    "    noisy_g_gnn.serialize(destination=f\"datasets/noise/{dataset_name}_noisy_gnn_{noise_percentage}.owl\", format='xml')\n",
    "    \n",
    "    noisy_g_random, new_g_random = add_triples_random(g, data, edge_types, noise_percentage)\n",
    "    noisy_g_random.serialize(destination=f\"datasets/noise/{dataset_name}_noisy_random_{noise_percentage}.owl\", format='xml')\n",
    "    \n",
    "    noisy_g_disjoint, new_g_disjoint = add_disjoint_axioms(g, noise_percentage)\n",
    "    noisy_g_disjoint.serialize(destination=f\"datasets/noise/{dataset_name}_noisy_disjoint_{noise_percentage}.owl\", format='xml')"
   ]
  },
  {
   "cell_type": "raw",
   "id": "a70187d6-6842-4705-92bb-8c28df35b7e9",
   "metadata": {},
   "source": [
    "for k in [100,1000]:\n",
    "    \n",
    "    new_g_gnn = rdflib.Graph()\n",
    "    new_g_gnn.parse(f\"datasets/{dataset_name}_noisy_gnn_{k}.owl\")\n",
    "\n",
    "    new_g_random = rdflib.Graph()\n",
    "    new_g_random.parse(f\"datasets/{dataset_name}_noisy_random_{k}.owl\")\n",
    "\n",
    "    query1, query2, query3, query4, query5, query6, query7 = get_queries()\n",
    "\n",
    "    print(f'Triplets found: %d' % len(new_g_gnn))\n",
    "    print('Contradictions:')\n",
    "    for q in [query1, query2, query3, query4, query5, query6, query7]:\n",
    "        print_result(new_g_gnn, q)\n",
    "\n",
    "    print(f'Triplets found: %d' % len(new_g_random))\n",
    "    print('Contradictions:')\n",
    "    for q in [query1, query2, query3, query4, query5, query6, query7]:\n",
    "        print_result(new_g_random, q)"
   ]
  }
 ],
 "metadata": {
  "kernelspec": {
   "display_name": "Python 3 (ipykernel)",
   "language": "python",
   "name": "python3"
  },
  "language_info": {
   "codemirror_mode": {
    "name": "ipython",
    "version": 3
   },
   "file_extension": ".py",
   "mimetype": "text/x-python",
   "name": "python",
   "nbconvert_exporter": "python",
   "pygments_lexer": "ipython3",
   "version": "3.8.16"
  }
 },
 "nbformat": 4,
 "nbformat_minor": 5
}
