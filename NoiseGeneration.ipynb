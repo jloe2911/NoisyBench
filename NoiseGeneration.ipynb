{
 "cells": [
  {
   "cell_type": "code",
   "execution_count": null,
   "id": "761fa5f2-c0ad-4fea-84bc-6ecbcf759d04",
   "metadata": {},
   "outputs": [],
   "source": [
    "import pandas as pd\n",
    "import numpy as np\n",
    "from tqdm import tqdm\n",
    "import time\n",
    "import torch\n",
    "from torch_geometric.utils import negative_sampling\n",
    "import rdflib\n",
    "from rdflib import RDF, Namespace, BNode\n",
    "from owlready2 import get_ontology, Thing, AllDisjoint, FunctionalProperty\n",
    "from sklearn.metrics import precision_score, recall_score, f1_score\n",
    "\n",
    "from src.utils import *\n",
    "from src.gnn import *\n",
    "from src.sparql_queries import *"
   ]
  },
  {
   "cell_type": "code",
   "execution_count": null,
   "id": "f479add1-d4dd-44ff-9119-cd18dd1edd91",
   "metadata": {},
   "outputs": [],
   "source": [
    "device = torch.device('cuda' if torch.cuda.is_available() else 'cpu')\n",
    "print(device)"
   ]
  },
  {
   "cell_type": "code",
   "execution_count": 3,
   "id": "4f51ef75-efba-4f30-8032-42ed4b0fc980",
   "metadata": {},
   "outputs": [],
   "source": [
    "#dataset_name = 'family'\n",
    "#dataset_name = 'pizza'\n",
    "dataset_name = 'OWL2DL-1'"
   ]
  },
  {
   "cell_type": "code",
   "execution_count": 4,
   "id": "da7b16e0-0fa3-4d0a-988d-4d2f1bc3cb40",
   "metadata": {},
   "outputs": [],
   "source": [
    "if dataset_name == 'family':\n",
    "    uri = Namespace(\"http://www.co-ode.org/roberts/family-tree.owl#\")\n",
    "elif dataset_name == 'pizza':\n",
    "    uri = Namespace(\"http://www.co-ode.org/ontologies/pizza/pizza.owl#\")\n",
    "elif dataset_name.startswith('OWL2DL-'):\n",
    "    uri = Namespace(\"http://benchmark/OWL2Bench#\")"
   ]
  },
  {
   "cell_type": "markdown",
   "id": "87df7d31-b741-44b4-a997-e17df3218285",
   "metadata": {},
   "source": [
    "# 1. Data"
   ]
  },
  {
   "cell_type": "code",
   "execution_count": null,
   "id": "182adee3-c4ac-4a76-9897-5b17c7f42b5f",
   "metadata": {},
   "outputs": [],
   "source": [
    "g = rdflib.Graph()\n",
    "g.parse(f'datasets/{dataset_name}.owl')\n",
    "num_triples = len(g)\n",
    "print(f'Triplets found in {dataset_name}.owl: %d' % num_triples)\n",
    "\n",
    "onto = get_ontology(f'datasets/{dataset_name}.owl').load()"
   ]
  },
  {
   "cell_type": "code",
   "execution_count": 6,
   "id": "c27b0c3a-2379-4ce2-8c29-f75430d64d40",
   "metadata": {},
   "outputs": [],
   "source": [
    "relations = list(set(g.predicates()))\n",
    "nodes = list(set(g.subjects()).union(set(g.objects())))\n",
    "\n",
    "relations_dict = {rel: i for i, rel in enumerate(relations)}\n",
    "nodes_dict = {node: i for i, node in enumerate(nodes)}\n",
    "\n",
    "nodes_dict_rev = {value: key for key, value in nodes_dict.items()}\n",
    "relations_dict_rev = {value: key for key, value in relations_dict.items()}"
   ]
  },
  {
   "cell_type": "code",
   "execution_count": 7,
   "id": "f51d2d9a-ca9a-49bc-a6ce-de64cb017415",
   "metadata": {},
   "outputs": [],
   "source": [
    "data = get_data(g, nodes_dict, relations_dict)\n",
    "data = split_edges(data)"
   ]
  },
  {
   "cell_type": "code",
   "execution_count": null,
   "id": "9c9a71d9-df0a-4987-a2ad-eded19f4b5bd",
   "metadata": {},
   "outputs": [],
   "source": [
    "data"
   ]
  },
  {
   "cell_type": "markdown",
   "id": "fbd34f1e-e8ed-41cb-ade2-598e51112aba",
   "metadata": {},
   "source": [
    "# 2. GNN"
   ]
  },
  {
   "cell_type": "markdown",
   "id": "b4c27ccc-782b-4e6f-813f-10a72e01f989",
   "metadata": {},
   "source": [
    "**Train**"
   ]
  },
  {
   "cell_type": "code",
   "execution_count": null,
   "id": "3ad75650-5fe6-4014-be3b-8c90272091bc",
   "metadata": {},
   "outputs": [],
   "source": [
    "st = time.time()\n",
    "model = GNN(device, len(nodes), len(relations))\n",
    "\n",
    "for epoch in range(10+1):\n",
    "    loss = model._train(data.to(device))\n",
    "    print(f'Epoch: {epoch}, Loss: {loss:.4f}')\n",
    "\n",
    "torch.save(model, f'models/RGCN_{dataset_name}')\n",
    "et = time.time()\n",
    "elapsed_time = et - st\n",
    "print(f'Run time: {elapsed_time:.0f} seconds, {elapsed_time/60:.0f} minutes')"
   ]
  },
  {
   "cell_type": "markdown",
   "id": "e3695fb2-fc34-4c40-acec-10cf70f9a7e9",
   "metadata": {},
   "source": [
    "**Eval**"
   ]
  },
  {
   "cell_type": "code",
   "execution_count": null,
   "id": "477909fa-bce0-499c-bd3a-98f42897aa88",
   "metadata": {},
   "outputs": [],
   "source": [
    "#model = torch.load(f'models/RGCN_{dataset_name}')\n",
    "#mrr, mean_rank, median_rank, hits_at_5, hits_at_10 = model._eval(data.to(device))\n",
    "#print(f'MRR: {mrr:.3f}, Mean Rank: {mean_rank:.3f}, Median Rank: {median_rank:.3f}, Hits@5: {hits_at_5:.3f}, Hits@10: {hits_at_10:.3f}')"
   ]
  },
  {
   "cell_type": "markdown",
   "id": "e038ffe5-3423-49df-bd62-f69964b062d4",
   "metadata": {},
   "source": [
    "# 3. Noise Generation"
   ]
  },
  {
   "cell_type": "code",
   "execution_count": 9,
   "id": "fd6dce78-838f-4f8c-9f1a-28a21d090387",
   "metadata": {},
   "outputs": [],
   "source": [
    "keys = [rel for rel in relations if not rel.startswith('http://www.w3.org/')]\n",
    "edge_types = [relations_dict[key] for key in keys]"
   ]
  },
  {
   "cell_type": "code",
   "execution_count": 10,
   "id": "eec6a5ab-bbd7-413f-b8fb-f5e26c22921c",
   "metadata": {},
   "outputs": [],
   "source": [
    "individuals = []\n",
    "\n",
    "qres = g.query(\"\"\"\n",
    "PREFIX owl: <http://www.w3.org/2002/07/owl#>\n",
    "PREFIX rdf: <http://www.w3.org/1999/02/22-rdf-syntax-ns#>\n",
    "PREFIX rdfs: <http://www.w3.org/2000/01/rdf-schema#>\n",
    "SELECT ?s WHERE {\n",
    " ?s rdf:type owl:NamedIndividual .\n",
    "}\n",
    "\"\"\")\n",
    "\n",
    "for row in qres:\n",
    "    individuals.append(row.s)\n",
    "\n",
    "individual_id = [nodes_dict[individual] for individual in individuals]\n",
    "individual_names = [nodes_dict_rev[individual_id] for individual_id in individual_id]\n",
    "individual_names_dict = dict(zip(list(set(np.arange(len(individual_id)))), individual_names))"
   ]
  },
  {
   "cell_type": "markdown",
   "id": "2fae62b8-d00d-4593-b777-cbc253abf2e0",
   "metadata": {},
   "source": [
    "## 3.1. GNN: we add k triples with a low prediction score to the ontology"
   ]
  },
  {
   "cell_type": "code",
   "execution_count": null,
   "id": "4c4dcc0c-2c24-499b-a3b3-77bc5814aba1",
   "metadata": {},
   "outputs": [],
   "source": [
    "def add_triples_gnn(g, data, edge_types, noise_percentage):\n",
    "    k = int((noise_percentage * num_triples) / len(edge_types))\n",
    "    noisy_g_gnn = rdflib.Graph()\n",
    "    new_g_gnn = copy_graph(g)\n",
    "    for etype in tqdm(edge_types):   \n",
    "        mask = data.edge_type == etype\n",
    "        edge_index = torch.tensor([data.edge_index[0,mask].tolist(),data.edge_index[1,mask].tolist()])\n",
    "        edge_type = data.edge_type[mask]\n",
    "\n",
    "        output = model.model.encode(edge_index.to(device), edge_type.to(device))\n",
    "\n",
    "        link_pred_scores = torch.matmul(output, output.T)\n",
    "        output_norm = torch.norm(output, dim=1, keepdim=True)\n",
    "        link_pred_scores_norm = link_pred_scores / (output_norm * output_norm.T)\n",
    "        \n",
    "        # We do not want to generate links that already exists\n",
    "        # We want the subject and object to be an individual \n",
    "        link_pred_scores_norm[edge_index[0,:],edge_index[1,:]] = 1\n",
    "        subset = link_pred_scores_norm[individual_id][:, individual_id]\n",
    "\n",
    "        # Find the indices of the top k smallest elements\n",
    "        _, topk_indices = torch.topk(subset.flatten(), k*2, largest=False)\n",
    "        row_indices = topk_indices // subset.size(1)\n",
    "        col_indices = topk_indices % subset.size(1)\n",
    "\n",
    "        # Filter out indices where row index is greater than column index\n",
    "        valid_indices_mask = row_indices < col_indices\n",
    "        row_indices = row_indices[valid_indices_mask]\n",
    "        col_indices = col_indices[valid_indices_mask]\n",
    "        \n",
    "        # Add generated triples\n",
    "        node1_lst = [individual_names_dict[key] for key in row_indices.tolist()]\n",
    "        node2_lst = [individual_names_dict[key] for key in col_indices.tolist()]\n",
    "        edge_type_uri = relations_dict_rev[etype]\n",
    "        noisy_g_gnn = add_links(noisy_g_gnn, node1_lst, node2_lst, edge_type_uri)\n",
    "        new_g_gnn = add_links(new_g_gnn, node1_lst, node2_lst, edge_type_uri)\n",
    "        \n",
    "    return noisy_g_gnn, new_g_gnn"
   ]
  },
  {
   "cell_type": "markdown",
   "id": "da772b78-efc7-4218-867e-fce6407fae7a",
   "metadata": {},
   "source": [
    "## 3.2. Random: we add k random triples to the ontology"
   ]
  },
  {
   "cell_type": "code",
   "execution_count": 87,
   "id": "48ff7cf7",
   "metadata": {},
   "outputs": [],
   "source": [
    "def add_triples_random(g, data, edge_types, noise_percentage):\n",
    "    k = int((noise_percentage * num_triples) / len(edge_types))\n",
    "    noisy_g_random = rdflib.Graph()\n",
    "    new_g_random = copy_graph(g)\n",
    "    for etype in tqdm(edge_types):   \n",
    "        mask = data.edge_type == etype\n",
    "        edge_index = torch.tensor([data.edge_index[0,mask].tolist(),data.edge_index[1,mask].tolist()])\n",
    "\n",
    "        # We do not want to generate links that already exists\n",
    "        # We want the subject and object to be to be an individual \n",
    "        num_neg_samples = 0\n",
    "        candidate_heads = []\n",
    "        candidate_tails = []\n",
    "        new_individual_id = individual_id * (int(k/len(individual_id)) + 1)\n",
    "        heads = new_individual_id.copy()\n",
    "        tails = new_individual_id.copy()\n",
    "        random.shuffle(heads)\n",
    "        random.shuffle(tails)\n",
    "        \n",
    "        while num_neg_samples < k:    \n",
    "            h = heads[num_neg_samples]\n",
    "            t = tails[num_neg_samples]\n",
    "            if h not in edge_index[0] or t not in edge_index[1]:\n",
    "                candidate_heads.append(h)\n",
    "                candidate_tails.append(t)\n",
    "            num_neg_samples += 1\n",
    "        \n",
    "        # Add generated triples\n",
    "        node1_lst = [nodes_dict_rev[key] for key in candidate_heads]\n",
    "        node2_lst = [nodes_dict_rev[key] for key in candidate_tails]\n",
    "        edge_type_uri = relations_dict_rev[etype]\n",
    "        noisy_g_random = add_links(noisy_g_random, node1_lst, node2_lst, edge_type_uri)\n",
    "        new_g_random = add_links(new_g_random, node1_lst, node2_lst, edge_type_uri)\n",
    "\n",
    "    return noisy_g_random, new_g_random"
   ]
  },
  {
   "cell_type": "markdown",
   "id": "7bc41e03-83f1-47a9-bb9e-db0f20d6fe18",
   "metadata": {},
   "source": [
    "## 3.3. DL: we add individuals to the ontology that belong to disjoint classes/properties"
   ]
  },
  {
   "cell_type": "code",
   "execution_count": 132,
   "id": "678fb56e-e666-4177-bb7f-0029c42ee739",
   "metadata": {},
   "outputs": [],
   "source": [
    "def add_disjoint_axioms(g, all_disjoint_classes, all_disjoint_properties, noise_percentage):\n",
    "    k = int((noise_percentage * num_triples)/2)\n",
    "    noisy_g_disjoint = rdflib.Graph()\n",
    "    new_g_disjoint = copy_graph(g)\n",
    "    \n",
    "    #classes\n",
    "    num_samples_c = 0 \n",
    "    while num_samples_c <= k:\n",
    "        for disjoint_classes in all_disjoint_classes:\n",
    "            try: individual = individual_names[num_samples_c]\n",
    "            except IndexError: individual = uri[f'I{num_samples_c}']\n",
    "            for class_ in disjoint_classes: \n",
    "                noisy_g_disjoint.add((individual, RDF.type, uri[class_]))\n",
    "                new_g_disjoint.add((individual, RDF.type, uri[class_]))\n",
    "                num_samples_c += 1\n",
    "                \n",
    "    #properties\n",
    "    for disjoint_properties in all_disjoint_properties:\n",
    "        prop1, prop2 = disjoint_properties\n",
    "        prop1_lst = list(g.triples((None, uri[prop1], None)))\n",
    "        prop2_lst = list(g.triples((None, uri[prop2], None)))\n",
    "        \n",
    "        j=0\n",
    "        while j < int((k/len(all_disjoint_properties))):\n",
    "            try: \n",
    "                noisy_g_disjoint.add((prop1_lst[j][0], uri[prop2], prop1_lst[j][2]))\n",
    "                noisy_g_disjoint.add((prop2_lst[j][0], uri[prop1], prop2_lst[j][2]))\n",
    "                new_g_disjoint.add((prop1_lst[j][0], uri[prop2], prop1_lst[j][2]))\n",
    "                new_g_disjoint.add((prop2_lst[j][0], uri[prop1], prop2_lst[j][2]))\n",
    "            except IndexError:\n",
    "                noisy_g_disjoint.add((uri[f'S{j}P1'], uri[prop2], uri[f'O{j}P1']))\n",
    "                noisy_g_disjoint.add((uri[f'S{j}P2'], uri[prop1], uri[f'O{j}P2']))\n",
    "                new_g_disjoint.add((uri[f'S{j}P1'], uri[prop2], uri[f'O{j}P1']))\n",
    "                new_g_disjoint.add((uri[f'S{j}P2'], uri[prop1], uri[f'O{j}P2']))\n",
    "            j+=2\n",
    "\n",
    "    return noisy_g_disjoint, new_g_disjoint"
   ]
  },
  {
   "cell_type": "markdown",
   "id": "bf7835df-26ca-45dc-991a-d826b24b5d51",
   "metadata": {},
   "source": [
    "**Extracting Disjoint Class Axioms**"
   ]
  },
  {
   "cell_type": "code",
   "execution_count": 90,
   "id": "be0b95d2-0a69-4d44-9a5a-d0d273fce43e",
   "metadata": {},
   "outputs": [],
   "source": [
    "disjoint_classes = []\n",
    "for disjoint in onto.disjoint_classes():\n",
    "    if isinstance(disjoint, AllDisjoint):\n",
    "        disjoint_classes.append(disjoint)\n",
    "\n",
    "all_disjoint_classes = []\n",
    "for disjoint in disjoint_classes:\n",
    "    all_disjoint_classes.append([cls.name for cls in disjoint.entities])"
   ]
  },
  {
   "cell_type": "markdown",
   "id": "84598a6f-8305-40c9-9927-15a75e06f7d1",
   "metadata": {},
   "source": [
    "**Extracting Disjoint Property Axioms**"
   ]
  },
  {
   "cell_type": "code",
   "execution_count": 91,
   "id": "982897fe-4e91-41f7-be06-d4066d0bdc3e",
   "metadata": {},
   "outputs": [],
   "source": [
    "disjoint_properties = []\n",
    "for disjoint in onto.disjoint_properties():\n",
    "    if isinstance(disjoint, AllDisjoint):\n",
    "        disjoint_properties.append(disjoint)\n",
    "\n",
    "all_disjoint_properties = []\n",
    "for disjoint in disjoint_properties:\n",
    "    all_disjoint_properties.append([cls.name for cls in disjoint.entities])"
   ]
  },
  {
   "cell_type": "raw",
   "id": "c90d620e-36e3-4758-be85-e965568ef597",
   "metadata": {},
   "source": [
    "functional_properties = []\n",
    "for prop in onto.object_properties():\n",
    "    if isinstance(prop, FunctionalProperty):\n",
    "        functional_properties.append(prop)\n",
    "\n",
    "for prop in functional_properties:\n",
    "    print(f\"Functional Object Property: {prop.name}\")"
   ]
  },
  {
   "cell_type": "markdown",
   "id": "3676690b-4924-4045-9932-7e0963792cdf",
   "metadata": {},
   "source": [
    "# 4. Results"
   ]
  },
  {
   "cell_type": "code",
   "execution_count": null,
   "id": "fe72a515-07c1-4780-8c25-0e4372e68e82",
   "metadata": {},
   "outputs": [],
   "source": [
    "model = torch.load(f'models/RGCN_{dataset_name}')\n",
    "\n",
    "for noise_percentage in [0.25, 0.5, 0.75, 1.0]:\n",
    "\n",
    "    noisy_g_gnn, new_g_gnn = add_triples_gnn(g, data, edge_types, noise_percentage)\n",
    "    noisy_g_gnn.serialize(destination=f\"datasets/noise/{dataset_name}_noisy_gnn_{noise_percentage}.owl\", format='xml')\n",
    "    \n",
    "    noisy_g_random, new_g_random = add_triples_random(g, data, edge_types, noise_percentage)\n",
    "    noisy_g_random.serialize(destination=f\"datasets/noise/{dataset_name}_noisy_random_{noise_percentage}.owl\", format='xml')\n",
    "    \n",
    "    noisy_g_disjoint, new_g_disjoint = add_disjoint_axioms(g, all_disjoint_classes, all_disjoint_properties, noise_percentage)\n",
    "    noisy_g_disjoint.serialize(destination=f\"datasets/noise/{dataset_name}_noisy_disjoint_{noise_percentage}.owl\", format='xml')"
   ]
  },
  {
   "cell_type": "raw",
   "id": "a70187d6-6842-4705-92bb-8c28df35b7e9",
   "metadata": {},
   "source": [
    "for k in [100,1000]:\n",
    "    \n",
    "    new_g_gnn = rdflib.Graph()\n",
    "    new_g_gnn.parse(f\"datasets/{dataset_name}_noisy_gnn_{k}.owl\")\n",
    "\n",
    "    new_g_random = rdflib.Graph()\n",
    "    new_g_random.parse(f\"datasets/{dataset_name}_noisy_random_{k}.owl\")\n",
    "\n",
    "    query1, query2, query3, query4, query5, query6, query7 = get_queries()\n",
    "\n",
    "    print(f'Triplets found: %d' % len(new_g_gnn))\n",
    "    print('Contradictions:')\n",
    "    for q in [query1, query2, query3, query4, query5, query6, query7]:\n",
    "        print_result(new_g_gnn, q)\n",
    "\n",
    "    print(f'Triplets found: %d' % len(new_g_random))\n",
    "    print('Contradictions:')\n",
    "    for q in [query1, query2, query3, query4, query5, query6, query7]:\n",
    "        print_result(new_g_random, q)"
   ]
  }
 ],
 "metadata": {
  "kernelspec": {
   "display_name": "Python 3",
   "language": "python",
   "name": "python3"
  },
  "language_info": {
   "codemirror_mode": {
    "name": "ipython",
    "version": 3
   },
   "file_extension": ".py",
   "mimetype": "text/x-python",
   "name": "python",
   "nbconvert_exporter": "python",
   "pygments_lexer": "ipython3",
   "version": "3.10.12"
  }
 },
 "nbformat": 4,
 "nbformat_minor": 5
}
